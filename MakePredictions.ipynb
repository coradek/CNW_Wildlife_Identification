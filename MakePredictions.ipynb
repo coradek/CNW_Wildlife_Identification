{
 "cells": [
  {
   "cell_type": "code",
   "execution_count": 1,
   "metadata": {
    "collapsed": false
   },
   "outputs": [],
   "source": [
    "import src.data_pipeline as dpl\n",
    "import src.fsm as fsm # IN MASTER Change fsm2 to fsm\n",
    "import src.predict_one as p_1\n",
    "import src.evaluator as ev\n",
    "%matplotlib inline"
   ]
  },
  {
   "cell_type": "markdown",
   "metadata": {},
   "source": [
    "# Data Preparation\n",
    "\n",
    "### If you would like to train this model on your own images uncomment and run the two cells below\n",
    "\n",
    "<br>\n",
    "The data pipeline for this project can handle photos in one directory or in nested directories. But images need to have labels in the IPTC metadata keyword field. This can be set via most photo editing software.\n",
    "\n",
    "<br>\n",
    "Current Categories, and valid keywords:\n",
    "* Ungulate (hooved animals): mule deer, White-tailed deer, elk\n",
    "* Feline: bobcat, Canada lynx, cougar, mountain lion\n",
    "* Hare: snowshoe hare\n",
    "* Canine: coyote, domestic dog\n",
    "* Small: mouse, red squirrel, Robin, bird, northern flying squirre, Squirrel (unidentified), chipmunk, Squirrel\n",
    "* Other: unidentified, Camera Check, sheep, hoary marmot, striped skunk, skunk, Wolverine, \"[]\"(blank), human, Black Bear\n",
    "\n",
    "<br>\n",
    "For the time being these categories are hard coded, and must be adjusted in fsm2.py"
   ]
  },
  {
   "cell_type": "code",
   "execution_count": null,
   "metadata": {
    "collapsed": true
   },
   "outputs": [],
   "source": [
    "# dpl.process_photos(\"path/to/dir/of/photos\")"
   ]
  },
  {
   "cell_type": "code",
   "execution_count": null,
   "metadata": {
    "collapsed": true
   },
   "outputs": [],
   "source": [
    "# # Prepare Data: \n",
    "# F,L,paths = fsm.prep_data('Wildlife_ID_Data', drop_hare=True)"
   ]
  },
  {
   "cell_type": "markdown",
   "metadata": {},
   "source": [
    "# Make a Prediction for one image\n",
    "### Try out the model on your own images!"
   ]
  },
  {
   "cell_type": "code",
   "execution_count": 2,
   "metadata": {
    "collapsed": true
   },
   "outputs": [],
   "source": [
    "# This function combines predict_one.predict() and evaluator.plot_probs()\n",
    "# in a format convenient for jupyter notebooks\n",
    "def pred_and_plot(photo):\n",
    "    prediction = p_1.predict(photo)\n",
    "    ev.plot_probs(prediction)\n",
    "    return prediction"
   ]
  },
  {
   "cell_type": "code",
   "execution_count": null,
   "metadata": {
    "collapsed": true
   },
   "outputs": [],
   "source": [
    "# result = pred_and_plot('Path/To/Photo.JPG')"
   ]
  },
  {
   "cell_type": "code",
   "execution_count": 4,
   "metadata": {
    "collapsed": false
   },
   "outputs": [
    {
     "name": "stdout",
     "output_type": "stream",
     "text": [
      "Processing data/misty_deer.JPG...\n",
      "prediction prepared\n",
      "     groups     probs\n",
      "0    Canine  0.000966\n",
      "1    Feline  0.001162\n",
      "2     Other  0.003604\n",
      "3     Small  0.006378\n",
      "4  Ungulate  0.987890\n"
     ]
    },
    {
     "data": {
      "image/png": "[encoded data removed]",
      "text/plain": [
       "<matplotlib.figure.Figure at 0x130ccfc90>"
      ]
     },
     "metadata": {},
     "output_type": "display_data"
    }
   ],
   "source": [
    "result = pred_and_plot('data/misty_deer.JPG')"
   ]
  },
  {
   "cell_type": "code",
   "execution_count": null,
   "metadata": {
    "collapsed": false
   },
   "outputs": [],
   "source": []
  }
 ],
 "metadata": {
  "anaconda-cloud": {},
  "kernelspec": {
   "display_name": "Python [Root]",
   "language": "python",
   "name": "Python [Root]"
  },
  "language_info": {
   "codemirror_mode": {
    "name": "ipython",
    "version": 2
   },
   "file_extension": ".py",
   "mimetype": "text/x-python",
   "name": "python",
   "nbconvert_exporter": "python",
   "pygments_lexer": "ipython2",
   "version": "2.7.12"
  }
 },
 "nbformat": 4,
 "nbformat_minor": 0
}
