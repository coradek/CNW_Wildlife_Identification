{
 "cells": [
  {
   "cell_type": "markdown",
   "metadata": {},
   "source": [
    "# Find Duplicate Photos"
   ]
  },
  {
   "cell_type": "code",
   "execution_count": 1,
   "metadata": {
    "collapsed": true
   },
   "outputs": [],
   "source": [
    "from src.data_pipeline import DataManager as DM\n",
    "import src.metadata_handler as mh\n",
    "%matplotlib inline"
   ]
  },
  {
   "cell_type": "code",
   "execution_count": 2,
   "metadata": {
    "collapsed": false
   },
   "outputs": [],
   "source": [
    "import Image\n",
    "from iptcinfo import IPTCInfo, c_datasets\n",
    "import os\n",
    "import sys\n",
    "import hashlib\n",
    "from collections import defaultdict\n",
    "import struct\n"
   ]
  },
  {
   "cell_type": "markdown",
   "metadata": {},
   "source": [
    "## Methods"
   ]
  },
  {
   "cell_type": "code",
   "execution_count": 3,
   "metadata": {
    "collapsed": true
   },
   "outputs": [],
   "source": [
    "def _hash_jpeg(fh):\n",
    "    # thank you stack overflow (with minor edits): \n",
    "    # http://stackoverflow.com/questions/10075065/compute-hash-of-only-the-core-image-data-excluding-metadata-for-an-image\n",
    "    _hash =  hashlib.sha1()\n",
    "    # _hash = hashlib.md5()\n",
    "    assert fh.read(2) == \"\\xff\\xd8\"\n",
    "    while True:\n",
    "        marker,length = struct.unpack(\">2H\", fh.read(4))\n",
    "        assert marker & 0xff00 == 0xff00\n",
    "        if marker == 0xFFDA: # Start of stream\n",
    "            _hash.update(fh.read())\n",
    "            break\n",
    "        else:\n",
    "            fh.seek(length-2, os.SEEK_CUR)\n",
    "    return _hash.hexdigest()\n",
    "\n",
    "def printhash(file_path):\n",
    "    with open(file_path) as fh:\n",
    "        print _hash_jpeg(fh)\n",
    "\n",
    "def find_duplicates(directory):\n",
    "    # return a list of lists of duplicates\n",
    "    duplicate_dict = defaultdict(list)\n",
    "    for p, dirs, files in os.walk(directory):\n",
    "        for ff in files:\n",
    "            if ff[-4:].lower() == '.jpg':\n",
    "                file_path = os.path.join(p,ff)\n",
    "                with open(file_path) as fh:\n",
    "                    duplicate_dict[_hash_jpeg(fh)].append(file_path)    \n",
    "    return [v for v in duplicate_dict.itervalues() if len(v) > 1]\n",
    "\n"
   ]
  },
  {
   "cell_type": "code",
   "execution_count": 6,
   "metadata": {
    "collapsed": false
   },
   "outputs": [
    {
     "name": "stdout",
     "output_type": "stream",
     "text": [
      "4dd5fb0d9c96a4134f53f722458e34624f38ce53\n",
      "CPU times: user 3.2 s, sys: 290 ms, total: 3.49 s\n",
      "Wall time: 3.55 s\n"
     ]
    }
   ],
   "source": [
    "%%time\n",
    "image = Image.open('data/first_sample/EK000004-2.JPG')\n",
    "pixels = str(list(image.getdata()))\n",
    "\n",
    "hash_img = hashlib.sha1(pixels)\n",
    "hex_dig = hash_img.hexdigest()\n",
    "\n",
    "print hex_dig"
   ]
  },
  {
   "cell_type": "code",
   "execution_count": 5,
   "metadata": {
    "collapsed": false
   },
   "outputs": [
    {
     "name": "stdout",
     "output_type": "stream",
     "text": [
      "3a6b5be86fdf3c956bb4c6c0d6e6491a55938d2f\n",
      "CPU times: user 1.9 ms, sys: 1.62 ms, total: 3.52 ms\n",
      "Wall time: 2.61 ms\n"
     ]
    }
   ],
   "source": [
    "%%time\n",
    "printhash('data/first_sample/EK000004-2.JPG')"
   ]
  },
  {
   "cell_type": "markdown",
   "metadata": {},
   "source": [
    "## Testing"
   ]
  },
  {
   "cell_type": "code",
   "execution_count": null,
   "metadata": {
    "collapsed": true
   },
   "outputs": [],
   "source": [
    "testdupes = ['data/first_sample/EK000010.JPG', \n",
    "         'data/first_sample/EK000004.JPG', \n",
    "         'data/first_sample/EK000004-2.JPG', \n",
    "         'data/first_sample/EK000004 copy.JPG']   "
   ]
  },
  {
   "cell_type": "code",
   "execution_count": null,
   "metadata": {
    "collapsed": false
   },
   "outputs": [],
   "source": [
    "# %%time\n",
    "# for item in testdupes:\n",
    "#     printhash(item)"
   ]
  },
  {
   "cell_type": "code",
   "execution_count": null,
   "metadata": {
    "collapsed": false
   },
   "outputs": [],
   "source": [
    "%%time\n",
    "duplicates = find_duplicates('data/second_sample/')"
   ]
  },
  {
   "cell_type": "code",
   "execution_count": 7,
   "metadata": {
    "collapsed": false
   },
   "outputs": [],
   "source": [
    "zephy1 = IPTCInfo('data/zephy1.jpg')\n",
    "zephy2 = IPTCInfo('data/zephy2.jpg')"
   ]
  },
  {
   "cell_type": "code",
   "execution_count": null,
   "metadata": {
    "collapsed": false
   },
   "outputs": [],
   "source": [
    "# zephy1.data['caption/abstract'] = \"Data Scientist and his (wife's) dog!\"\n",
    "# zephy1.data['keywords'].append('canine')\n",
    "# zephy1.data['keywords'].append('homo sapien')\n",
    "# zephy1.save()"
   ]
  },
  {
   "cell_type": "code",
   "execution_count": 8,
   "metadata": {
    "collapsed": false
   },
   "outputs": [
    {
     "name": "stdout",
     "output_type": "stream",
     "text": [
      "charset: None\n",
      "{'original transmission reference': 'fXp-KYJdAwxGlEsyU0AM', 'supplemental category': [], 'contact': [], 'special instructions': 'FBMD01000a9a0d0000775c0000ffb100000eb3000040b6000088e50000f9730100a78c0100aa9201009c9b010051b20200', 'keywords': ['canine', 'homo sapien'], 'caption/abstract': \"Data Scientist and his (wife's) dog!\"}\n",
      "\n",
      "charset: None\n",
      "{'keywords': [], 'original transmission reference': 'fXp-KYJdAwxGlEsyU0AM', 'supplemental category': [], 'special instructions': 'FBMD01000a9a0d0000775c0000ffb100000eb3000040b6000088e50000f9730100a78c0100aa9201009c9b010051b20200', 'contact': []}\n"
     ]
    }
   ],
   "source": [
    "print zephy1\n",
    "print\n",
    "print zephy2"
   ]
  },
  {
   "cell_type": "code",
   "execution_count": 9,
   "metadata": {
    "collapsed": false
   },
   "outputs": [
    {
     "name": "stdout",
     "output_type": "stream",
     "text": [
      "17f65583d4b3d6485eb5b25273811c2dc592437e\n",
      "17f65583d4b3d6485eb5b25273811c2dc592437e\n"
     ]
    }
   ],
   "source": [
    "printhash('data/zephy1.jpg')\n",
    "printhash('data/zephy2.jpg')"
   ]
  },
  {
   "cell_type": "code",
   "execution_count": null,
   "metadata": {
    "collapsed": true
   },
   "outputs": [],
   "source": []
  }
 ],
 "metadata": {
  "kernelspec": {
   "display_name": "Python [Root]",
   "language": "python",
   "name": "Python [Root]"
  },
  "language_info": {
   "codemirror_mode": {
    "name": "ipython",
    "version": 2
   },
   "file_extension": ".py",
   "mimetype": "text/x-python",
   "name": "python",
   "nbconvert_exporter": "python",
   "pygments_lexer": "ipython2",
   "version": "2.7.12"
  }
 },
 "nbformat": 4,
 "nbformat_minor": 0
}
