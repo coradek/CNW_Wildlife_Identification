{
 "cells": [
  {
   "cell_type": "markdown",
   "metadata": {
    "collapsed": true
   },
   "source": [
    "# Create DataFrame for Neural Network using Spark"
   ]
  },
  {
   "cell_type": "code",
   "execution_count": 1,
   "metadata": {
    "collapsed": true
   },
   "outputs": [],
   "source": [
    "import pyspark as ps    # for the pyspark suite\n",
    "import warnings         # for displaying warning\n",
    "\n",
    "from pyspark.sql import functions as F\n",
    "from pyspark.sql.types import DoubleType, ArrayType, StringType"
   ]
  },
  {
   "cell_type": "code",
   "execution_count": 2,
   "metadata": {
    "collapsed": false
   },
   "outputs": [
    {
     "name": "stderr",
     "output_type": "stream",
     "text": [
      "/Users/ophidian/anaconda/lib/python2.7/site-packages/ipykernel/__main__.py:7: UserWarning: SparkContext already exists in this scope\n"
     ]
    }
   ],
   "source": [
    "try:\n",
    "    # we try to create a SparkContext to work locally on all cpus available\n",
    "    sc = ps.SparkContext('local[4]')\n",
    "    print(\"Just created a SparkContext\")\n",
    "except ValueError:\n",
    "    # give a warning if SparkContext already exists (for use inside pyspark)\n",
    "    warnings.warn(\"SparkContext already exists in this scope\")"
   ]
  },
  {
   "cell_type": "code",
   "execution_count": 3,
   "metadata": {
    "collapsed": true
   },
   "outputs": [],
   "source": [
    "# Just for checking the original df \n",
    "import pandas as pd\n",
    "import numpy as np"
   ]
  },
  {
   "cell_type": "code",
   "execution_count": 4,
   "metadata": {
    "collapsed": false
   },
   "outputs": [],
   "source": [
    "sqlContext = ps.SQLContext(sc)\n",
    "raw_df = sqlContext.read.csv('data/metadata.csv', header=True)"
   ]
  },
  {
   "cell_type": "code",
   "execution_count": 5,
   "metadata": {
    "collapsed": false
   },
   "outputs": [
    {
     "name": "stdout",
     "output_type": "stream",
     "text": [
      "root\n",
      " |-- _c0: string (nullable = true)\n",
      " |-- by_line: string (nullable = true)\n",
      " |-- caption_abstract: string (nullable = true)\n",
      " |-- contact: string (nullable = true)\n",
      " |-- copyright_notice: string (nullable = true)\n",
      " |-- date_created: string (nullable = true)\n",
      " |-- file_path: string (nullable = true)\n",
      " |-- keywords: string (nullable = true)\n",
      " |-- object_name: string (nullable = true)\n",
      " |-- sub_location: string (nullable = true)\n",
      " |-- supplemental_category: string (nullable = true)\n",
      " |-- time_created: string (nullable = true)\n",
      "\n"
     ]
    }
   ],
   "source": [
    "raw_df.printSchema()"
   ]
  },
  {
   "cell_type": "code",
   "execution_count": null,
   "metadata": {
    "collapsed": true
   },
   "outputs": [],
   "source": []
  },
  {
   "cell_type": "code",
   "execution_count": 6,
   "metadata": {
    "collapsed": false
   },
   "outputs": [
    {
     "name": "stdout",
     "output_type": "stream",
     "text": [
      "+---+------------+------------+--------------------+-----------------+--------------------+\n",
      "|_c0|time_created|date_created|    copyright_notice|         keywords|           file_path|\n",
      "+---+------------+------------+--------------------+-----------------+--------------------+\n",
      "|  0|        null|        null|                null|[u'camera check']|Grizzly Bear Targ...|\n",
      "|  1|        null|        null|                null|[u'camera check']|Grizzly Bear Targ...|\n",
      "|  2|        null|        null|                null|[u'camera check']|Grizzly Bear Targ...|\n",
      "|  3|        null|        null|                null|[u'camera check']|Grizzly Bear Targ...|\n",
      "|  4|        null|        null|                null|[u'camera check']|Grizzly Bear Targ...|\n",
      "|  5|        null|        null|                null|[u'camera check']|Grizzly Bear Targ...|\n",
      "|  6|        null|        null|                null|[u'camera check']|Grizzly Bear Targ...|\n",
      "|  7|        null|        null|                null|[u'camera check']|Grizzly Bear Targ...|\n",
      "|  8|        null|        null|                null|  [u'Black Bear']|Grizzly Bear Targ...|\n",
      "|  9|        null|        null|                null|  [u'Black Bear']|Grizzly Bear Targ...|\n",
      "| 10|        null|        null|                null|  [u'Black Bear']|Grizzly Bear Targ...|\n",
      "| 11|        null|        null|                null|  [u'Black Bear']|Grizzly Bear Targ...|\n",
      "| 12|        null|        null|                null|  [u'Black Bear']|Grizzly Bear Targ...|\n",
      "| 13|        null|        null|                null|  [u'Black Bear']|Grizzly Bear Targ...|\n",
      "| 14|        null|        null|                null|  [u'Black Bear']|Grizzly Bear Targ...|\n",
      "| 15|        null|        null|                null|  [u'Black Bear']|Grizzly Bear Targ...|\n",
      "| 16|        null|        null|                null|  [u'Black Bear']|Grizzly Bear Targ...|\n",
      "| 17|        null|        null|                null|  [u'Black Bear']|Grizzly Bear Targ...|\n",
      "| 18|        null|        null|                null|  [u'Black Bear']|Grizzly Bear Targ...|\n",
      "| 19|        null|        null|                null|  [u'Black Bear']|Grizzly Bear Targ...|\n",
      "| 20|        null|        null|                null|  [u'Black Bear']|Grizzly Bear Targ...|\n",
      "| 21|        null|        null|                null|  [u'Black Bear']|Grizzly Bear Targ...|\n",
      "| 22|        null|        null|                null|  [u'Black Bear']|Grizzly Bear Targ...|\n",
      "| 23|        null|        null|                null|  [u'Black Bear']|Grizzly Bear Targ...|\n",
      "| 24|        null|        null|                null|  [u'Black Bear']|Grizzly Bear Targ...|\n",
      "| 25|        null|        null|                null|  [u'Black Bear']|Grizzly Bear Targ...|\n",
      "| 26|        null|        null|                null|  [u'Black Bear']|Grizzly Bear Targ...|\n",
      "| 27|        null|        null|                null|     [u'Raccoon']|Grizzly Bear Targ...|\n",
      "| 28|        null|        null|                null|     [u'Raccoon']|Grizzly Bear Targ...|\n",
      "| 29|        null|        null|                null|[u'camera check']|Grizzly Bear Targ...|\n",
      "| 30|        null|        null|                null|[u'camera check']|Grizzly Bear Targ...|\n",
      "| 31|        null|        null|                null|[u'camera check']|Grizzly Bear Targ...|\n",
      "| 32|        null|        null|                null|[u'camera check']|Grizzly Bear Targ...|\n",
      "| 33|        null|        null|                null|[u'camera check']|Grizzly Bear Targ...|\n",
      "| 34|    18:45:28|  2015-06-13|Conservation Nort...|[u'Camera Check']|Grizzly Bear Targ...|\n",
      "| 35|    18:45:28|  2015-06-13|Conservation Nort...|[u'Camera Check']|Grizzly Bear Targ...|\n",
      "| 36|    18:49:48|  2015-06-13|Conservation Nort...|[u'Camera Check']|Grizzly Bear Targ...|\n",
      "| 37|    18:54:46|  2015-06-13|Conservation Nort...|[u'Camera Check']|Grizzly Bear Targ...|\n",
      "| 38|    18:54:58|  2015-06-13|Conservation Nort...|[u'Camera Check']|Grizzly Bear Targ...|\n",
      "| 39|    18:54:58|  2015-06-13|Conservation Nort...|[u'Camera Check']|Grizzly Bear Targ...|\n",
      "| 40|    18:55:12|  2015-06-13|Conservation Nort...|[u'Camera Check']|Grizzly Bear Targ...|\n",
      "| 41|    18:55:12|  2015-06-13|Conservation Nort...|[u'Camera Check']|Grizzly Bear Targ...|\n",
      "| 42|     6:56:01|  2015-06-19|Conservation Nort...|  [u'Black Bear']|Grizzly Bear Targ...|\n",
      "| 43|     6:56:01|  2015-06-19|Conservation Nort...|  [u'Black Bear']|Grizzly Bear Targ...|\n",
      "| 44|     6:56:16|  2015-06-19|Conservation Nort...|  [u'Black Bear']|Grizzly Bear Targ...|\n",
      "| 45|     6:56:17|  2015-06-19|Conservation Nort...|  [u'Black Bear']|Grizzly Bear Targ...|\n",
      "| 46|     6:56:32|  2015-06-19|Conservation Nort...|  [u'Black Bear']|Grizzly Bear Targ...|\n",
      "| 47|     6:56:44|  2015-06-19|Conservation Nort...|  [u'Black Bear']|Grizzly Bear Targ...|\n",
      "| 48|     6:56:44|  2015-06-19|Conservation Nort...|  [u'Black Bear']|Grizzly Bear Targ...|\n",
      "| 49|    14:40:20|  2015-06-21|Conservation Nort...|  [u'Black Bear']|Grizzly Bear Targ...|\n",
      "| 50|    14:40:36|  2015-06-21|Conservation Nort...|  [u'Black Bear']|Grizzly Bear Targ...|\n",
      "| 51|    15:15:47|  2015-06-23|Conservation Nort...|  [u'Black Bear']|Grizzly Bear Targ...|\n",
      "| 52|    15:16:55|  2015-06-23|Conservation Nort...|  [u'Black Bear']|Grizzly Bear Targ...|\n",
      "| 53|    15:16:56|  2015-06-23|Conservation Nort...|  [u'Black Bear']|Grizzly Bear Targ...|\n",
      "| 54|    15:17:15|  2015-06-23|Conservation Nort...|  [u'Black Bear']|Grizzly Bear Targ...|\n",
      "| 55|    15:17:16|  2015-06-23|Conservation Nort...|  [u'Black Bear']|Grizzly Bear Targ...|\n",
      "| 56|    15:46:02|  2015-06-23|Conservation Nort...|  [u'Black Bear']|Grizzly Bear Targ...|\n",
      "| 57|    15:46:31|  2015-06-23|Conservation Nort...|  [u'Black Bear']|Grizzly Bear Targ...|\n",
      "| 58|    15:46:59|  2015-06-23|Conservation Nort...|  [u'Black Bear']|Grizzly Bear Targ...|\n",
      "| 59|    15:46:59|  2015-06-23|Conservation Nort...|  [u'Black Bear']|Grizzly Bear Targ...|\n",
      "| 60|    15:47:14|  2015-06-23|Conservation Nort...|  [u'Black Bear']|Grizzly Bear Targ...|\n",
      "| 61|      5414.0|  2015-07-13|Conservation Nort...|     [u'Raccoon']|Grizzly Bear Targ...|\n",
      "| 62|      5414.0|  2015-07-13|Conservation Nort...|     [u'Raccoon']|Grizzly Bear Targ...|\n",
      "| 63|    11:39:19|  2015-07-18|Conservation Nort...|[u'Camera Check']|Grizzly Bear Targ...|\n",
      "| 64|    11:39:46|  2015-07-18|Conservation Nort...|[u'Camera Check']|Grizzly Bear Targ...|\n",
      "| 65|    11:39:47|  2015-07-18|Conservation Nort...|[u'Camera Check']|Grizzly Bear Targ...|\n",
      "| 66|    11:40:04|  2015-07-18|Conservation Nort...|[u'Camera Check']|Grizzly Bear Targ...|\n",
      "| 67|    11:40:04|  2015-07-18|Conservation Nort...|[u'Camera Check']|Grizzly Bear Targ...|\n",
      "+---+------------+------------+--------------------+-----------------+--------------------+\n",
      "only showing top 68 rows\n",
      "\n"
     ]
    }
   ],
   "source": [
    "n=68\n",
    "df = raw_df.select(['_c0','time_created','date_created','copyright_notice','keywords','file_path'])\n",
    "df.show(n)"
   ]
  },
  {
   "cell_type": "code",
   "execution_count": 24,
   "metadata": {
    "collapsed": false
   },
   "outputs": [
    {
     "name": "stdout",
     "output_type": "stream",
     "text": [
      "root\n",
      " |-- copyright_notice: string (nullable = true)\n",
      " |-- count(copyright_notice): long (nullable = false)\n",
      "\n",
      "+--------------------+-----------------------+\n",
      "|    copyright_notice|count(copyright_notice)|\n",
      "+--------------------+-----------------------+\n",
      "|                null|                      0|\n",
      "|Conservation Nort...|                  79743|\n",
      "+--------------------+-----------------------+\n",
      "\n"
     ]
    }
   ],
   "source": [
    "temp_df = df.groupBy('copyright_notice').agg(F.count('copyright_notice'))\n",
    "temp_df.printSchema()\n",
    "temp_df.show(3)"
   ]
  },
  {
   "cell_type": "code",
   "execution_count": 44,
   "metadata": {
    "collapsed": false
   },
   "outputs": [
    {
     "name": "stdout",
     "output_type": "stream",
     "text": [
      "+----------------+-----------------------+\n",
      "|copyright_notice|count(copyright_notice)|\n",
      "+----------------+-----------------------+\n",
      "|            null|                      0|\n",
      "+----------------+-----------------------+\n",
      "\n"
     ]
    }
   ],
   "source": [
    "temp_df.where(df[\"copyright_notice\"].isNull()).show()"
   ]
  },
  {
   "cell_type": "code",
   "execution_count": 33,
   "metadata": {
    "collapsed": false
   },
   "outputs": [
    {
     "name": "stdout",
     "output_type": "stream",
     "text": [
      " count null      :  79743\n",
      "count not null  :  79743\n"
     ]
    }
   ],
   "source": [
    "print 'count null      : ',df[df.copyright_notice == None].count()\n",
    "print 'count not null  : ',df[df.copyright_notice != None].count()"
   ]
  },
  {
   "cell_type": "code",
   "execution_count": 42,
   "metadata": {
    "collapsed": false
   },
   "outputs": [
    {
     "ename": "TypeError",
     "evalue": "'Column' object is not callable",
     "output_type": "error",
     "traceback": [
      "\u001b[0;31m---------------------------------------------------------------------------\u001b[0m",
      "\u001b[0;31mTypeError\u001b[0m                                 Traceback (most recent call last)",
      "\u001b[0;32m<ipython-input-42-2e9e0e923af6>\u001b[0m in \u001b[0;36m<module>\u001b[0;34m()\u001b[0m\n\u001b[0;32m----> 1\u001b[0;31m \u001b[0;32mprint\u001b[0m \u001b[0mdf\u001b[0m\u001b[0;34m.\u001b[0m\u001b[0mkeywords\u001b[0m\u001b[0;34m.\u001b[0m\u001b[0mlen\u001b[0m\u001b[0;34m(\u001b[0m\u001b[0;34m)\u001b[0m\u001b[0;34m\u001b[0m\u001b[0m\n\u001b[0m",
      "\u001b[0;31mTypeError\u001b[0m: 'Column' object is not callable"
     ]
    }
   ],
   "source": [
    "df.keywords"
   ]
  },
  {
   "cell_type": "code",
   "execution_count": null,
   "metadata": {
    "collapsed": true
   },
   "outputs": [],
   "source": []
  }
 ],
 "metadata": {
  "anaconda-cloud": {},
  "kernelspec": {
   "display_name": "Python [Root]",
   "language": "python",
   "name": "Python [Root]"
  },
  "language_info": {
   "codemirror_mode": {
    "name": "ipython",
    "version": 2
   },
   "file_extension": ".py",
   "mimetype": "text/x-python",
   "name": "python",
   "nbconvert_exporter": "python",
   "pygments_lexer": "ipython2",
   "version": "2.7.12"
  }
 },
 "nbformat": 4,
 "nbformat_minor": 0
}
