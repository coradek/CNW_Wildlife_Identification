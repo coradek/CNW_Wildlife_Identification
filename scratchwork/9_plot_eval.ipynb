{
 "cells": [
  {
   "cell_type": "code",
   "execution_count": 14,
   "metadata": {
    "collapsed": false
   },
   "outputs": [],
   "source": [
    "from __future__ import division\n",
    "import os\n",
    "import re\n",
    "import time\n",
    "\n",
    "import tensorflow as tf\n",
    "import tensorflow.python.platform\n",
    "from tensorflow.python.platform import gfile\n",
    "\n",
    "import numpy as np\n",
    "import pandas as pd\n",
    "\n",
    "import cPickle as pickle\n",
    "\n",
    "import sklearn\n",
    "from sklearn.model_selection import train_test_split\n",
    "from sklearn.metrics import accuracy_score, confusion_matrix\n",
    "from sklearn.model_selection import cross_val_score\n",
    "\n",
    "from sklearn.svm import SVC, LinearSVC\n",
    "from sklearn.ensemble import RandomForestClassifier as RF\n",
    "\n",
    "import matplotlib.pyplot as plt\n",
    "%matplotlib inline"
   ]
  },
  {
   "cell_type": "code",
   "execution_count": 15,
   "metadata": {
    "collapsed": true
   },
   "outputs": [],
   "source": [
    "import src.data_pipeline as dpl\n",
    "import src.fsm2 as fsm\n",
    "import src.predict_one as p_1\n",
    "import src.evaluator as ev"
   ]
  },
  {
   "cell_type": "markdown",
   "metadata": {},
   "source": [
    "# Functions:"
   ]
  },
  {
   "cell_type": "code",
   "execution_count": 135,
   "metadata": {
    "collapsed": false
   },
   "outputs": [],
   "source": [
    "def plot_confusion_matrix(y_true,y_pred):\n",
    "    cm_array = confusion_matrix(y_true,y_pred)\n",
    "    true_labels = np.unique(y_true)\n",
    "    pred_labels = np.unique(y_pred)\n",
    "    plt.imshow(cm_array, interpolation='nearest', cmap=plt.cm.Blues)\n",
    "    plt.title(\"Confusion matrix\", fontsize=16)\n",
    "    cbar = plt.colorbar(fraction=0.046, pad=0.04)\n",
    "    cbar.set_label('Number of images', rotation=270, labelpad=30, fontsize=12)\n",
    "    xtick_marks = np.arange(len(true_labels)+1)\n",
    "    ytick_marks = np.arange(len(pred_labels)+1)\n",
    "    plt.xticks(xtick_marks, true_labels, rotation=90)\n",
    "    plt.yticks(ytick_marks,pred_labels)\n",
    "    plt.tight_layout()\n",
    "    plt.ylabel('True label', fontsize=14)\n",
    "    plt.xlabel('Predicted label', fontsize=14)\n",
    "    fig_size = plt.rcParams[\"figure.figsize\"]\n",
    "    fig_size[0] = 8\n",
    "    fig_size[1] = 8\n",
    "    plt.rcParams[\"figure.figsize\"] = fig_size\n",
    "    \n",
    "    \n",
    "def plot_percent_matrix(array):\n",
    "    cm_array = confusion_matrix(y_true,y_pred)\n",
    "#    percent_array =\n",
    "# Dynamically create percent array\n",
    "# Search cm_array replace w/ percent array \n",
    "\n",
    "    true_labels = np.unique(y_test)\n",
    "    pred_labels = np.unique(y_pred)\n",
    "    plt.imshow(cm_array, interpolation='nearest', cmap=plt.cm.Blues)\n",
    "    plt.title(\"Confusion matrix\", fontsize=16)\n",
    "    cbar = plt.colorbar(fraction=0.046, pad=0.04)\n",
    "    cbar.set_label('Percent True', rotation=270, labelpad=30, fontsize=12)\n",
    "    xtick_marks = np.arange(len(true_labels)+1)\n",
    "    ytick_marks = np.arange(len(pred_labels)+1)\n",
    "    plt.xticks(xtick_marks, true_labels, rotation=90)\n",
    "    plt.yticks(ytick_marks,pred_labels)\n",
    "    plt.tight_layout()\n",
    "    plt.ylabel('True label', fontsize=14)\n",
    "    plt.xlabel('Predicted label', fontsize=14)\n",
    "    fig_size = plt.rcParams[\"figure.figsize\"]\n",
    "    fig_size[0] = 8\n",
    "    fig_size[1] = 8\n",
    "    plt.rcParams[\"figure.figsize\"] = fig_size\n",
    "    \n",
    "def plot_probs(probs, save = False):\n",
    "    \n",
    "    # un-hard code groups\n",
    "    groups = ['Canine', 'Feline', 'Other', 'Small', 'Ungulate']\n",
    "\n",
    "    to_plot = pd.DataFrame(groups, columns = ['groups'])\n",
    "    to_plot['probs'] = probs[0]\n",
    "\n",
    "    to_plot.sort_values('probs', axis=0, ascending=True, inplace=True, kind='mergesort')\n",
    "    print to_plot\n",
    "\n",
    "    fig, ax = plt.subplots(figsize=(7,3))\n",
    "    plt.title('Model Prediction: '+pred[0])\n",
    "    plt.ylabel('Species Group')\n",
    "    plt.xlabel('Prediction Strength')\n",
    "    ax.set_yticklabels(to_plot['groups'], rotation=50, ha='right')\n",
    "\n",
    "    plt.barh(range(0,5), to_plot['probs'], color='#6982A0', alpha=0.8)\n",
    "    \n",
    "    if save:\n",
    "        plt.savefig('prediction_strength.png', bbox_inches='tight')\n",
    "\n",
    "    plt.show()"
   ]
  },
  {
   "cell_type": "markdown",
   "metadata": {},
   "source": [
    "# Data / Model"
   ]
  },
  {
   "cell_type": "code",
   "execution_count": 95,
   "metadata": {
    "collapsed": false
   },
   "outputs": [
    {
     "name": "stdout",
     "output_type": "stream",
     "text": [
      "Keyword Value Counts: \n",
      "[u'snowshoe hare']               928\n",
      "[u'White-tailed deer']           123\n",
      "[u'coyote']                       83\n",
      "[u'unidentified']                 72\n",
      "[u'mouse']                        61\n",
      "[u'mule deer']                    36\n",
      "[u'Canada lynx']                  34\n",
      "[u'elk']                          34\n",
      "[u'red squirrel']                 17\n",
      "[u'domestic dog']                 12\n",
      "[u'Robin']                        10\n",
      "[u'Camera Check']                 10\n",
      "[u'bobcat']                        9\n",
      "[u'striped skunk']                 9\n",
      "[u'cougar']                        6\n",
      "[u'bird']                          6\n",
      "[u'northern flying squirrel']      5\n",
      "[u'Wolverine']                     3\n",
      "[u'Squirrel (unidentified)']       3\n",
      "[]                                 1\n",
      "[u'chipmunk']                      1\n",
      "[u'Squirrel']                      1\n",
      "Name: keywords, dtype: int64\n",
      "\n",
      "1 photos have a blank keyword entries\n",
      "dropping blank\n",
      "\n",
      "dropping \"Hare\" for balance\n"
     ]
    }
   ],
   "source": [
    "# data and model for testing\n",
    "F,L,paths = fsm.prep_data('second_sample_data', drop_blank=True)\n",
    "\n",
    "svm = fsm.create_SVC()\n",
    "model, X_test, y_test, y_pred, y_prob = fsm.run_fit(svm,F,L)"
   ]
  },
  {
   "cell_type": "code",
   "execution_count": null,
   "metadata": {
    "collapsed": true
   },
   "outputs": [],
   "source": [
    "dpl.process_photos('data/first_sample', dataset_name = 'first_sample_data')"
   ]
  },
  {
   "cell_type": "code",
   "execution_count": 96,
   "metadata": {
    "collapsed": false
   },
   "outputs": [
    {
     "name": "stdout",
     "output_type": "stream",
     "text": [
      "Keyword Value Counts: \n",
      "[]                   9\n",
      "[u'deer']            7\n",
      "[u'mule deer']       7\n",
      "[u'hoary marmot']    4\n",
      "[u'marmot']          4\n",
      "[u'Camera Check']    1\n",
      "[u'camera check']    1\n",
      "[u'unidentified']    1\n",
      "Name: keywords, dtype: int64\n",
      "\n",
      "9 photos have a blank keyword entries\n",
      "dropping blank\n",
      "\n",
      "the following labels were missed\n",
      "[\"[u'camera check']\" \"[u'marmot']\" \"[u'deer']\"]\n",
      "dropping rows with these labels\n",
      "dropping \"Hare\" for balance\n"
     ]
    }
   ],
   "source": [
    "F_unseen, L_unseen, paths_unseen = fsm.prep_data('first_sample_data', drop_blank=True)"
   ]
  },
  {
   "cell_type": "markdown",
   "metadata": {},
   "source": [
    "# de-manual-ize Percent Matrix"
   ]
  },
  {
   "cell_type": "code",
   "execution_count": 184,
   "metadata": {
    "collapsed": false
   },
   "outputs": [
    {
     "name": "stdout",
     "output_type": "stream",
     "text": [
      "Ungulate    7\n",
      "Other       6\n",
      "Name: keywords, dtype: int64\n",
      "Total value counts: \n",
      "Ungulate    193\n",
      "Small       104\n",
      "Canine       95\n",
      "Other        94\n",
      "Feline       49\n",
      "Name: keywords, dtype: int64\n",
      "\n",
      "Test set value counts:\n",
      "Ungulate    7\n",
      "Other       6\n",
      "Name: keywords, dtype: int64\n",
      "\n",
      "Test Confusion Matrix:\n",
      "[[0 0 0 0 0]\n",
      " [0 0 0 0 0]\n",
      " [0 0 2 0 4]\n",
      " [0 0 0 0 0]\n",
      " [0 0 0 0 7]]\n",
      "\n",
      "Percentage True in each predicted class\n",
      "[[   0.      0.      0.      0.      0.  ]\n",
      " [   0.      0.      0.      0.      0.  ]\n",
      " [   0.      0.     33.33    0.     66.67]\n",
      " [   0.      0.      0.      0.      0.  ]\n",
      " [   0.      0.      0.      0.    100.  ]]\n",
      "\n",
      "\n"
     ]
    }
   ],
   "source": [
    "# confusion matrix drops entries with no test values\n",
    "# this prevents cm_report from working\n",
    "\n",
    "print L_unseen.value_counts()\n",
    "pred_nuloc = model.predict(F_unseen)\n",
    "ev.cm_report(L, L_unseen, pred_nuloc)"
   ]
  },
  {
   "cell_type": "markdown",
   "metadata": {},
   "source": [
    "# plot P1 results"
   ]
  },
  {
   "cell_type": "code",
   "execution_count": 5,
   "metadata": {
    "collapsed": false
   },
   "outputs": [
    {
     "name": "stdout",
     "output_type": "stream",
     "text": [
      "Processing data/mossy2.jpg...\n"
     ]
    }
   ],
   "source": [
    "pred, probs = p_1.predict('data/mossy2.jpg', model = 'data/svm.pkl')"
   ]
  },
  {
   "cell_type": "code",
   "execution_count": 6,
   "metadata": {
    "collapsed": false
   },
   "outputs": [
    {
     "name": "stdout",
     "output_type": "stream",
     "text": [
      "     groups     probs\n",
      "0    Canine  0.002268\n",
      "3     Small  0.005322\n",
      "1    Feline  0.007595\n",
      "4  Ungulate  0.051151\n",
      "2     Other  0.933665\n"
     ]
    },
    {
     "data": {
      "image/png": "[encoded data removed]",
      "text/plain": [
       "<matplotlib.figure.Figure at 0x11f081090>"
      ]
     },
     "metadata": {},
     "output_type": "display_data"
    }
   ],
   "source": [
    "plot_probs(probs)"
   ]
  },
  {
   "cell_type": "code",
   "execution_count": null,
   "metadata": {
    "collapsed": true
   },
   "outputs": [],
   "source": []
  }
 ],
 "metadata": {
  "anaconda-cloud": {},
  "kernelspec": {
   "display_name": "Python [Root]",
   "language": "python",
   "name": "Python [Root]"
  },
  "language_info": {
   "codemirror_mode": {
    "name": "ipython",
    "version": 2
   },
   "file_extension": ".py",
   "mimetype": "text/x-python",
   "name": "python",
   "nbconvert_exporter": "python",
   "pygments_lexer": "ipython2",
   "version": "2.7.12"
  }
 },
 "nbformat": 4,
 "nbformat_minor": 0
}
