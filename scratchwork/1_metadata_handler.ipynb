{
 "cells": [
  {
   "cell_type": "markdown",
   "metadata": {},
   "source": [
    "# Create and test metadata_handler"
   ]
  },
  {
   "cell_type": "code",
   "execution_count": 1,
   "metadata": {
    "collapsed": false
   },
   "outputs": [],
   "source": [
    "import src.metadata_handler as mdh\n",
    "\n",
    "%autoreload 2"
   ]
  },
  {
   "cell_type": "code",
   "execution_count": 2,
   "metadata": {
    "collapsed": true
   },
   "outputs": [],
   "source": [
    "from iptcinfo import IPTCInfo\n",
    "from iptcinfo import IPTCData\n",
    "import json\n",
    "\n",
    "from pymongo import MongoClient\n",
    "\n",
    "from iptcinfo import c_datasets, c_datasets_r\n",
    "\n",
    "import os\n",
    "import pandas as pd\n",
    "import numpy as np\n",
    "\n",
    "import boto3"
   ]
  },
  {
   "cell_type": "code",
   "execution_count": 3,
   "metadata": {
    "collapsed": false
   },
   "outputs": [
    {
     "name": "stdout",
     "output_type": "stream",
     "text": [
      "('WARNING: problems with charset recognition', \"'\\\\x1b'\")\n"
     ]
    }
   ],
   "source": [
    "a_photo = 'first_sample/EK000025-2.JPG'\n",
    "info = IPTCInfo(a_photo)\n",
    "data_dict = dict(info.data)\n",
    "info_field_nums = set(data_dict.keys())\n",
    "test_set = set(['a', 'b', 'c'])"
   ]
  },
  {
   "cell_type": "code",
   "execution_count": 4,
   "metadata": {
    "collapsed": false
   },
   "outputs": [],
   "source": [
    "# rework get_fields to \n",
    "def get_fields(directory):\n",
    "    ## strip '/' only if it is at the end\n",
    "    #  otherwise it may mess with nested dirs\n",
    "    #  (e.g. sample/photo/set)\n",
    "    # directory = directory.strip('/')\n",
    "    field_set = set()\n",
    "    for p, dirs, files in os.walk(directory):\n",
    "        for ff in files:\n",
    "            if ff[-4:] == '.JPG':\n",
    "                info = IPTCInfo(directory+'/'+ ff)\n",
    "                data_dict = dict(info.data)\n",
    "                fields = set(data_dict.keys())\n",
    "                field_set = field_set.union(fields)                \n",
    "    return field_set\n"
   ]
  },
  {
   "cell_type": "code",
   "execution_count": 5,
   "metadata": {
    "collapsed": false
   },
   "outputs": [
    {
     "name": "stdout",
     "output_type": "stream",
     "text": [
      "('WARNING: problems with charset recognition', \"'\\\\x1b'\")\n",
      "('WARNING: problems with charset recognition', \"'\\\\x1b'\")\n",
      "('WARNING: problems with charset recognition', \"'\\\\x1b'\")\n",
      "('WARNING: problems with charset recognition', \"'\\\\x1b'\")\n",
      "('WARNING: problems with charset recognition', \"'\\\\x1b'\")\n",
      "('WARNING: problems with charset recognition', \"'\\\\x1b'\")\n",
      "('WARNING: problems with charset recognition', \"'\\\\x1b'\")\n",
      "('WARNING: problems with charset recognition', \"'\\\\x1b'\")\n",
      "('WARNING: problems with charset recognition', \"'\\\\x1b'\")\n",
      "('WARNING: problems with charset recognition', \"'\\\\x1b'\")\n",
      "('WARNING: problems with charset recognition', \"'\\\\x1b'\")\n",
      "('WARNING: problems with charset recognition', \"'\\\\x1b'\")\n",
      "('WARNING: problems with charset recognition', \"'\\\\x1b'\")\n",
      "('WARNING: problems with charset recognition', \"'\\\\x1b'\")\n",
      "('WARNING: problems with charset recognition', \"'\\\\x1b'\")\n",
      "('WARNING: problems with charset recognition', \"'\\\\x1b'\")\n",
      "('WARNING: problems with charset recognition', \"'\\\\x1b'\")\n",
      "('WARNING: problems with charset recognition', \"'\\\\x1b'\")\n",
      "('WARNING: problems with charset recognition', \"'\\\\x1b'\")\n",
      "('WARNING: problems with charset recognition', \"'\\\\x1b'\")\n",
      "('WARNING: problems with charset recognition', \"'\\\\x1b'\")\n",
      "('WARNING: problems with charset recognition', \"'\\\\x1b'\")\n",
      "('WARNING: problems with charset recognition', \"'\\\\x1b'\")\n",
      "('WARNING: problems with charset recognition', \"'\\\\x1b'\")\n",
      "('WARNING: problems with charset recognition', \"'\\\\x1b'\")\n",
      "('WARNING: problems with charset recognition', \"'\\\\x1b'\")\n",
      "('WARNING: problems with charset recognition', \"'\\\\x1b'\")\n",
      "('WARNING: problems with charset recognition', \"'\\\\x1b'\")\n",
      "('WARNING: problems with charset recognition', \"'\\\\x1b'\")\n",
      "('WARNING: problems with charset recognition', \"'\\\\x1b'\")\n",
      "('WARNING: problems with charset recognition', \"'\\\\x1b'\")\n",
      "('WARNING: problems with charset recognition', \"'\\\\x1b'\")\n",
      "('WARNING: problems with charset recognition', \"'\\\\x1b'\")\n",
      "('WARNING: problems with charset recognition', \"'\\\\x1b'\")\n"
     ]
    },
    {
     "data": {
      "text/plain": [
       "{5, 20, 25, 55, 60, 80, 92, 116, 118, 120}"
      ]
     },
     "execution_count": 5,
     "metadata": {},
     "output_type": "execute_result"
    }
   ],
   "source": [
    "fields = set([])\n",
    "fields = get_fields('first_sample/')\n",
    "fields"
   ]
  },
  {
   "cell_type": "markdown",
   "metadata": {},
   "source": [
    "# SQL direct from photo?\n",
    "\n",
    "Signature: info.exportSQL(tablename, mappings, extra)\n",
    "Docstring:\n",
    "statement = info.exportSQL('mytable', mappings, extra-data)\n",
    "\n",
    "mappings = {\n",
    "    'IPTC dataset name here': 'your table column name here',\n",
    "    'caption/abstract': 'caption',\n",
    "    'city': 'city',\n",
    "    'province/state': 'state} # etc etc etc.\n",
    "\n",
    "Returns a SQL statement to insert into your given table name a set\n",
    "of values from the image. Caller passes in a reference to a hash\n",
    "which maps IPTC dataset names into column names for the database\n",
    "table. Optionally pass in a ref to a hash of extra data which will\n",
    "also be included in the insert statement. Keys in that hash must\n",
    "be valid column names."
   ]
  },
  {
   "cell_type": "markdown",
   "metadata": {},
   "source": [
    "### Create SQL table\n",
    "\n",
    "```\n",
    "<table name>\n",
    "    |\n",
    "    |- <col name = field name>\n",
    "    |- ...\n",
    "    |- ...\n",
    "    |\n",
    "    |- <some way to reference/retrieve photo\n",
    "```\n",
    "\n",
    "### Use IPTCInfo to import metadata\n",
    "\n",
    "```python\n",
    "for photo in photos:\n",
    "    info = IPTCInfo(photo)\n",
    "    info.exportSQL('<table name>', map{})\n",
    "```    "
   ]
  },
  {
   "cell_type": "code",
   "execution_count": null,
   "metadata": {
    "collapsed": true
   },
   "outputs": [],
   "source": []
  },
  {
   "cell_type": "markdown",
   "metadata": {},
   "source": [
    "# JSON from metadata"
   ]
  },
  {
   "cell_type": "code",
   "execution_count": 6,
   "metadata": {
    "collapsed": false
   },
   "outputs": [],
   "source": [
    "def set_to_dict(field_set):\n",
    "    field_dict = {}\n",
    "    for field in field_set:\n",
    "        field_dict[field] = c_datasets[field]\n",
    "    return field_dict"
   ]
  },
  {
   "cell_type": "code",
   "execution_count": 21,
   "metadata": {
    "collapsed": false
   },
   "outputs": [
    {
     "data": {
      "text/plain": [
       "{5: 'object name',\n",
       " 20: 'supplemental category',\n",
       " 25: 'keywords',\n",
       " 55: 'date created',\n",
       " 60: 'time created',\n",
       " 80: 'by-line',\n",
       " 92: 'sub-location',\n",
       " 116: 'copyright notice',\n",
       " 118: 'contact',\n",
       " 120: 'caption/abstract'}"
      ]
     },
     "execution_count": 21,
     "metadata": {},
     "output_type": "execute_result"
    }
   ],
   "source": [
    "field_dict = set_to_dict(fields)\n",
    "field_dict"
   ]
  },
  {
   "cell_type": "code",
   "execution_count": 22,
   "metadata": {
    "collapsed": false
   },
   "outputs": [],
   "source": [
    "\n",
    "\n",
    "def Mdata_dictionary(photo):\n",
    "    ''' get a photos metadata as dict '''\n",
    "\n",
    "    # return relevant data for a photo\n",
    "    dd = {}\n",
    "    info = IPTCInfo(photo)\n",
    "    data_dict = dict(info.data)         \n",
    "    for field in field_dict.keys():\n",
    "        if data_dict.has_key(field):\n",
    "            # print field_dict[field],' : ', data_dict[field]\n",
    "            dd[field_dict[field]] = data_dict[field]\n",
    "        else:\n",
    "            print field\n",
    "    return dd\n",
    "\n",
    "def Mdata_to_json(photo, outfile):\n",
    "    with open(outfile, 'a') as outf:\n",
    "        json.dump(Mdata_dictionary(photo), outf, indent = 4)\n"
   ]
  },
  {
   "cell_type": "code",
   "execution_count": 268,
   "metadata": {
    "collapsed": false
   },
   "outputs": [],
   "source": [
    "# Mdata_to_json('first_sample/EK000004.JPG', 'test.json')"
   ]
  },
  {
   "cell_type": "code",
   "execution_count": 269,
   "metadata": {
    "collapsed": false
   },
   "outputs": [],
   "source": [
    "# field_dict"
   ]
  },
  {
   "cell_type": "markdown",
   "metadata": {
    "collapsed": true
   },
   "source": [
    "# Data Base!"
   ]
  },
  {
   "cell_type": "code",
   "execution_count": 273,
   "metadata": {
    "collapsed": false
   },
   "outputs": [],
   "source": [
    "db = pd.read_json('data/test_DB.json')"
   ]
  },
  {
   "cell_type": "code",
   "execution_count": 275,
   "metadata": {
    "collapsed": false
   },
   "outputs": [
    {
     "data": {
      "text/html": [
       "<div>\n",
       "<table border=\"1\" class=\"dataframe\">\n",
       "  <thead>\n",
       "    <tr style=\"text-align: right;\">\n",
       "      <th></th>\n",
       "      <th>0</th>\n",
       "      <th>1</th>\n",
       "      <th>2</th>\n",
       "      <th>3</th>\n",
       "      <th>4</th>\n",
       "    </tr>\n",
       "  </thead>\n",
       "  <tbody>\n",
       "    <tr>\n",
       "      <th>by-line</th>\n",
       "      <td>Cathy Clark</td>\n",
       "      <td>Picasa</td>\n",
       "      <td>Cathy Clark</td>\n",
       "      <td>Picasa</td>\n",
       "      <td>Cathy Clark</td>\n",
       "    </tr>\n",
       "    <tr>\n",
       "      <th>caption/abstract</th>\n",
       "      <td>M2E32L107-108R390B311</td>\n",
       "      <td>NaN</td>\n",
       "      <td>1</td>\n",
       "      <td>NaN</td>\n",
       "      <td>1</td>\n",
       "    </tr>\n",
       "    <tr>\n",
       "      <th>contact</th>\n",
       "      <td>[]</td>\n",
       "      <td>[]</td>\n",
       "      <td>[]</td>\n",
       "      <td>[]</td>\n",
       "      <td>[]</td>\n",
       "    </tr>\n",
       "    <tr>\n",
       "      <th>copyright notice</th>\n",
       "      <td>Conservation Northwest</td>\n",
       "      <td>NaN</td>\n",
       "      <td>Conservation Northwest</td>\n",
       "      <td>NaN</td>\n",
       "      <td>Conservation Northwest</td>\n",
       "    </tr>\n",
       "    <tr>\n",
       "      <th>date created</th>\n",
       "      <td>2.01505e+07</td>\n",
       "      <td>NaN</td>\n",
       "      <td>2.01506e+07</td>\n",
       "      <td>NaN</td>\n",
       "      <td>2.01201e+07</td>\n",
       "    </tr>\n",
       "    <tr>\n",
       "      <th>file_path</th>\n",
       "      <td>first_sample/EK000004-2.JPG</td>\n",
       "      <td>first_sample/EK000004.JPG</td>\n",
       "      <td>first_sample/EK000010-2.JPG</td>\n",
       "      <td>first_sample/EK000010.JPG</td>\n",
       "      <td>first_sample/EK000011-2.JPG</td>\n",
       "    </tr>\n",
       "    <tr>\n",
       "      <th>keywords</th>\n",
       "      <td>[Camera Check]</td>\n",
       "      <td>[camera check]</td>\n",
       "      <td>[hoary marmot]</td>\n",
       "      <td>[marmot]</td>\n",
       "      <td>[hoary marmot]</td>\n",
       "    </tr>\n",
       "    <tr>\n",
       "      <th>object name</th>\n",
       "      <td>wolverine</td>\n",
       "      <td>NaN</td>\n",
       "      <td>wolverine</td>\n",
       "      <td>NaN</td>\n",
       "      <td>wolverine</td>\n",
       "    </tr>\n",
       "    <tr>\n",
       "      <th>sub-location</th>\n",
       "      <td>Blackjack Ridge-2015-1</td>\n",
       "      <td>NaN</td>\n",
       "      <td>Blackjack Ridge-2015-1</td>\n",
       "      <td>NaN</td>\n",
       "      <td>Blackjack Ridge-2015-1</td>\n",
       "    </tr>\n",
       "    <tr>\n",
       "      <th>supplemental category</th>\n",
       "      <td>[]</td>\n",
       "      <td>[]</td>\n",
       "      <td>[]</td>\n",
       "      <td>[]</td>\n",
       "      <td>[]</td>\n",
       "    </tr>\n",
       "    <tr>\n",
       "      <th>time created</th>\n",
       "      <td>114952</td>\n",
       "      <td>NaN</td>\n",
       "      <td>145440</td>\n",
       "      <td>NaN</td>\n",
       "      <td>25440</td>\n",
       "    </tr>\n",
       "  </tbody>\n",
       "</table>\n",
       "</div>"
      ],
      "text/plain": [
       "                                                 0                          1  \\\n",
       "by-line                                Cathy Clark                     Picasa   \n",
       "caption/abstract             M2E32L107-108R390B311                        NaN   \n",
       "contact                                         []                         []   \n",
       "copyright notice            Conservation Northwest                        NaN   \n",
       "date created                           2.01505e+07                        NaN   \n",
       "file_path              first_sample/EK000004-2.JPG  first_sample/EK000004.JPG   \n",
       "keywords                            [Camera Check]             [camera check]   \n",
       "object name                              wolverine                        NaN   \n",
       "sub-location                Blackjack Ridge-2015-1                        NaN   \n",
       "supplemental category                           []                         []   \n",
       "time created                                114952                        NaN   \n",
       "\n",
       "                                                 2                          3  \\\n",
       "by-line                                Cathy Clark                     Picasa   \n",
       "caption/abstract                                 1                        NaN   \n",
       "contact                                         []                         []   \n",
       "copyright notice            Conservation Northwest                        NaN   \n",
       "date created                           2.01506e+07                        NaN   \n",
       "file_path              first_sample/EK000010-2.JPG  first_sample/EK000010.JPG   \n",
       "keywords                            [hoary marmot]                   [marmot]   \n",
       "object name                              wolverine                        NaN   \n",
       "sub-location                Blackjack Ridge-2015-1                        NaN   \n",
       "supplemental category                           []                         []   \n",
       "time created                                145440                        NaN   \n",
       "\n",
       "                                                 4  \n",
       "by-line                                Cathy Clark  \n",
       "caption/abstract                                 1  \n",
       "contact                                         []  \n",
       "copyright notice            Conservation Northwest  \n",
       "date created                           2.01201e+07  \n",
       "file_path              first_sample/EK000011-2.JPG  \n",
       "keywords                            [hoary marmot]  \n",
       "object name                              wolverine  \n",
       "sub-location                Blackjack Ridge-2015-1  \n",
       "supplemental category                           []  \n",
       "time created                                 25440  "
      ]
     },
     "execution_count": 275,
     "metadata": {},
     "output_type": "execute_result"
    }
   ],
   "source": [
    "db.head().T"
   ]
  },
  {
   "cell_type": "markdown",
   "metadata": {
    "collapsed": true
   },
   "source": [
    "# MongoDB conversion:"
   ]
  },
  {
   "cell_type": "markdown",
   "metadata": {},
   "source": [
    "```python\n",
    "from pymongo import MongoClient\n",
    "# connect to MongoDB client\n",
    "client = MongoClient()\n",
    "# connect to MongoDB database\n",
    "db = prod_client['random_database']\n",
    "# connect to MongoDB collections\n",
    "collection = db['random_collection']\n",
    "# insert document into collection\n",
    "collection.insert_one({'random data': data_variable})\n",
    "```"
   ]
  },
  {
   "cell_type": "code",
   "execution_count": 9,
   "metadata": {
    "collapsed": true
   },
   "outputs": [],
   "source": [
    "mc = MongoClient()\n",
    "mongo_db = mc['cnw']\n",
    "collection = mongo_db['mongo_test']"
   ]
  },
  {
   "cell_type": "code",
   "execution_count": 10,
   "metadata": {
    "collapsed": false
   },
   "outputs": [
    {
     "name": "stdout",
     "output_type": "stream",
     "text": [
      "('WARNING: problems with charset recognition', \"'\\\\x1b'\")\n",
      "999\n",
      "{'date created': '20150610', 'copyright notice': 'Conservation Northwest', 'sub-location': 'Blackjack Ridge-2015-1', 'by-line': 'Cathy Clark', 'supplemental category': [], 'contact': [], 'time created': '070424', 'keywords': ['mule deer'], 'object name': 'wolverine', 'caption/abstract': '1'}\n"
     ]
    }
   ],
   "source": [
    "photo_dict = Mdata_dictionary(a_photo)"
   ]
  },
  {
   "cell_type": "code",
   "execution_count": 12,
   "metadata": {
    "collapsed": false
   },
   "outputs": [
    {
     "data": {
      "text/plain": [
       "<pymongo.results.InsertOneResult at 0x113f12d20>"
      ]
     },
     "execution_count": 12,
     "metadata": {},
     "output_type": "execute_result"
    }
   ],
   "source": [
    "collection.insert_one(photo_dict)"
   ]
  },
  {
   "cell_type": "code",
   "execution_count": 18,
   "metadata": {
    "collapsed": false
   },
   "outputs": [],
   "source": [
    "def create_mongoDB(directory, database_name = 'cnw', col_name = 'metadata'):\n",
    "    # For final version change default database_name to 'Wildlife_Identification'\n",
    "    mc = MongoClient()\n",
    "    mongo_db = mc[database_name]\n",
    "    collection = mongo_db[col_name]\n",
    "    for p, dirs, files in os.walk(directory):\n",
    "        for ff in files:\n",
    "            if ff[-4:] == '.JPG':\n",
    "                # metadata = build_dictionary(ff)\n",
    "                metadata = Mdata_dictionary(p+'/'+ff)"
   ]
  },
  {
   "cell_type": "code",
   "execution_count": 19,
   "metadata": {
    "collapsed": false
   },
   "outputs": [
    {
     "name": "stdout",
     "output_type": "stream",
     "text": [
      "1_metadata_handler.ipynb create_EC2.ipynb         sample.json\r\n",
      "3_AWS.ipynb              \u001b[34mdata\u001b[m\u001b[m                     \u001b[34mscratchwork\u001b[m\u001b[m\r\n",
      "ProjectNotes.md          \u001b[34mfirst_sample\u001b[m\u001b[m             \u001b[34msrc\u001b[m\u001b[m\r\n",
      "README.md                raw_DB.json              temp_photo.jpg\r\n"
     ]
    }
   ],
   "source": [
    "!ls"
   ]
  },
  {
   "cell_type": "code",
   "execution_count": 23,
   "metadata": {
    "collapsed": false
   },
   "outputs": [
    {
     "name": "stdout",
     "output_type": "stream",
     "text": [
      "('WARNING: problems with charset recognition', \"'\\\\x1b'\")\n",
      "('WARNING: problems with charset recognition', \"'\\\\x1b'\")\n",
      "5\n",
      "60\n",
      "116\n",
      "55\n",
      "120\n",
      "92\n",
      "('WARNING: problems with charset recognition', \"'\\\\x1b'\")\n",
      "('WARNING: problems with charset recognition', \"'\\\\x1b'\")\n",
      "5\n",
      "60\n",
      "116\n",
      "55\n",
      "120\n",
      "92\n",
      "('WARNING: problems with charset recognition', \"'\\\\x1b'\")\n",
      "('WARNING: problems with charset recognition', \"'\\\\x1b'\")\n",
      "5\n",
      "60\n",
      "116\n",
      "55\n",
      "120\n",
      "92\n",
      "('WARNING: problems with charset recognition', \"'\\\\x1b'\")\n",
      "('WARNING: problems with charset recognition', \"'\\\\x1b'\")\n",
      "5\n",
      "60\n",
      "116\n",
      "55\n",
      "120\n",
      "92\n",
      "('WARNING: problems with charset recognition', \"'\\\\x1b'\")\n",
      "('WARNING: problems with charset recognition', \"'\\\\x1b'\")\n",
      "5\n",
      "60\n",
      "116\n",
      "55\n",
      "120\n",
      "92\n",
      "('WARNING: problems with charset recognition', \"'\\\\x1b'\")\n",
      "('WARNING: problems with charset recognition', \"'\\\\x1b'\")\n",
      "5\n",
      "60\n",
      "116\n",
      "55\n",
      "120\n",
      "92\n",
      "('WARNING: problems with charset recognition', \"'\\\\x1b'\")\n",
      "('WARNING: problems with charset recognition', \"'\\\\x1b'\")\n",
      "5\n",
      "60\n",
      "116\n",
      "55\n",
      "120\n",
      "92\n",
      "('WARNING: problems with charset recognition', \"'\\\\x1b'\")\n",
      "('WARNING: problems with charset recognition', \"'\\\\x1b'\")\n",
      "5\n",
      "60\n",
      "116\n",
      "55\n",
      "120\n",
      "92\n",
      "('WARNING: problems with charset recognition', \"'\\\\x1b'\")\n",
      "('WARNING: problems with charset recognition', \"'\\\\x1b'\")\n",
      "5\n",
      "60\n",
      "116\n",
      "55\n",
      "120\n",
      "92\n",
      "('WARNING: problems with charset recognition', \"'\\\\x1b'\")\n",
      "('WARNING: problems with charset recognition', \"'\\\\x1b'\")\n",
      "5\n",
      "60\n",
      "116\n",
      "55\n",
      "120\n",
      "92\n",
      "('WARNING: problems with charset recognition', \"'\\\\x1b'\")\n",
      "('WARNING: problems with charset recognition', \"'\\\\x1b'\")\n",
      "5\n",
      "60\n",
      "116\n",
      "55\n",
      "120\n",
      "92\n",
      "('WARNING: problems with charset recognition', \"'\\\\x1b'\")\n",
      "('WARNING: problems with charset recognition', \"'\\\\x1b'\")\n",
      "5\n",
      "60\n",
      "116\n",
      "55\n",
      "120\n",
      "92\n",
      "('WARNING: problems with charset recognition', \"'\\\\x1b'\")\n",
      "('WARNING: problems with charset recognition', \"'\\\\x1b'\")\n",
      "5\n",
      "60\n",
      "116\n",
      "55\n",
      "120\n",
      "92\n",
      "('WARNING: problems with charset recognition', \"'\\\\x1b'\")\n",
      "('WARNING: problems with charset recognition', \"'\\\\x1b'\")\n",
      "5\n",
      "60\n",
      "116\n",
      "55\n",
      "120\n",
      "92\n",
      "('WARNING: problems with charset recognition', \"'\\\\x1b'\")\n",
      "('WARNING: problems with charset recognition', \"'\\\\x1b'\")\n",
      "5\n",
      "60\n",
      "116\n",
      "55\n",
      "120\n",
      "92\n",
      "('WARNING: problems with charset recognition', \"'\\\\x1b'\")\n",
      "('WARNING: problems with charset recognition', \"'\\\\x1b'\")\n",
      "5\n",
      "60\n",
      "116\n",
      "55\n",
      "120\n",
      "92\n",
      "('WARNING: problems with charset recognition', \"'\\\\x1b'\")\n",
      "('WARNING: problems with charset recognition', \"'\\\\x1b'\")\n",
      "5\n",
      "60\n",
      "116\n",
      "55\n",
      "120\n",
      "92\n"
     ]
    }
   ],
   "source": [
    "mongo_metadata = create_mongoDB('first_sample')"
   ]
  },
  {
   "cell_type": "code",
   "execution_count": null,
   "metadata": {
    "collapsed": true
   },
   "outputs": [],
   "source": []
  }
 ],
 "metadata": {
  "anaconda-cloud": {},
  "kernelspec": {
   "display_name": "Python [Root]",
   "language": "python",
   "name": "Python [Root]"
  },
  "language_info": {
   "codemirror_mode": {
    "name": "ipython",
    "version": 2
   },
   "file_extension": ".py",
   "mimetype": "text/x-python",
   "name": "python",
   "nbconvert_exporter": "python",
   "pygments_lexer": "ipython2",
   "version": "2.7.12"
  }
 },
 "nbformat": 4,
 "nbformat_minor": 0
}
