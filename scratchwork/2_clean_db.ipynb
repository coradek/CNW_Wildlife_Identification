{
 "cells": [
  {
   "cell_type": "markdown",
   "metadata": {},
   "source": [
    "# develop and test clean_db.py"
   ]
  },
  {
   "cell_type": "code",
   "execution_count": 1,
   "metadata": {
    "collapsed": true
   },
   "outputs": [],
   "source": [
    "import src.clean_db as cdb\n",
    "import src.metadata_handler as mdh\n",
    "\n",
    "%autoreload 2"
   ]
  },
  {
   "cell_type": "code",
   "execution_count": 2,
   "metadata": {
    "collapsed": true
   },
   "outputs": [],
   "source": [
    "import pandas as pd\n",
    "import numpy as np\n",
    "\n",
    "import re"
   ]
  },
  {
   "cell_type": "code",
   "execution_count": 3,
   "metadata": {
    "collapsed": false
   },
   "outputs": [],
   "source": [
    "raw_db = pd.read_json('data/raw_metadata.json')"
   ]
  },
  {
   "cell_type": "code",
   "execution_count": 4,
   "metadata": {
    "collapsed": false
   },
   "outputs": [
    {
     "data": {
      "text/html": [
       "<div>\n",
       "<table border=\"1\" class=\"dataframe\">\n",
       "  <thead>\n",
       "    <tr style=\"text-align: right;\">\n",
       "      <th></th>\n",
       "      <th>0</th>\n",
       "      <th>1</th>\n",
       "      <th>2</th>\n",
       "    </tr>\n",
       "  </thead>\n",
       "  <tbody>\n",
       "    <tr>\n",
       "      <th>by-line</th>\n",
       "      <td>NaN</td>\n",
       "      <td>NaN</td>\n",
       "      <td>NaN</td>\n",
       "    </tr>\n",
       "    <tr>\n",
       "      <th>caption/abstract</th>\n",
       "      <td>NaN</td>\n",
       "      <td>NaN</td>\n",
       "      <td>NaN</td>\n",
       "    </tr>\n",
       "    <tr>\n",
       "      <th>contact</th>\n",
       "      <td>[]</td>\n",
       "      <td>[]</td>\n",
       "      <td>[]</td>\n",
       "    </tr>\n",
       "    <tr>\n",
       "      <th>copyright notice</th>\n",
       "      <td>NaN</td>\n",
       "      <td>NaN</td>\n",
       "      <td>NaN</td>\n",
       "    </tr>\n",
       "    <tr>\n",
       "      <th>date created</th>\n",
       "      <td>NaN</td>\n",
       "      <td>NaN</td>\n",
       "      <td>NaN</td>\n",
       "    </tr>\n",
       "    <tr>\n",
       "      <th>file_path</th>\n",
       "      <td>/Volumes/Seagate Backup Plus Drive/CNWPhotos/G...</td>\n",
       "      <td>/Volumes/Seagate Backup Plus Drive/CNWPhotos/G...</td>\n",
       "      <td>/Volumes/Seagate Backup Plus Drive/CNWPhotos/G...</td>\n",
       "    </tr>\n",
       "    <tr>\n",
       "      <th>keywords</th>\n",
       "      <td>[camera check]</td>\n",
       "      <td>[camera check]</td>\n",
       "      <td>[camera check]</td>\n",
       "    </tr>\n",
       "    <tr>\n",
       "      <th>object name</th>\n",
       "      <td>NaN</td>\n",
       "      <td>NaN</td>\n",
       "      <td>NaN</td>\n",
       "    </tr>\n",
       "    <tr>\n",
       "      <th>sub-location</th>\n",
       "      <td>NaN</td>\n",
       "      <td>NaN</td>\n",
       "      <td>NaN</td>\n",
       "    </tr>\n",
       "    <tr>\n",
       "      <th>supplemental category</th>\n",
       "      <td>[]</td>\n",
       "      <td>[]</td>\n",
       "      <td>[]</td>\n",
       "    </tr>\n",
       "    <tr>\n",
       "      <th>time created</th>\n",
       "      <td>NaN</td>\n",
       "      <td>NaN</td>\n",
       "      <td>NaN</td>\n",
       "    </tr>\n",
       "  </tbody>\n",
       "</table>\n",
       "</div>"
      ],
      "text/plain": [
       "                                                                       0  \\\n",
       "by-line                                                              NaN   \n",
       "caption/abstract                                                     NaN   \n",
       "contact                                                               []   \n",
       "copyright notice                                                     NaN   \n",
       "date created                                                         NaN   \n",
       "file_path              /Volumes/Seagate Backup Plus Drive/CNWPhotos/G...   \n",
       "keywords                                                  [camera check]   \n",
       "object name                                                          NaN   \n",
       "sub-location                                                         NaN   \n",
       "supplemental category                                                 []   \n",
       "time created                                                         NaN   \n",
       "\n",
       "                                                                       1  \\\n",
       "by-line                                                              NaN   \n",
       "caption/abstract                                                     NaN   \n",
       "contact                                                               []   \n",
       "copyright notice                                                     NaN   \n",
       "date created                                                         NaN   \n",
       "file_path              /Volumes/Seagate Backup Plus Drive/CNWPhotos/G...   \n",
       "keywords                                                  [camera check]   \n",
       "object name                                                          NaN   \n",
       "sub-location                                                         NaN   \n",
       "supplemental category                                                 []   \n",
       "time created                                                         NaN   \n",
       "\n",
       "                                                                       2  \n",
       "by-line                                                              NaN  \n",
       "caption/abstract                                                     NaN  \n",
       "contact                                                               []  \n",
       "copyright notice                                                     NaN  \n",
       "date created                                                         NaN  \n",
       "file_path              /Volumes/Seagate Backup Plus Drive/CNWPhotos/G...  \n",
       "keywords                                                  [camera check]  \n",
       "object name                                                          NaN  \n",
       "sub-location                                                         NaN  \n",
       "supplemental category                                                 []  \n",
       "time created                                                         NaN  "
      ]
     },
     "execution_count": 4,
     "metadata": {},
     "output_type": "execute_result"
    }
   ],
   "source": [
    "raw_db.head(3).T"
   ]
  },
  {
   "cell_type": "markdown",
   "metadata": {},
   "source": [
    "# Rename Columns (remove spaces)"
   ]
  },
  {
   "cell_type": "code",
   "execution_count": 5,
   "metadata": {
    "collapsed": false
   },
   "outputs": [
    {
     "data": {
      "text/plain": [
       "Index([u'by-line', u'caption/abstract', u'contact', u'copyright notice',\n",
       "       u'date created', u'file_path', u'keywords', u'object name',\n",
       "       u'sub-location', u'supplemental category', u'time created'],\n",
       "      dtype='object')"
      ]
     },
     "execution_count": 5,
     "metadata": {},
     "output_type": "execute_result"
    }
   ],
   "source": [
    "raw_db.columns"
   ]
  },
  {
   "cell_type": "code",
   "execution_count": 19,
   "metadata": {
    "collapsed": false
   },
   "outputs": [],
   "source": [
    "def space_free_col_names(db):\n",
    "    dd = {}\n",
    "    for col in db.columns:\n",
    "        new_col = col\n",
    "        new_col = new_col.replace(' ', '_')\n",
    "        new_col = new_col.replace('-', '_')\n",
    "        new_col = new_col.replace('/', '_')\n",
    "        if new_col != col:\n",
    "            dd[col] = new_col\n",
    "    db = db.rename(columns = dd)\n",
    "    return db"
   ]
  },
  {
   "cell_type": "code",
   "execution_count": 6,
   "metadata": {
    "collapsed": false
   },
   "outputs": [
    {
     "name": "stdout",
     "output_type": "stream",
     "text": [
      "original cols: \n",
      "Index([u'by-line', u'caption/abstract', u'contact', u'copyright notice',\n",
      "       u'date created', u'file_path', u'keywords', u'object name',\n",
      "       u'sub-location', u'supplemental category', u'time created'],\n",
      "      dtype='object')\n"
     ]
    },
    {
     "ename": "NameError",
     "evalue": "name 'space_free_col_names' is not defined",
     "output_type": "error",
     "traceback": [
      "\u001b[0;31m---------------------------------------------------------------------------\u001b[0m",
      "\u001b[0;31mNameError\u001b[0m                                 Traceback (most recent call last)",
      "\u001b[0;32m<ipython-input-6-0740c9c09cae>\u001b[0m in \u001b[0;36m<module>\u001b[0;34m()\u001b[0m\n\u001b[1;32m      3\u001b[0m \u001b[0;32mprint\u001b[0m \u001b[0;34m'original cols: \\n'\u001b[0m\u001b[0;34m,\u001b[0m\u001b[0mdb\u001b[0m\u001b[0;34m.\u001b[0m\u001b[0mcolumns\u001b[0m\u001b[0;34m\u001b[0m\u001b[0m\n\u001b[1;32m      4\u001b[0m \u001b[0;34m\u001b[0m\u001b[0m\n\u001b[0;32m----> 5\u001b[0;31m \u001b[0mdb\u001b[0m \u001b[0;34m=\u001b[0m \u001b[0mspace_free_col_names\u001b[0m\u001b[0;34m(\u001b[0m\u001b[0mdb\u001b[0m\u001b[0;34m)\u001b[0m\u001b[0;34m\u001b[0m\u001b[0m\n\u001b[0m\u001b[1;32m      6\u001b[0m \u001b[0;34m\u001b[0m\u001b[0m\n\u001b[1;32m      7\u001b[0m \u001b[0;32mprint\u001b[0m \u001b[0;34m'new cols: \\n'\u001b[0m\u001b[0;34m,\u001b[0m\u001b[0mdb\u001b[0m\u001b[0;34m.\u001b[0m\u001b[0mcolumns\u001b[0m\u001b[0;34m\u001b[0m\u001b[0m\n",
      "\u001b[0;31mNameError\u001b[0m: name 'space_free_col_names' is not defined"
     ]
    }
   ],
   "source": [
    "db = raw_db\n",
    "\n",
    "print 'original cols: \\n',db.columns\n",
    "\n",
    "db = space_free_col_names(db)\n",
    "\n",
    "print 'new cols: \\n',db.columns"
   ]
  },
  {
   "cell_type": "markdown",
   "metadata": {},
   "source": [
    "# simplify file_path"
   ]
  },
  {
   "cell_type": "code",
   "execution_count": 32,
   "metadata": {
    "collapsed": true
   },
   "outputs": [],
   "source": [
    "def simplify_path(db):\n",
    "    db = db.rename(columns = {'photo_address':'file_path'})\n",
    "    print db.columns\n",
    "    db.file_path = db.file_path.str.strip('/Volumes/Seagate Backup Plus Drive/CNWPhotos/')\n",
    "    return db"
   ]
  },
  {
   "cell_type": "code",
   "execution_count": 33,
   "metadata": {
    "collapsed": false
   },
   "outputs": [
    {
     "name": "stdout",
     "output_type": "stream",
     "text": [
      "Index([              u'by_line',      u'caption_abstract',\n",
      "                     u'contact',      u'copyright_notice',\n",
      "                u'date_created',              u'keywords',\n",
      "                 u'object_name',             u'file_path',\n",
      "                u'sub_location', u'supplemental_category',\n",
      "                u'time_created'],\n",
      "      dtype='object')\n"
     ]
    },
    {
     "data": {
      "text/html": [
       "<div>\n",
       "<table border=\"1\" class=\"dataframe\">\n",
       "  <thead>\n",
       "    <tr style=\"text-align: right;\">\n",
       "      <th></th>\n",
       "      <th>0</th>\n",
       "      <th>1</th>\n",
       "      <th>2</th>\n",
       "      <th>3</th>\n",
       "      <th>4</th>\n",
       "    </tr>\n",
       "  </thead>\n",
       "  <tbody>\n",
       "    <tr>\n",
       "      <th>by_line</th>\n",
       "      <td>NaN</td>\n",
       "      <td>NaN</td>\n",
       "      <td>NaN</td>\n",
       "      <td>NaN</td>\n",
       "      <td>NaN</td>\n",
       "    </tr>\n",
       "    <tr>\n",
       "      <th>caption_abstract</th>\n",
       "      <td>NaN</td>\n",
       "      <td>NaN</td>\n",
       "      <td>NaN</td>\n",
       "      <td>NaN</td>\n",
       "      <td>NaN</td>\n",
       "    </tr>\n",
       "    <tr>\n",
       "      <th>contact</th>\n",
       "      <td>[]</td>\n",
       "      <td>[]</td>\n",
       "      <td>[]</td>\n",
       "      <td>[]</td>\n",
       "      <td>[]</td>\n",
       "    </tr>\n",
       "    <tr>\n",
       "      <th>copyright_notice</th>\n",
       "      <td>NaN</td>\n",
       "      <td>NaN</td>\n",
       "      <td>NaN</td>\n",
       "      <td>NaN</td>\n",
       "      <td>NaN</td>\n",
       "    </tr>\n",
       "    <tr>\n",
       "      <th>date_created</th>\n",
       "      <td>NaN</td>\n",
       "      <td>NaN</td>\n",
       "      <td>NaN</td>\n",
       "      <td>NaN</td>\n",
       "      <td>NaN</td>\n",
       "    </tr>\n",
       "    <tr>\n",
       "      <th>keywords</th>\n",
       "      <td>[camera check]</td>\n",
       "      <td>[camera check]</td>\n",
       "      <td>[camera check]</td>\n",
       "      <td>[camera check]</td>\n",
       "      <td>[camera check]</td>\n",
       "    </tr>\n",
       "    <tr>\n",
       "      <th>object_name</th>\n",
       "      <td>NaN</td>\n",
       "      <td>NaN</td>\n",
       "      <td>NaN</td>\n",
       "      <td>NaN</td>\n",
       "      <td>NaN</td>\n",
       "    </tr>\n",
       "    <tr>\n",
       "      <th>file_path</th>\n",
       "      <td>Grizzly Bear Target Species/Green Lake/Green L...</td>\n",
       "      <td>Grizzly Bear Target Species/Green Lake/Green L...</td>\n",
       "      <td>Grizzly Bear Target Species/Green Lake/Green L...</td>\n",
       "      <td>Grizzly Bear Target Species/Green Lake/Green L...</td>\n",
       "      <td>Grizzly Bear Target Species/Green Lake/Green L...</td>\n",
       "    </tr>\n",
       "    <tr>\n",
       "      <th>sub_location</th>\n",
       "      <td>NaN</td>\n",
       "      <td>NaN</td>\n",
       "      <td>NaN</td>\n",
       "      <td>NaN</td>\n",
       "      <td>NaN</td>\n",
       "    </tr>\n",
       "    <tr>\n",
       "      <th>supplemental_category</th>\n",
       "      <td>[]</td>\n",
       "      <td>[]</td>\n",
       "      <td>[]</td>\n",
       "      <td>[]</td>\n",
       "      <td>[]</td>\n",
       "    </tr>\n",
       "    <tr>\n",
       "      <th>time_created</th>\n",
       "      <td>NaN</td>\n",
       "      <td>NaN</td>\n",
       "      <td>NaN</td>\n",
       "      <td>NaN</td>\n",
       "      <td>NaN</td>\n",
       "    </tr>\n",
       "  </tbody>\n",
       "</table>\n",
       "</div>"
      ],
      "text/plain": [
       "                                                                       0  \\\n",
       "by_line                                                              NaN   \n",
       "caption_abstract                                                     NaN   \n",
       "contact                                                               []   \n",
       "copyright_notice                                                     NaN   \n",
       "date_created                                                         NaN   \n",
       "keywords                                                  [camera check]   \n",
       "object_name                                                          NaN   \n",
       "file_path              Grizzly Bear Target Species/Green Lake/Green L...   \n",
       "sub_location                                                         NaN   \n",
       "supplemental_category                                                 []   \n",
       "time_created                                                         NaN   \n",
       "\n",
       "                                                                       1  \\\n",
       "by_line                                                              NaN   \n",
       "caption_abstract                                                     NaN   \n",
       "contact                                                               []   \n",
       "copyright_notice                                                     NaN   \n",
       "date_created                                                         NaN   \n",
       "keywords                                                  [camera check]   \n",
       "object_name                                                          NaN   \n",
       "file_path              Grizzly Bear Target Species/Green Lake/Green L...   \n",
       "sub_location                                                         NaN   \n",
       "supplemental_category                                                 []   \n",
       "time_created                                                         NaN   \n",
       "\n",
       "                                                                       2  \\\n",
       "by_line                                                              NaN   \n",
       "caption_abstract                                                     NaN   \n",
       "contact                                                               []   \n",
       "copyright_notice                                                     NaN   \n",
       "date_created                                                         NaN   \n",
       "keywords                                                  [camera check]   \n",
       "object_name                                                          NaN   \n",
       "file_path              Grizzly Bear Target Species/Green Lake/Green L...   \n",
       "sub_location                                                         NaN   \n",
       "supplemental_category                                                 []   \n",
       "time_created                                                         NaN   \n",
       "\n",
       "                                                                       3  \\\n",
       "by_line                                                              NaN   \n",
       "caption_abstract                                                     NaN   \n",
       "contact                                                               []   \n",
       "copyright_notice                                                     NaN   \n",
       "date_created                                                         NaN   \n",
       "keywords                                                  [camera check]   \n",
       "object_name                                                          NaN   \n",
       "file_path              Grizzly Bear Target Species/Green Lake/Green L...   \n",
       "sub_location                                                         NaN   \n",
       "supplemental_category                                                 []   \n",
       "time_created                                                         NaN   \n",
       "\n",
       "                                                                       4  \n",
       "by_line                                                              NaN  \n",
       "caption_abstract                                                     NaN  \n",
       "contact                                                               []  \n",
       "copyright_notice                                                     NaN  \n",
       "date_created                                                         NaN  \n",
       "keywords                                                  [camera check]  \n",
       "object_name                                                          NaN  \n",
       "file_path              Grizzly Bear Target Species/Green Lake/Green L...  \n",
       "sub_location                                                         NaN  \n",
       "supplemental_category                                                 []  \n",
       "time_created                                                         NaN  "
      ]
     },
     "execution_count": 33,
     "metadata": {},
     "output_type": "execute_result"
    }
   ],
   "source": [
    "db.head()\n",
    "db = simplify_path(db)\n",
    "db.head().T"
   ]
  },
  {
   "cell_type": "markdown",
   "metadata": {},
   "source": [
    "# Handle Dates and Times"
   ]
  },
  {
   "cell_type": "code",
   "execution_count": null,
   "metadata": {
    "collapsed": false
   },
   "outputs": [],
   "source": [
    "# change type of entries in date_created to int?"
   ]
  },
  {
   "cell_type": "code",
   "execution_count": 88,
   "metadata": {
    "collapsed": false
   },
   "outputs": [],
   "source": [
    "def _fix_date(date):\n",
    "    # remove decimal?\n",
    "    date = str(date)\n",
    "    if date == 'nan':\n",
    "        return 'NaN'\n",
    "    else:\n",
    "        return re.sub('(....)(..)(..)(..)', '\\\\1-\\\\2-\\\\3', date)\n",
    "\n",
    "fix_date = np.vectorize(_fix_date)"
   ]
  },
  {
   "cell_type": "code",
   "execution_count": 93,
   "metadata": {
    "collapsed": false
   },
   "outputs": [
    {
     "data": {
      "text/html": [
       "<div>\n",
       "<table border=\"1\" class=\"dataframe\">\n",
       "  <thead>\n",
       "    <tr style=\"text-align: right;\">\n",
       "      <th></th>\n",
       "      <th>0</th>\n",
       "      <th>1</th>\n",
       "      <th>2</th>\n",
       "    </tr>\n",
       "  </thead>\n",
       "  <tbody>\n",
       "    <tr>\n",
       "      <th>by_line</th>\n",
       "      <td>Cathy Clark</td>\n",
       "      <td>Picasa</td>\n",
       "      <td>Cathy Clark</td>\n",
       "    </tr>\n",
       "    <tr>\n",
       "      <th>caption_abstract</th>\n",
       "      <td>M2E32L107-108R390B311</td>\n",
       "      <td>NaN</td>\n",
       "      <td>1</td>\n",
       "    </tr>\n",
       "    <tr>\n",
       "      <th>contact</th>\n",
       "      <td>[]</td>\n",
       "      <td>[]</td>\n",
       "      <td>[]</td>\n",
       "    </tr>\n",
       "    <tr>\n",
       "      <th>copyright_notice</th>\n",
       "      <td>Conservation Northwest</td>\n",
       "      <td>NaN</td>\n",
       "      <td>Conservation Northwest</td>\n",
       "    </tr>\n",
       "    <tr>\n",
       "      <th>date_created</th>\n",
       "      <td>2015-05-30</td>\n",
       "      <td>NaN</td>\n",
       "      <td>2015-06-04</td>\n",
       "    </tr>\n",
       "    <tr>\n",
       "      <th>file_path</th>\n",
       "      <td>first_sample/EK000004-2.JPG</td>\n",
       "      <td>first_sample/EK000004.JPG</td>\n",
       "      <td>first_sample/EK000010-2.JPG</td>\n",
       "    </tr>\n",
       "    <tr>\n",
       "      <th>keywords</th>\n",
       "      <td>[Camera Check]</td>\n",
       "      <td>[camera check]</td>\n",
       "      <td>[hoary marmot]</td>\n",
       "    </tr>\n",
       "    <tr>\n",
       "      <th>object_name</th>\n",
       "      <td>wolverine</td>\n",
       "      <td>NaN</td>\n",
       "      <td>wolverine</td>\n",
       "    </tr>\n",
       "    <tr>\n",
       "      <th>sub_location</th>\n",
       "      <td>Blackjack Ridge-2015-1</td>\n",
       "      <td>NaN</td>\n",
       "      <td>Blackjack Ridge-2015-1</td>\n",
       "    </tr>\n",
       "    <tr>\n",
       "      <th>supplemental_category</th>\n",
       "      <td>[]</td>\n",
       "      <td>[]</td>\n",
       "      <td>[]</td>\n",
       "    </tr>\n",
       "    <tr>\n",
       "      <th>time_created</th>\n",
       "      <td>114952</td>\n",
       "      <td>NaN</td>\n",
       "      <td>145440</td>\n",
       "    </tr>\n",
       "  </tbody>\n",
       "</table>\n",
       "</div>"
      ],
      "text/plain": [
       "                                                 0                          1  \\\n",
       "by_line                                Cathy Clark                     Picasa   \n",
       "caption_abstract             M2E32L107-108R390B311                        NaN   \n",
       "contact                                         []                         []   \n",
       "copyright_notice            Conservation Northwest                        NaN   \n",
       "date_created                            2015-05-30                        NaN   \n",
       "file_path              first_sample/EK000004-2.JPG  first_sample/EK000004.JPG   \n",
       "keywords                            [Camera Check]             [camera check]   \n",
       "object_name                              wolverine                        NaN   \n",
       "sub_location                Blackjack Ridge-2015-1                        NaN   \n",
       "supplemental_category                           []                         []   \n",
       "time_created                                114952                        NaN   \n",
       "\n",
       "                                                 2  \n",
       "by_line                                Cathy Clark  \n",
       "caption_abstract                                 1  \n",
       "contact                                         []  \n",
       "copyright_notice            Conservation Northwest  \n",
       "date_created                            2015-06-04  \n",
       "file_path              first_sample/EK000010-2.JPG  \n",
       "keywords                            [hoary marmot]  \n",
       "object_name                              wolverine  \n",
       "sub_location                Blackjack Ridge-2015-1  \n",
       "supplemental_category                           []  \n",
       "time_created                                145440  "
      ]
     },
     "execution_count": 93,
     "metadata": {},
     "output_type": "execute_result"
    }
   ],
   "source": [
    "db.date_created = fix_date(db.date_created)\n",
    "db.head(3).T"
   ]
  },
  {
   "cell_type": "code",
   "execution_count": 102,
   "metadata": {
    "collapsed": false
   },
   "outputs": [],
   "source": [
    "def _fix_time(time):\n",
    "    # remove decimal?\n",
    "    time = str(time)\n",
    "    if time == 'nan':\n",
    "        return None\n",
    "    elif len(time) == 7:\n",
    "        return re.sub('(.)(..)(..)(..)', '\\\\1:\\\\2:\\\\3', time)\n",
    "    else:\n",
    "        return re.sub('(..)(..)(..)(..)', '\\\\1:\\\\2:\\\\3', time)\n",
    "\n",
    "fix_time = np.vectorize(_fix_time)"
   ]
  },
  {
   "cell_type": "code",
   "execution_count": 103,
   "metadata": {
    "collapsed": false
   },
   "outputs": [
    {
     "data": {
      "text/plain": [
       "array(['11:49:52', 'None', '14:54:40', 'None', '2:54:40', 'None',\n",
       "       '2:54:41', 'None', '2:54:46', 'None', '19:56:03', 'None', '7:04:24',\n",
       "       'None', '19:04:25', 'None', '19:04:26', 'None', '19:04:29', 'None',\n",
       "       '19:04:30', 'None', '19:04:30', 'None', '19:04:25', 'None',\n",
       "       '19:04:26', 'None', '19:04:29', 'None', '19:04:30', 'None',\n",
       "       '19:04:30', 'None'], \n",
       "      dtype='|S8')"
      ]
     },
     "execution_count": 103,
     "metadata": {},
     "output_type": "execute_result"
    }
   ],
   "source": [
    "fix_time(db.time_created)"
   ]
  },
  {
   "cell_type": "markdown",
   "metadata": {},
   "source": [
    "# Handle null values . . . or save for spark?\n",
    "## (and Clean Obvious Duplicates?)"
   ]
  },
  {
   "cell_type": "markdown",
   "metadata": {},
   "source": [
    "THOUGHTS:\n",
    "\n",
    "drop anything where \n",
    "+ ? improper/nonexistent keywords\n",
    "+ ? by_line: Picasa (or similar)\n",
    "+ ? by_line NOT person name\n",
    "+ ? object / copyright / sub_loc == NaN\n"
   ]
  },
  {
   "cell_type": "code",
   "execution_count": 1,
   "metadata": {
    "collapsed": false
   },
   "outputs": [
    {
     "ename": "NameError",
     "evalue": "name 'db' is not defined",
     "output_type": "error",
     "traceback": [
      "\u001b[0;31m---------------------------------------------------------------------------\u001b[0m",
      "\u001b[0;31mNameError\u001b[0m                                 Traceback (most recent call last)",
      "\u001b[0;32m<ipython-input-1-a2298b9552e1>\u001b[0m in \u001b[0;36m<module>\u001b[0;34m()\u001b[0m\n\u001b[0;32m----> 1\u001b[0;31m \u001b[0mdb\u001b[0m\u001b[0;34m[\u001b[0m\u001b[0;34m[\u001b[0m\u001b[0;34m'keywords'\u001b[0m\u001b[0;34m,\u001b[0m \u001b[0;34m'file_path'\u001b[0m\u001b[0;34m,\u001b[0m \u001b[0;34m'copyright_notice'\u001b[0m\u001b[0;34m]\u001b[0m\u001b[0;34m]\u001b[0m\u001b[0;34m\u001b[0m\u001b[0m\n\u001b[0m",
      "\u001b[0;31mNameError\u001b[0m: name 'db' is not defined"
     ]
    }
   ],
   "source": [
    "db[['keywords', 'file_path', 'copyright_notice']]"
   ]
  },
  {
   "cell_type": "code",
   "execution_count": null,
   "metadata": {
    "collapsed": true
   },
   "outputs": [],
   "source": []
  }
 ],
 "metadata": {
  "kernelspec": {
   "display_name": "Python [Root]",
   "language": "python",
   "name": "Python [Root]"
  },
  "language_info": {
   "codemirror_mode": {
    "name": "ipython",
    "version": 2
   },
   "file_extension": ".py",
   "mimetype": "text/x-python",
   "name": "python",
   "nbconvert_exporter": "python",
   "pygments_lexer": "ipython2",
   "version": "2.7.12"
  }
 },
 "nbformat": 4,
 "nbformat_minor": 0
}
