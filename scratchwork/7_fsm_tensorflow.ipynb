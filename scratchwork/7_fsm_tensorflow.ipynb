{
 "cells": [
  {
   "cell_type": "code",
   "execution_count": 45,
   "metadata": {
    "collapsed": false
   },
   "outputs": [],
   "source": [
    "from __future__ import division\n",
    "import os\n",
    "import re\n",
    "\n",
    "import tensorflow as tf\n",
    "import tensorflow.python.platform\n",
    "from tensorflow.python.platform import gfile\n",
    "\n",
    "import numpy as np\n",
    "import pandas as pd\n",
    "\n",
    "import cPickle as pickle\n",
    "\n",
    "import sklearn\n",
    "from sklearn import cross_validation\n",
    "from sklearn.metrics import accuracy_score, confusion_matrix\n",
    "from sklearn.svm import SVC, LinearSVC\n",
    "\n",
    "from sklearn.ensemble import RandomForestClassifier as RF\n",
    "from sklearn.model_selection import cross_val_score\n",
    "\n",
    "import src.data_pipeline as dpl\n",
    "\n",
    "import matplotlib.pyplot as plt\n",
    "%matplotlib inline\n"
   ]
  },
  {
   "cell_type": "code",
   "execution_count": 2,
   "metadata": {
    "collapsed": false
   },
   "outputs": [],
   "source": [
    "import src.metadata_handler as mdh\n",
    "import src.clean_db as cdb\n",
    "import src.data_pipeline as dpl\n",
    "\n",
    "\n",
    "%autoreload 2"
   ]
  },
  {
   "cell_type": "code",
   "execution_count": 3,
   "metadata": {
    "collapsed": false
   },
   "outputs": [],
   "source": [
    "# run_model(model,X_test,y_test)"
   ]
  },
  {
   "cell_type": "markdown",
   "metadata": {},
   "source": [
    "# TENSORFLOW \n",
    "### (thanks http://www.kernix.com/blog/)"
   ]
  },
  {
   "cell_type": "code",
   "execution_count": 4,
   "metadata": {
    "collapsed": false
   },
   "outputs": [],
   "source": [
    "model_dir = 'imagenet'\n",
    "images_dir = 'data/second_sample'\n",
    "list_images = []\n",
    "for p, dirs, files in os.walk(images_dir):\n",
    "    for ff in files:\n",
    "        if re.search('jpg|JPG', ff):\n",
    "            list_images.append(p+'/'+ff)"
   ]
  },
  {
   "cell_type": "code",
   "execution_count": 5,
   "metadata": {
    "collapsed": false
   },
   "outputs": [],
   "source": [
    "def create_graph():\n",
    "    with gfile.FastGFile(os.path.join(\n",
    "        model_dir, 'classify_image_graph_def.pb'), 'rb') as f:\n",
    "        graph_def = tf.GraphDef()\n",
    "        graph_def.ParseFromString(f.read())\n",
    "        _ = tf.import_graph_def(graph_def, name='')"
   ]
  },
  {
   "cell_type": "code",
   "execution_count": 32,
   "metadata": {
    "collapsed": false
   },
   "outputs": [],
   "source": [
    "def extract_features(list_images):\n",
    "    nb_features = 2048\n",
    "    features = np.empty((len(list_images),nb_features))\n",
    "    labels = []\n",
    "\n",
    "    create_graph()\n",
    "\n",
    "    with tf.Session() as sess:\n",
    "\n",
    "        next_to_last_tensor = sess.graph.get_tensor_by_name('pool_3:0')\n",
    "\n",
    "        for ind, image in enumerate(list_images):\n",
    "            if (ind%50 == 0):\n",
    "                print('Processing %s...' % (image))\n",
    "            if not gfile.Exists(image):\n",
    "                tf.logging.fatal('File does not exist %s', image)\n",
    "\n",
    "            image_data = gfile.FastGFile(image, 'rb').read()\n",
    "\n",
    "            predictions = sess.run(next_to_last_tensor,\n",
    "                                {'DecodeJpeg/contents:0': image_data})\n",
    "            features[ind,:] = np.squeeze(predictions)\n",
    "            labels.append(re.split('_\\d+',image.split('/')[1])[0])\n",
    "\n",
    "    return features, labels"
   ]
  },
  {
   "cell_type": "code",
   "execution_count": 33,
   "metadata": {
    "collapsed": false
   },
   "outputs": [],
   "source": [
    "# features,labels = extract_features(list_images)\n",
    "features = np.load('data/second_sample_data/features.npy')\n"
   ]
  },
  {
   "cell_type": "code",
   "execution_count": 34,
   "metadata": {
    "collapsed": false
   },
   "outputs": [
    {
     "data": {
      "text/plain": [
       "array([[ 0.28252327,  1.48760569,  0.        , ...,  0.12448382,\n",
       "         0.12246145,  0.        ],\n",
       "       [ 0.1745436 ,  1.41192591,  0.10526261, ...,  0.01048298,\n",
       "         0.3493064 ,  0.27443966],\n",
       "       [ 0.15180936,  1.12407768,  0.13523309, ...,  0.00698394,\n",
       "         0.30669007,  0.36527279]])"
      ]
     },
     "execution_count": 34,
     "metadata": {},
     "output_type": "execute_result"
    }
   ],
   "source": [
    "features[:3]"
   ]
  },
  {
   "cell_type": "markdown",
   "metadata": {},
   "source": [
    "# preparing database, create model, and eval tools"
   ]
  },
  {
   "cell_type": "code",
   "execution_count": 35,
   "metadata": {
    "collapsed": false
   },
   "outputs": [],
   "source": [
    "def prep_data(dataset, drophare = True):\n",
    "    # open full dataframe\n",
    "    df = dpl.load_df(dataset)\n",
    "    \n",
    "    # choose the parts I need\n",
    "    d1 = {'ungulate':[\"[u'mule deer']\", \"[u'White-tailed deer']\", \"[u'elk']\"],\n",
    "          'feline':[\"[u'bobcat']\", \"[u'Canada lynx']\"],\n",
    "          'hare':[\"[u'snowshoe hare']\"],\n",
    "          'canine':[\"[u'coyote']\", \"[u'domestic dog']\"],\n",
    "          'small': [\"[u'mouse']\", \"[u'red squirrel']\", \"[u'Robin']\", \"[u'bird']\",\n",
    "                    \"[u'northern flying squirrel']\", \"[u'Squirrel (unidentified)']\", \n",
    "                    \"[u'chipmunk']\", \"[u'Squirrel']\"],\n",
    "          'other':[\"[u'unidentified']\", \"[u'Camera Check']\", \"[u'striped skunk']\",\n",
    "                   \"[u'Wolverine']\", \"[]\", \"[u'cougar']\"]}\n",
    "\n",
    "    d2 = {}\n",
    "    for key,value in d1.iteritems():\n",
    "        for item in value:\n",
    "            d2[item] = key\n",
    "\n",
    "    labels = df['labels'].map(d2)\n",
    "    features = df.drop(['labels'], axis = 1) \n",
    "    \n",
    "    missed_labels = df['labels'][labels.isnull()]\n",
    "\n",
    "    if len(missed_labels) != 0:\n",
    "        print 'the following labels were missed\\n', missed_labels.unique()\n",
    "        print 'dropping rows with these labels'\n",
    "#        df.drop([labels.isnull()], axis = 0)\n",
    "\n",
    "    if drophare:\n",
    "        print 'dropping \"hare\" for balance'\n",
    "        features = features[(labels != 'hare').values]\n",
    "        labels = labels[labels!='hare']\n",
    "\n",
    "    return features, labels"
   ]
  },
  {
   "cell_type": "code",
   "execution_count": 37,
   "metadata": {
    "collapsed": false
   },
   "outputs": [],
   "source": [
    "def create_SVC_model(F,L):\n",
    "    X_train, X_test, y_train, y_test = cross_validation.train_test_split(F,L, test_size=0.2, random_state=80)\n",
    "\n",
    "    svm = LinearSVC(C=1.0, loss='squared_hinge', penalty='l2',multi_class='ovr')\n",
    "    model = svm.fit(X_train, y_train)\n",
    "    y_pred = model.predict(X_test)\n",
    "    return model, X_test, y_test, y_pred"
   ]
  },
  {
   "cell_type": "code",
   "execution_count": 38,
   "metadata": {
    "collapsed": false
   },
   "outputs": [],
   "source": [
    "# run / eval model\n",
    "def eval_model(model, X_test, y_test):\n",
    "    # Modify for web app (or create new function)\n",
    "    # to predict one photo\n",
    "    def crossval(score_type):\n",
    "        try: score = cross_val_score(model, X_test, y_test,\n",
    "                            cv = 5, scoring= score_type)\n",
    "        except: score = 'invalid metric'\n",
    "\n",
    "        return score\n",
    "    \n",
    "    print \"accuracy : \", crossval('accuracy')\n",
    "    print \"precision: \", crossval('precision')\n",
    "    print \"recall   : \", crossval('recall')\n",
    "    print \"- logloss: \", crossval('neg_log_loss')"
   ]
  },
  {
   "cell_type": "code",
   "execution_count": 39,
   "metadata": {
    "collapsed": false
   },
   "outputs": [],
   "source": [
    "# model = create_model(X,y)"
   ]
  },
  {
   "cell_type": "markdown",
   "metadata": {},
   "source": [
    "# Define Plots"
   ]
  },
  {
   "cell_type": "code",
   "execution_count": 40,
   "metadata": {
    "collapsed": false
   },
   "outputs": [],
   "source": [
    "def plot_confusion_matrix(y_true,y_pred):\n",
    "    cm_array = confusion_matrix(y_true,y_pred)\n",
    "    true_labels = np.unique(y_true)\n",
    "    pred_labels = np.unique(y_pred)\n",
    "    plt.imshow(cm_array, interpolation='nearest', cmap=plt.cm.Blues)\n",
    "    plt.title(\"Confusion matrix\", fontsize=16)\n",
    "    cbar = plt.colorbar(fraction=0.046, pad=0.04)\n",
    "    cbar.set_label('Number of images', rotation=270, labelpad=30, fontsize=12)\n",
    "    xtick_marks = np.arange(len(true_labels)+1)\n",
    "    ytick_marks = np.arange(len(pred_labels)+1)\n",
    "    plt.xticks(xtick_marks, true_labels, rotation=90)\n",
    "    plt.yticks(ytick_marks,pred_labels)\n",
    "    plt.tight_layout()\n",
    "    plt.ylabel('True label', fontsize=14)\n",
    "    plt.xlabel('Predicted label', fontsize=14)\n",
    "    fig_size = plt.rcParams[\"figure.figsize\"]\n",
    "    fig_size[0] = 8\n",
    "    fig_size[1] = 8\n",
    "    plt.rcParams[\"figure.figsize\"] = fig_size"
   ]
  },
  {
   "cell_type": "code",
   "execution_count": 41,
   "metadata": {
    "collapsed": true
   },
   "outputs": [],
   "source": [
    "def plot_matrix(array):\n",
    "    cm_array = array\n",
    "    true_labels = np.unique(y_test)\n",
    "    pred_labels = np.unique(y_pred)\n",
    "    plt.imshow(cm_array, interpolation='nearest', cmap=plt.cm.Blues)\n",
    "    plt.title(\"Confusion matrix\", fontsize=16)\n",
    "    cbar = plt.colorbar(fraction=0.046, pad=0.04)\n",
    "    cbar.set_label('Percent True', rotation=270, labelpad=30, fontsize=12)\n",
    "    xtick_marks = np.arange(len(true_labels)+1)\n",
    "    ytick_marks = np.arange(len(pred_labels)+1)\n",
    "    plt.xticks(xtick_marks, true_labels, rotation=90)\n",
    "    plt.yticks(ytick_marks,pred_labels)\n",
    "    plt.tight_layout()\n",
    "    plt.ylabel('True label', fontsize=14)\n",
    "    plt.xlabel('Predicted label', fontsize=14)\n",
    "    fig_size = plt.rcParams[\"figure.figsize\"]\n",
    "    fig_size[0] = 8\n",
    "    fig_size[1] = 8\n",
    "    plt.rcParams[\"figure.figsize\"] = fig_size"
   ]
  },
  {
   "cell_type": "markdown",
   "metadata": {},
   "source": [
    "# Model fsm2"
   ]
  },
  {
   "cell_type": "code",
   "execution_count": 42,
   "metadata": {
    "collapsed": false
   },
   "outputs": [
    {
     "name": "stdout",
     "output_type": "stream",
     "text": [
      "dropping \"hare\" for balance\n"
     ]
    }
   ],
   "source": [
    "F,L = prep_data('second_sample_data')\n",
    "\n",
    "model, X_test, y_test, y_pred = create_SVC_model(F, L)"
   ]
  },
  {
   "cell_type": "code",
   "execution_count": 43,
   "metadata": {
    "collapsed": false
   },
   "outputs": [
    {
     "name": "stdout",
     "output_type": "stream",
     "text": [
      "accuracy :  [ 0.83333333  0.86363636  0.95238095  0.9047619   0.85      ]\n",
      "precision:  invalid metric\n",
      "recall   :  invalid metric\n",
      "- logloss:  invalid metric\n"
     ]
    }
   ],
   "source": [
    "eval_model(model, X_test, y_test)\n",
    "\n"
   ]
  },
  {
   "cell_type": "code",
   "execution_count": 44,
   "metadata": {
    "collapsed": false
   },
   "outputs": [
    {
     "name": "stdout",
     "output_type": "stream",
     "text": [
      "Total value counts: \n",
      "ungulate    193\n",
      "small       104\n",
      "other       101\n",
      "canine       95\n",
      "feline       43\n",
      "Name: labels, dtype: int64\n",
      "\n",
      "Test set value counts:\n",
      "ungulate    40\n",
      "canine      22\n",
      "small       21\n",
      "other       14\n",
      "feline      11\n",
      "Name: labels, dtype: int64\n",
      "\n",
      "Test Confusion Matrix:\n",
      "[[22  0  0  0  0]\n",
      " [ 0 11  0  0  0]\n",
      " [ 0  0 12  1  1]\n",
      " [ 0  0  0 21  0]\n",
      " [ 0  0  0  0 40]]\n",
      "\n",
      "Percentage (sort of)\n",
      "[[ 100.            0.            0.            0.            0.        ]\n",
      " [   0.          100.            0.            0.            0.        ]\n",
      " [   0.            0.           85.71428571    7.14285714    7.14285714]\n",
      " [   0.            0.            0.          100.            0.        ]\n",
      " [   0.            0.            0.            0.          100.        ]]\n",
      "\n",
      "\n"
     ]
    }
   ],
   "source": [
    "# Manually put labels in order\n",
    "alph_val_count = np.array([[22, 11, 14, 21, 40]])\n",
    "percent_matrix = confusion_matrix(y_test,y_pred)*100/alph_val_count.T\n",
    "\n",
    "print \"Total value counts: \\n\",L.value_counts()\n",
    "print \"\\nTest set value counts:\\n\",y_test.value_counts()\n",
    "print '\\nTest Confusion Matrix:\\n',confusion_matrix(y_test,y_pred)\n",
    "print '\\nPercentage (sort of)\\n', percent_matrix\n",
    "print '\\n'"
   ]
  },
  {
   "cell_type": "code",
   "execution_count": 22,
   "metadata": {
    "collapsed": false
   },
   "outputs": [],
   "source": [
    "# plot_confusion_matrix(y_test, y_pred)"
   ]
  },
  {
   "cell_type": "code",
   "execution_count": 23,
   "metadata": {
    "collapsed": false
   },
   "outputs": [
    {
     "data": {
      "image/png": "[encoded data removed]",
      "text/plain": [
       "<matplotlib.figure.Figure at 0x10addfa10>"
      ]
     },
     "metadata": {},
     "output_type": "display_data"
    }
   ],
   "source": [
    "plot_matrix(percent_matrix)"
   ]
  },
  {
   "cell_type": "markdown",
   "metadata": {},
   "source": [
    "# With Hare (unbalanced)"
   ]
  },
  {
   "cell_type": "code",
   "execution_count": 24,
   "metadata": {
    "collapsed": true
   },
   "outputs": [],
   "source": [
    "F,L = prep_data('second_sample_data', drophare = False)\n",
    "\n",
    "model, X_test, y_test, y_pred = create_SVC_model(F, L)\n",
    "\n",
    "# Manually order count_values :(\n",
    "A = np.array([[16,5,175,24,27,46]])\n",
    "percent_matrix = confusion_matrix(y_test,y_pred)*100/A.T"
   ]
  },
  {
   "cell_type": "code",
   "execution_count": 26,
   "metadata": {
    "collapsed": false
   },
   "outputs": [
    {
     "name": "stdout",
     "output_type": "stream",
     "text": [
      "Total value counts: \n",
      "hare        928\n",
      "ungulate    193\n",
      "small       104\n",
      "other       101\n",
      "canine       95\n",
      "feline       43\n",
      "Name: labels, dtype: int64\n",
      "\n",
      "Test set value counts:\n",
      "hare        175\n",
      "ungulate     46\n",
      "small        27\n",
      "other        24\n",
      "canine       16\n",
      "feline        5\n",
      "Name: labels, dtype: int64\n",
      "\n",
      "Test Confusion Matrix:\n",
      "[[ 16   0   0   0   0   0]\n",
      " [  0   5   0   0   0   0]\n",
      " [  0   1 165   4   1   4]\n",
      " [  0   0  11  10   2   1]\n",
      " [  0   0   3   0  24   0]\n",
      " [  0   0   7   0   0  39]]\n",
      "\n",
      "Percentage (sort of)\n",
      "[[ 100.      0.      0.      0.      0.      0.  ]\n",
      " [   0.    100.      0.      0.      0.      0.  ]\n",
      " [   0.      0.57   94.29    2.29    0.57    2.29]\n",
      " [   0.      0.     45.83   41.67    8.33    4.17]\n",
      " [   0.      0.     11.11    0.     88.89    0.  ]\n",
      " [   0.      0.     15.22    0.      0.     84.78]]\n",
      "\n",
      "\n"
     ]
    }
   ],
   "source": [
    "print \"Total value counts: \\n\",L.value_counts()\n",
    "print \"\\nTest set value counts:\\n\",y_test.value_counts()\n",
    "print '\\nTest Confusion Matrix:\\n',confusion_matrix(y_test,y_pred)\n",
    "print '\\nPercentage (sort of)\\n', np.round(percent_matrix, decimals=2)\n",
    "print '\\n'"
   ]
  },
  {
   "cell_type": "code",
   "execution_count": 27,
   "metadata": {
    "collapsed": false
   },
   "outputs": [
    {
     "data": {
      "image/png": "[encoded data removed]",
      "text/plain": [
       "<matplotlib.figure.Figure at 0x120f21990>"
      ]
     },
     "metadata": {},
     "output_type": "display_data"
    }
   ],
   "source": [
    "plot_matrix(percent_matrix)"
   ]
  },
  {
   "cell_type": "markdown",
   "metadata": {},
   "source": [
    "#### ToDo\n",
    "\n",
    "* be sure metadata is not being used by CNN\n",
    "* Try dropping 'other' group\n",
    "* try including (some of) 'hare'\n",
    "* Try replacing 'small' with 'hare'\n",
    "* Try running model on one set of cameras/positions\n",
    "    + Then test with a new camera"
   ]
  },
  {
   "cell_type": "code",
   "execution_count": null,
   "metadata": {
    "collapsed": true
   },
   "outputs": [],
   "source": []
  }
 ],
 "metadata": {
  "anaconda-cloud": {},
  "kernelspec": {
   "display_name": "Python [Root]",
   "language": "python",
   "name": "Python [Root]"
  },
  "language_info": {
   "codemirror_mode": {
    "name": "ipython",
    "version": 2
   },
   "file_extension": ".py",
   "mimetype": "text/x-python",
   "name": "python",
   "nbconvert_exporter": "python",
   "pygments_lexer": "ipython2",
   "version": "2.7.12"
  }
 },
 "nbformat": 4,
 "nbformat_minor": 0
}
