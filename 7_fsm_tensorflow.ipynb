{
 "cells": [
  {
   "cell_type": "code",
   "execution_count": 11,
   "metadata": {
    "collapsed": false
   },
   "outputs": [],
   "source": [
    "import os\n",
    "import re\n",
    "\n",
    "import tensorflow as tf\n",
    "import tensorflow.python.platform\n",
    "from tensorflow.python.platform import gfile\n",
    "\n",
    "import numpy as np\n",
    "import pandas as pd\n",
    "\n",
    "import cPickle as pickle\n",
    "\n",
    "import sklearn\n",
    "from sklearn import cross_validation\n",
    "from sklearn.metrics import accuracy_score, confusion_matrix\n",
    "from sklearn.svm import SVC, LinearSVC\n",
    "\n",
    "from sklearn.ensemble import RandomForestClassifier as RF\n",
    "from sklearn.model_selection import cross_val_score\n",
    "\n",
    "import matplotlib.pyplot as plt\n",
    "%matplotlib inline\n"
   ]
  },
  {
   "cell_type": "code",
   "execution_count": 2,
   "metadata": {
    "collapsed": true
   },
   "outputs": [],
   "source": [
    "import src.metadata_handler as mdh\n",
    "import src.clean_db as cdb\n",
    "import src.data_pipeline as dpl\n",
    "import src.path_handler as ph\n",
    "\n",
    "%autoreload 2"
   ]
  },
  {
   "cell_type": "code",
   "execution_count": 50,
   "metadata": {
    "collapsed": true
   },
   "outputs": [],
   "source": [
    "# load SFrame\n",
    "def get_data():\n",
    "\n",
    "    \n",
    "def load_data():\n",
    "    "
   ]
  },
  {
   "cell_type": "code",
   "execution_count": 55,
   "metadata": {
    "collapsed": false
   },
   "outputs": [],
   "source": [
    "# Create Model\n",
    "def create_model(X,y):\n",
    "\n",
    "    rf = RF(n_estimators=60, criterion='gini', max_depth=200, \n",
    "          min_samples_split=2, min_samples_leaf=1, \n",
    "          min_weight_fraction_leaf=0.0, max_features=600, \n",
    "          max_leaf_nodes=None, min_impurity_split=1e-07, \n",
    "          bootstrap=True, oob_score=False, n_jobs=2, \n",
    "          random_state=None, verbose=0, warm_start=False, \n",
    "          class_weight=None)\n",
    "\n",
    "    rf_modl = rf.fit(X,y)\n",
    "    return rf_modl"
   ]
  },
  {
   "cell_type": "code",
   "execution_count": 56,
   "metadata": {
    "collapsed": false
   },
   "outputs": [],
   "source": [
    "model = create_model(X,y)"
   ]
  },
  {
   "cell_type": "code",
   "execution_count": 161,
   "metadata": {
    "collapsed": false
   },
   "outputs": [
    {
     "name": "stdout",
     "output_type": "stream",
     "text": [
      "\n"
     ]
    }
   ],
   "source": [
    "# run / eval model\n",
    "def eval_model(model, X_test, y_test):\n",
    "    # Modify for web app (or create new function)\n",
    "    # to predict one photo\n",
    "    def crossval(score_type):\n",
    "        try: score = cross_val_score(model, X_test, y_test,\n",
    "                            cv = 5, scoring= score_type)\n",
    "        except: score = 'invalid metric'\n",
    "\n",
    "        return score\n",
    "    \n",
    "    print \"accuracy : \", crossval('accuracy')\n",
    "    print \"precision: \", crossval('precision')\n",
    "    print \"recall   : \", crossval('recall')\n",
    "    print \"- logloss: \", crossval('neg_log_loss')"
   ]
  },
  {
   "cell_type": "code",
   "execution_count": 57,
   "metadata": {
    "collapsed": false
   },
   "outputs": [
    {
     "name": "stdout",
     "output_type": "stream",
     "text": [
      "The test set contains 65 deer, out of 122 entries. The set is 53.2786885246% deer\n",
      "accuracy :  [ 0.44        0.44        0.41666667  0.66666667  0.41666667]\n",
      "precision:  [ 0.41666667  0.57142857  0.35714286  0.58333333  0.5       ]\n",
      "recall   :  [ 0.38461538  0.53846154  0.23076923  0.46153846  0.61538462]\n",
      "- logloss:  [-0.74832746 -0.8359539  -0.93367259 -0.77683873 -0.82345745]\n"
     ]
    }
   ],
   "source": [
    "run_model(model,X_test,y_test)"
   ]
  },
  {
   "cell_type": "markdown",
   "metadata": {},
   "source": [
    "# TENSORFLOW \n",
    "### (thanks http://www.kernix.com/blog/)"
   ]
  },
  {
   "cell_type": "code",
   "execution_count": 59,
   "metadata": {
    "collapsed": false
   },
   "outputs": [],
   "source": [
    "model_dir = 'imagenet'\n",
    "images_dir = 'data/second_sample'\n",
    "list_images = []\n",
    "for p, dirs, files in os.walk(images_dir):\n",
    "    for ff in files:\n",
    "        if re.search('jpg|JPG', ff):\n",
    "            list_images.append(p+'/'+ff)"
   ]
  },
  {
   "cell_type": "code",
   "execution_count": 60,
   "metadata": {
    "collapsed": false
   },
   "outputs": [],
   "source": [
    "def create_graph():\n",
    "    with gfile.FastGFile(os.path.join(\n",
    "        model_dir, 'classify_image_graph_def.pb'), 'rb') as f:\n",
    "        graph_def = tf.GraphDef()\n",
    "        graph_def.ParseFromString(f.read())\n",
    "        _ = tf.import_graph_def(graph_def, name='')"
   ]
  },
  {
   "cell_type": "code",
   "execution_count": 61,
   "metadata": {
    "collapsed": false
   },
   "outputs": [],
   "source": [
    "def extract_features(list_images):\n",
    "    nb_features = 2048\n",
    "    features = np.empty((len(list_images),nb_features))\n",
    "    labels = []\n",
    "\n",
    "    create_graph()\n",
    "\n",
    "    with tf.Session() as sess:\n",
    "\n",
    "        next_to_last_tensor = sess.graph.get_tensor_by_name('pool_3:0')\n",
    "\n",
    "        for ind, image in enumerate(list_images):\n",
    "            if (ind%50 == 0):\n",
    "                print('Processing %s...' % (image))\n",
    "            if not gfile.Exists(image):\n",
    "                tf.logging.fatal('File does not exist %s', image)\n",
    "\n",
    "            image_data = gfile.FastGFile(image, 'rb').read()\n",
    "\n",
    "            predictions = sess.run(next_to_last_tensor,\n",
    "                                {'DecodeJpeg/contents:0': image_data})\n",
    "            features[ind,:] = np.squeeze(predictions)\n",
    "            labels.append(re.split('_\\d+',image.split('/')[1])[0])\n",
    "\n",
    "    return features, labels"
   ]
  },
  {
   "cell_type": "code",
   "execution_count": 62,
   "metadata": {
    "collapsed": false
   },
   "outputs": [
    {
     "name": "stdout",
     "output_type": "stream",
     "text": [
      "Processing data/second_sample/BC Kettles/Site 1/April 2015/PICT0021.JPG...\n",
      "Processing data/second_sample/BC Kettles/Site 1/January 2015/PICT0174.JPG...\n",
      "Processing data/second_sample/BC Kettles/Site 3/April 2015/EK000055.jpg...\n",
      "Processing data/second_sample/Hope Mountain/Hope Mountain-2015-1/11.22.14-2.1.15/01080241.JPG...\n",
      "Processing data/second_sample/Hope Mountain/Hope Mountain-2015-1/11.22.14-2.1.15/01140341.JPG...\n",
      "Processing data/second_sample/Hope Mountain/Hope Mountain-2015-1/11.22.14-2.1.15/01210441.JPG...\n",
      "Processing data/second_sample/Hope Mountain/Hope Mountain-2015-1/2.1.15-4.11.15/02040454.JPG...\n",
      "Processing data/second_sample/Hope Mountain/Hope Mountain-2015-1/2.1.15-4.11.15/02200774.JPG...\n",
      "Processing data/second_sample/Hope Mountain/Hope Mountain-2015-1/2.1.15-4.11.15/03100936.JPG...\n",
      "Processing data/second_sample/Hope Mountain/Hope Mountain-2015-2/11.22.14-4.11.15/PICT0107.JPG...\n",
      "Processing data/second_sample/Hope Mountain/Hope Mountain-2015-2/11.22.14-4.11.15/PICT0243.JPG...\n",
      "Processing data/second_sample/Hope Mountain/Hope Mountain-2015-2/11.22.14-4.11.15/PICT0361.JPG...\n",
      "Processing data/second_sample/Hope Mountain/Hope Mountain-2015-2/11.22.14-4.11.15/PICT0488.JPG...\n",
      "Processing data/second_sample/Hope Mountain/Hope Mountain-2015-2/11.22.14-4.11.15/PICT0629.JPG...\n",
      "Processing data/second_sample/Hope Mountain/Hope Mountain-2015-2/11.22.14-4.11.15/PICT0750.JPG...\n"
     ]
    }
   ],
   "source": [
    "features,labels = extract_features(list_images)"
   ]
  },
  {
   "cell_type": "code",
   "execution_count": 63,
   "metadata": {
    "collapsed": false
   },
   "outputs": [
    {
     "data": {
      "text/plain": [
       "array([[ 0.28252327,  1.48760569,  0.        , ...,  0.12448382,\n",
       "         0.12246145,  0.        ],\n",
       "       [ 0.1745436 ,  1.41192591,  0.10526261, ...,  0.01048298,\n",
       "         0.3493064 ,  0.27443966],\n",
       "       [ 0.15180936,  1.12407768,  0.13523309, ...,  0.00698394,\n",
       "         0.30669007,  0.36527279]])"
      ]
     },
     "execution_count": 63,
     "metadata": {},
     "output_type": "execute_result"
    }
   ],
   "source": [
    "features[:3]"
   ]
  },
  {
   "cell_type": "markdown",
   "metadata": {},
   "source": [
    "# preparing my database ... more ... again .... (T_T)"
   ]
  },
  {
   "cell_type": "code",
   "execution_count": 149,
   "metadata": {
    "collapsed": false
   },
   "outputs": [],
   "source": [
    "# Borrowing csv from FSM\n",
    "cdb.main('data/FirstStupidModel/raw_metadata.json', 'data/FirstStupidModel/metadata.csv')\n",
    "\n",
    "raw_df = pd.read_csv('data/FirstStupidModel/metadata.csv')\n",
    "\n",
    "# raw_df.head().T"
   ]
  },
  {
   "cell_type": "code",
   "execution_count": 215,
   "metadata": {
    "collapsed": false
   },
   "outputs": [
    {
     "name": "stdout",
     "output_type": "stream",
     "text": [
      "label vaues: \n",
      "hare        928\n",
      "ungulate    193\n",
      "small       104\n",
      "other       101\n",
      "canine       95\n",
      "feline       43\n",
      "Name: keywords, dtype: int64\n",
      "\n",
      "temp size:  1464\n"
     ]
    }
   ],
   "source": [
    "df = raw_df.copy()\n",
    "df.loc[df.keywords == '[]', 'keywords'] = \"not_provided\"\n",
    "\n",
    "d1 = {'ungulate':[\"[u'mule deer']\", \"[u'White-tailed deer']\", \"[u'elk']\"],\n",
    "      'feline':[\"[u'bobcat']\", \"[u'Canada lynx']\"],\n",
    "      'hare':[\"[u'snowshoe hare']\"],\n",
    "      'canine':[\"[u'coyote']\", \"[u'domestic dog']\"],\n",
    "      'small': [\"[u'mouse']\", \"[u'red squirrel']\", \"[u'Robin']\", \"[u'bird']\",\n",
    "                \"[u'northern flying squirrel']\", \"[u'Squirrel (unidentified)']\", \n",
    "                \"[u'chipmunk']\", \"[u'Squirrel']\"],\n",
    "      'other':[\"[u'unidentified']\", \"[u'Camera Check']\", \"[u'striped skunk']\",\n",
    "               \"[u'Wolverine']\", \"not_provided\", \"[u'cougar']\"]}\n",
    "\n",
    "d2 = {}\n",
    "for key,value in d1.iteritems():\n",
    "    for item in value:\n",
    "        d2[item] = key\n",
    "\n",
    "\n",
    "labels = df.keywords.map(d2)\n",
    "\n",
    "print \"label vaues: \\n\",labels.value_counts()\n",
    "print \"\\ntemp size: \",labels.size\n",
    "\n"
   ]
  },
  {
   "cell_type": "markdown",
   "metadata": {},
   "source": [
    "# Model fsm2"
   ]
  },
  {
   "cell_type": "code",
   "execution_count": 256,
   "metadata": {
    "collapsed": false
   },
   "outputs": [],
   "source": [
    "F = features[(labels != 'hare').values]\n",
    "L = labels[labels!='hare']\n",
    "\n",
    "X_train, X_test, y_train, y_test = cross_validation.train_test_split(F,L, test_size=0.2, random_state=80)\n",
    "\n",
    "svm = LinearSVC(C=1.0, loss='squared_hinge', penalty='l2',multi_class='ovr')\n",
    "model = svm.fit(X_train, y_train)\n",
    "y_pred = model.predict(X_test)\n"
   ]
  },
  {
   "cell_type": "code",
   "execution_count": 257,
   "metadata": {
    "collapsed": false
   },
   "outputs": [
    {
     "name": "stdout",
     "output_type": "stream",
     "text": [
      "accuracy :  [ 0.83333333  0.86363636  0.95238095  0.9047619   0.85      ]\n",
      "precision:  invalid metric\n",
      "recall   :  invalid metric\n",
      "- logloss:  invalid metric\n"
     ]
    }
   ],
   "source": [
    "eval_model(model, X_test, y_test)"
   ]
  },
  {
   "cell_type": "code",
   "execution_count": 258,
   "metadata": {
    "collapsed": true
   },
   "outputs": [],
   "source": [
    "def plot_confusion_matrix(y_true,y_pred):\n",
    "    cm_array = confusion_matrix(y_true,y_pred)\n",
    "    true_labels = np.unique(y_true)\n",
    "    pred_labels = np.unique(y_pred)\n",
    "    plt.imshow(cm_array[:-1,:-1], interpolation='nearest', cmap=plt.cm.Blues)\n",
    "    plt.title(\"Confusion matrix\", fontsize=16)\n",
    "    cbar = plt.colorbar(fraction=0.046, pad=0.04)\n",
    "    cbar.set_label('Number of images', rotation=270, labelpad=30, fontsize=12)\n",
    "    xtick_marks = np.arange(len(true_labels))\n",
    "    ytick_marks = np.arange(len(pred_labels))\n",
    "    plt.xticks(xtick_marks, true_labels, rotation=90)\n",
    "    plt.yticks(ytick_marks,pred_labels)\n",
    "    plt.tight_layout()\n",
    "    plt.ylabel('True label', fontsize=14)\n",
    "    plt.xlabel('Predicted label', fontsize=14)\n",
    "    fig_size = plt.rcParams[\"figure.figsize\"]\n",
    "    fig_size[0] = 8\n",
    "    fig_size[1] = 8\n",
    "    plt.rcParams[\"figure.figsize\"] = fig_size"
   ]
  },
  {
   "cell_type": "code",
   "execution_count": 259,
   "metadata": {
    "collapsed": false
   },
   "outputs": [
    {
     "name": "stdout",
     "output_type": "stream",
     "text": [
      "label vaues: \n",
      "hare        928\n",
      "ungulate    193\n",
      "small       104\n",
      "other       101\n",
      "canine       95\n",
      "feline       43\n",
      "Name: keywords, dtype: int64\n"
     ]
    },
    {
     "data": {
      "image/png": "[encoded data removed]",
      "text/plain": [
       "<matplotlib.figure.Figure at 0x139081850>"
      ]
     },
     "metadata": {},
     "output_type": "display_data"
    }
   ],
   "source": [
    "print \"label vaues: \\n\",labels.value_counts()\n",
    "plot_confusion_matrix(y_test, y_pred)"
   ]
  },
  {
   "cell_type": "code",
   "execution_count": null,
   "metadata": {
    "collapsed": true
   },
   "outputs": [],
   "source": []
  }
 ],
 "metadata": {
  "kernelspec": {
   "display_name": "Python [Root]",
   "language": "python",
   "name": "Python [Root]"
  },
  "language_info": {
   "codemirror_mode": {
    "name": "ipython",
    "version": 2
   },
   "file_extension": ".py",
   "mimetype": "text/x-python",
   "name": "python",
   "nbconvert_exporter": "python",
   "pygments_lexer": "ipython2",
   "version": "2.7.12"
  }
 },
 "nbformat": 4,
 "nbformat_minor": 0
}
