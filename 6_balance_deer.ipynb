{
 "cells": [
  {
   "cell_type": "code",
   "execution_count": 18,
   "metadata": {
    "collapsed": false
   },
   "outputs": [],
   "source": [
    "import graphlab as gl\n",
    "from graphlab.toolkits.cross_validation import shuffle\n",
    "\n",
    "\n",
    "SF = gl.load_sframe('data/FirstStupidModel/sframe/')\n",
    "\n",
    "deer_sf = SF[SF['White-tailed deer']==1]\n",
    "\n",
    "other_sf, _ = SF[SF['White-tailed deer']==0].random_split(0.09, seed=42)\n",
    "\n",
    "bal_sf = shuffle(deer_sf[['file_path','White-tailed deer','imagenet_features']].append(other_sf[['file_path','White-tailed deer','imagenet_features']]))\n",
    "\n",
    "bal_sf.save('data/FirstStupidModel/sframe')"
   ]
  },
  {
   "cell_type": "code",
   "execution_count": null,
   "metadata": {
    "collapsed": true
   },
   "outputs": [],
   "source": []
  }
 ],
 "metadata": {
  "kernelspec": {
   "display_name": "Python [Root]",
   "language": "python",
   "name": "Python [Root]"
  },
  "language_info": {
   "codemirror_mode": {
    "name": "ipython",
    "version": 2
   },
   "file_extension": ".py",
   "mimetype": "text/x-python",
   "name": "python",
   "nbconvert_exporter": "python",
   "pygments_lexer": "ipython2",
   "version": "2.7.12"
  }
 },
 "nbformat": 4,
 "nbformat_minor": 0
}
