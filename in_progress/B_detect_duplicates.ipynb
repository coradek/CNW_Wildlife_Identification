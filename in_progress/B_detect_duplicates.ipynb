{
 "cells": [
  {
   "cell_type": "markdown",
   "metadata": {},
   "source": [
    "# Find Duplicate Photos"
   ]
  },
  {
   "cell_type": "code",
   "execution_count": 1,
   "metadata": {
    "collapsed": false
   },
   "outputs": [],
   "source": [
    "from src.data_pipeline import DataManager as DM\n",
    "import src.metadata_handler as mh\n",
    "import src.duplicate_detector as dud\n",
    "\n",
    "# does not fix IPTCInfo warning\n",
    "# import warnings\n",
    "# warnings.filterwarnings('ignore')"
   ]
  },
  {
   "cell_type": "code",
   "execution_count": 2,
   "metadata": {
    "collapsed": false
   },
   "outputs": [],
   "source": [
    "import Image\n",
    "from iptcinfo import IPTCInfo, c_datasets\n",
    "import json\n",
    "import os\n",
    "import sys\n",
    "import hashlib\n",
    "from collections import defaultdict\n",
    "import struct\n",
    "\n",
    "%matplotlib inline"
   ]
  },
  {
   "cell_type": "markdown",
   "metadata": {},
   "source": [
    "## Methods\n",
    "http://stackoverflow.com/questions/10075065/compute-hash-of-only-the-core-image-data-excluding-metadata-for-an-image"
   ]
  },
  {
   "cell_type": "code",
   "execution_count": 3,
   "metadata": {
    "collapsed": true
   },
   "outputs": [],
   "source": [
    "def _hash_jpeg(fh):\n",
    "    # thank you stack overflow (with minor edits): \n",
    "    # http://stackoverflow.com/questions/10075065/compute-hash-of-only-the-core-image-data-excluding-metadata-for-an-image\n",
    "    _hash =  hashlib.sha1()\n",
    "    # _hash = hashlib.md5()\n",
    "    assert fh.read(2) == \"\\xff\\xd8\"\n",
    "    while True:\n",
    "        marker,length = struct.unpack(\">2H\", fh.read(4))\n",
    "        assert marker & 0xff00 == 0xff00\n",
    "        if marker == 0xFFDA: # Start of stream\n",
    "            _hash.update(fh.read())\n",
    "            break\n",
    "        else:\n",
    "            fh.seek(length-2, os.SEEK_CUR)\n",
    "    return _hash.hexdigest()\n",
    "\n",
    "def printhash(file_path):\n",
    "    with open(file_path) as fh:\n",
    "        print _hash_jpeg(fh)\n",
    "\n",
    "def find_duplicates(directory):\n",
    "    # return a list of lists of duplicates\n",
    "    duplicate_dict = defaultdict(list)\n",
    "    count = 0\n",
    "    for p, dirs, files in os.walk(directory):\n",
    "        for ff in files:\n",
    "            # check for .jpg file extension\n",
    "            # check for wierd non-jpg files (created by picasa?)\n",
    "            # -> filenames starting with '._'\n",
    "            if ff[-4:].lower() == '.jpg' and ff[:2] != '._':\n",
    "                count +=1\n",
    "                if count % 100 == 0:\n",
    "                    print \"processing file: \", ff\n",
    "                file_path = os.path.join(p,ff)\n",
    "                with open(file_path) as fh:\n",
    "                    duplicate_dict[_hash_jpeg(fh)].append(file_path)\n",
    "    return [v for v in duplicate_dict.itervalues() if len(v) > 1]\n",
    "\n",
    "def listphotos(directory):\n",
    "    photolist = []\n",
    "    for p, dirs, files in os.walk(directory):\n",
    "        for ff in files:\n",
    "            # check for .jpg file extension\n",
    "            # check for wierd non-jpg files (created by picasa?)\n",
    "            # -> filenames starting with '._'\n",
    "            if ff[-4:].lower() == '.jpg'and ff[:2] != '._':\n",
    "                file_path = os.path.join(p,ff)\n",
    "                photolist.append(file_path)\n",
    "    return photolist"
   ]
  },
  {
   "cell_type": "code",
   "execution_count": null,
   "metadata": {
    "collapsed": false
   },
   "outputs": [],
   "source": [
    "%%time\n",
    "image = Image.open('../data/first_sample/EK000004-2.JPG')\n",
    "pixels = str(list(image.getdata()))\n",
    "\n",
    "hash_img = hashlib.sha1(pixels)\n",
    "hex_dig = hash_img.hexdigest()\n",
    "\n",
    "print hex_dig"
   ]
  },
  {
   "cell_type": "code",
   "execution_count": null,
   "metadata": {
    "collapsed": false
   },
   "outputs": [],
   "source": [
    "%%time\n",
    "printhash('../data/first_sample/EK000004-2.JPG')"
   ]
  },
  {
   "cell_type": "markdown",
   "metadata": {},
   "source": [
    "## Testing"
   ]
  },
  {
   "cell_type": "code",
   "execution_count": null,
   "metadata": {
    "collapsed": true
   },
   "outputs": [],
   "source": [
    "testdupes = ['../data/first_sample/EK000010.JPG', \n",
    "         '../data/first_sample/EK000004.JPG', \n",
    "         '../data/first_sample/EK000004-2.JPG', \n",
    "         '../data/first_sample/EK000004 copy.JPG']   "
   ]
  },
  {
   "cell_type": "code",
   "execution_count": null,
   "metadata": {
    "collapsed": false
   },
   "outputs": [],
   "source": [
    "# %%time\n",
    "# for item in testdupes:\n",
    "#     printhash(item)"
   ]
  },
  {
   "cell_type": "code",
   "execution_count": null,
   "metadata": {
    "collapsed": false
   },
   "outputs": [],
   "source": [
    "photolist = listphotos('../data/second_sample/')\n",
    "len(photolist)"
   ]
  },
  {
   "cell_type": "code",
   "execution_count": 4,
   "metadata": {
    "collapsed": false
   },
   "outputs": [
    {
     "name": "stdout",
     "output_type": "stream",
     "text": [
      "processing file:  PICT0173.JPG\n",
      "processing file:  EK000054.jpg\n",
      "processing file:  01080240.JPG\n",
      "processing file:  01140340.JPG\n",
      "processing file:  01210440.JPG\n",
      "processing file:  02040453.JPG\n",
      "processing file:  02200773.JPG\n",
      "processing file:  03100935.JPG\n",
      "processing file:  PICT0106.JPG\n",
      "processing file:  PICT0242.JPG\n",
      "processing file:  PICT0360.JPG\n",
      "processing file:  PICT0487.JPG\n",
      "processing file:  PICT0628.JPG\n",
      "processing file:  PICT0749.JPG\n",
      "47\n",
      "CPU times: user 2.01 s, sys: 1.13 s, total: 3.15 s\n",
      "Wall time: 6.55 s\n"
     ]
    }
   ],
   "source": [
    "%%time\n",
    "duplicates = find_duplicates('../data/second_sample/')\n",
    "print len(duplicates)"
   ]
  },
  {
   "cell_type": "markdown",
   "metadata": {},
   "source": [
    "## check that identical photos w/ different metadata have the same hash"
   ]
  },
  {
   "cell_type": "code",
   "execution_count": 5,
   "metadata": {
    "collapsed": false
   },
   "outputs": [],
   "source": [
    "# These start off as identical copies of the same image\n",
    "zephy1 = IPTCInfo('../data/zephy1.jpg')\n",
    "zephy2 = IPTCInfo('../data/zephy2.jpg')"
   ]
  },
  {
   "cell_type": "code",
   "execution_count": null,
   "metadata": {
    "collapsed": false
   },
   "outputs": [],
   "source": [
    "# zephy1.data['caption/abstract'] = \"Data Scientist and his (wife's) dog!\"\n",
    "# zephy1.data['keywords'].append('canine')\n",
    "# zephy1.data['keywords'].append('homo sapien')\n",
    "# zephy1.save()"
   ]
  },
  {
   "cell_type": "code",
   "execution_count": 6,
   "metadata": {
    "collapsed": false
   },
   "outputs": [
    {
     "name": "stdout",
     "output_type": "stream",
     "text": [
      "\tkeywords [['canine', 'homo sapien'], []]\n",
      "\tfile_path ['data/zephy1.jpg', 'data/zephy2.jpg']\n",
      "\tcaption/abstract [\"Data Scientist and his (wife's) dog!\", '<no value>']\n"
     ]
    }
   ],
   "source": [
    "z1 = mh.build_dictionary('../data/zephy1.jpg')\n",
    "z2 = mh.build_dictionary('../data/zephy2.jpg')\n",
    "\n",
    "LL = [z1, z2]\n",
    "\n",
    "for k in max(LL).iterkeys():\n",
    "    results = [d[k] if k in d else '<no value>' for d in LL]\n",
    "    if results[0] != results[1]:\n",
    "        print '\\t', k, results"
   ]
  },
  {
   "cell_type": "code",
   "execution_count": 7,
   "metadata": {
    "collapsed": false
   },
   "outputs": [
    {
     "name": "stdout",
     "output_type": "stream",
     "text": [
      "17f65583d4b3d6485eb5b25273811c2dc592437e\n",
      "17f65583d4b3d6485eb5b25273811c2dc592437e\n"
     ]
    }
   ],
   "source": [
    "printhash('../data/zephy1.jpg')\n",
    "printhash('../data/zephy2.jpg')"
   ]
  },
  {
   "cell_type": "markdown",
   "metadata": {},
   "source": [
    "## How to Choose Between Identical Images"
   ]
  },
  {
   "cell_type": "code",
   "execution_count": null,
   "metadata": {
    "collapsed": false
   },
   "outputs": [],
   "source": [
    "%%time\n",
    "\n",
    "infolist = []\n",
    "for photo in photolist:\n",
    "    info = IPTCInfo(photo)\n",
    "    infolist.append(info)\n",
    "    \n",
    "print '\\n accessing info for {} files\\n'.format(len(photolist))\n"
   ]
  },
  {
   "cell_type": "code",
   "execution_count": 8,
   "metadata": {
    "collapsed": false
   },
   "outputs": [
    {
     "name": "stdout",
     "output_type": "stream",
     "text": [
      "('WARNING: problems with charset recognition', \"'\\\\x1b'\")\n",
      "('WARNING: problems with charset recognition', \"'\\\\x1b'\")\n",
      "('WARNING: problems with charset recognition', \"'\\\\x1b'\")\n",
      "('WARNING: problems with charset recognition', \"'\\\\x1b'\")\n",
      "('WARNING: problems with charset recognition', \"'\\\\x1b'\")\n",
      "('WARNING: problems with charset recognition', \"'\\\\x1b'\")\n",
      "('WARNING: problems with charset recognition', \"'\\\\x1b'\")\n",
      "('WARNING: problems with charset recognition', \"'\\\\x1b'\")\n",
      "('WARNING: problems with charset recognition', \"'\\\\x1b'\")\n",
      "('WARNING: problems with charset recognition', \"'\\\\x1b'\")\n",
      "('WARNING: problems with charset recognition', \"'\\\\x1b'\")\n",
      "('WARNING: problems with charset recognition', \"'\\\\x1b'\")\n",
      "('WARNING: problems with charset recognition', \"'\\\\x1b'\")\n",
      "('WARNING: problems with charset recognition', \"'\\\\x1b'\")\n",
      "('WARNING: problems with charset recognition', \"'\\\\x1b'\")\n",
      "('WARNING: problems with charset recognition', \"'\\\\x1b'\")\n",
      "('WARNING: problems with charset recognition', \"'\\\\x1b'\")\n",
      "('WARNING: problems with charset recognition', \"'\\\\x1b'\")\n",
      "('WARNING: problems with charset recognition', \"'\\\\x1b'\")\n",
      "('WARNING: problems with charset recognition', \"'\\\\x1b'\")\n",
      "('WARNING: problems with charset recognition', \"'\\\\x1b'\")\n",
      "('WARNING: problems with charset recognition', \"'\\\\x1b'\")\n",
      "('WARNING: problems with charset recognition', \"'\\\\x1b'\")\n",
      "('WARNING: problems with charset recognition', \"'\\\\x1b'\")\n",
      "('WARNING: problems with charset recognition', \"'\\\\x1b'\")\n",
      "('WARNING: problems with charset recognition', \"'\\\\x1b'\")\n",
      "('WARNING: problems with charset recognition', \"'\\\\x1b'\")\n",
      "('WARNING: problems with charset recognition', \"'\\\\x1b'\")\n",
      "('WARNING: problems with charset recognition', \"'\\\\x1b'\")\n",
      "('WARNING: problems with charset recognition', \"'\\\\x1b'\")\n",
      "('WARNING: problems with charset recognition', \"'\\\\x1b'\")\n",
      "('WARNING: problems with charset recognition', \"'\\\\x1b'\")\n",
      "('WARNING: problems with charset recognition', \"'\\\\x1b'\")\n",
      "('WARNING: problems with charset recognition', \"'\\\\x1b'\")\n",
      "('WARNING: problems with charset recognition', \"'\\\\x1b'\")\n",
      "('WARNING: problems with charset recognition', \"'\\\\x1b'\")\n",
      "('WARNING: problems with charset recognition', \"'\\\\x1b'\")\n",
      "('WARNING: problems with charset recognition', \"'\\\\x1b'\")\n",
      "('WARNING: problems with charset recognition', \"'\\\\x1b'\")\n",
      "('WARNING: problems with charset recognition', \"'\\\\x1b'\")\n",
      "('WARNING: problems with charset recognition', \"'\\\\x1b'\")\n",
      "('WARNING: problems with charset recognition', \"'\\\\x1b'\")\n",
      "('WARNING: problems with charset recognition', \"'\\\\x1b'\")\n",
      "('WARNING: problems with charset recognition', \"'\\\\x1b'\")\n",
      "('WARNING: problems with charset recognition', \"'\\\\x1b'\")\n",
      "('WARNING: problems with charset recognition', \"'\\\\x1b'\")\n",
      "('WARNING: problems with charset recognition', \"'\\\\x1b'\")\n",
      "('WARNING: problems with charset recognition', \"'\\\\x1b'\")\n",
      "('WARNING: problems with charset recognition', \"'\\\\x1b'\")\n",
      "('WARNING: problems with charset recognition', \"'\\\\x1b'\")\n",
      "('WARNING: problems with charset recognition', \"'\\\\x1b'\")\n",
      "('WARNING: problems with charset recognition', \"'\\\\x1b'\")\n",
      "('WARNING: problems with charset recognition', \"'\\\\x1b'\")\n",
      "('WARNING: problems with charset recognition', \"'\\\\x1b'\")\n",
      "('WARNING: problems with charset recognition', \"'\\\\x1b'\")\n",
      "('WARNING: problems with charset recognition', \"'\\\\x1b'\")\n",
      "('WARNING: problems with charset recognition', \"'\\\\x1b'\")\n",
      "('WARNING: problems with charset recognition', \"'\\\\x1b'\")\n",
      "('WARNING: problems with charset recognition', \"'\\\\x1b'\")\n",
      "('WARNING: problems with charset recognition', \"'\\\\x1b'\")\n",
      "('WARNING: problems with charset recognition', \"'\\\\x1b'\")\n",
      "('WARNING: problems with charset recognition', \"'\\\\x1b'\")\n",
      "('WARNING: problems with charset recognition', \"'\\\\x1b'\")\n",
      "('WARNING: problems with charset recognition', \"'\\\\x1b'\")\n",
      "('WARNING: problems with charset recognition', \"'\\\\x1b'\")\n",
      "('WARNING: problems with charset recognition', \"'\\\\x1b'\")\n",
      "('WARNING: problems with charset recognition', \"'\\\\x1b'\")\n",
      "('WARNING: problems with charset recognition', \"'\\\\x1b'\")\n",
      "('WARNING: problems with charset recognition', \"'\\\\x1b'\")\n",
      "('WARNING: problems with charset recognition', \"'\\\\x1b'\")\n",
      "('WARNING: problems with charset recognition', \"'\\\\x1b'\")\n",
      "('WARNING: problems with charset recognition', \"'\\\\x1b'\")\n",
      "('WARNING: problems with charset recognition', \"'\\\\x1b'\")\n",
      "('WARNING: problems with charset recognition', \"'\\\\x1b'\")\n",
      "('WARNING: problems with charset recognition', \"'\\\\x1b'\")\n",
      "('WARNING: problems with charset recognition', \"'\\\\x1b'\")\n",
      "('WARNING: problems with charset recognition', \"'\\\\x1b'\")\n",
      "('WARNING: problems with charset recognition', \"'\\\\x1b'\")\n",
      "('WARNING: problems with charset recognition', \"'\\\\x1b'\")\n",
      "('WARNING: problems with charset recognition', \"'\\\\x1b'\")\n",
      "('WARNING: problems with charset recognition', \"'\\\\x1b'\")\n",
      "('WARNING: problems with charset recognition', \"'\\\\x1b'\")\n",
      "('WARNING: problems with charset recognition', \"'\\\\x1b'\")\n",
      "('WARNING: problems with charset recognition', \"'\\\\x1b'\")\n",
      "('WARNING: problems with charset recognition', \"'\\\\x1b'\")\n",
      "('WARNING: problems with charset recognition', \"'\\\\x1b'\")\n",
      "('WARNING: problems with charset recognition', \"'\\\\x1b'\")\n",
      "('WARNING: problems with charset recognition', \"'\\\\x1b'\")\n",
      "('WARNING: problems with charset recognition', \"'\\\\x1b'\")\n",
      "('WARNING: problems with charset recognition', \"'\\\\x1b'\")\n",
      "('WARNING: problems with charset recognition', \"'\\\\x1b'\")\n",
      "('WARNING: problems with charset recognition', \"'\\\\x1b'\")\n",
      "('WARNING: problems with charset recognition', \"'\\\\x1b'\")\n",
      "('WARNING: problems with charset recognition', \"'\\\\x1b'\")\n",
      "0\n",
      "\tsub-location ['Hope Mountain', 'Hope Mountain-2015-1']\n",
      "\tby-line ['Ken Vanden Heuvel ', 'Ken Vanden Heuvel']\n",
      "\tobject name ['Lynx ', '<no value>']\n",
      "\tfile_path ['data/second_sample/Hope Mountain/Hope Mountain-2015-1/01.01.15-02.01.15/11240040.JPG', 'data/second_sample/Hope Mountain/Hope Mountain-2015-1/11.22.14-2.1.15/11240040.JPG']\n",
      "\tcaption/abstract ['M2E6L0-0R350B362', '1']\n",
      "\n",
      "1\n",
      "\tsub-location ['Hope Mountain', 'Hope Mountain-2015-1']\n",
      "\tby-line ['Ken Vanden Heuvel ', 'Ken Vanden Heuvel']\n",
      "\tobject name ['Lynx ', '<no value>']\n",
      "\tfile_path ['data/second_sample/Hope Mountain/Hope Mountain-2015-1/01.01.15-02.01.15/11240036.JPG', 'data/second_sample/Hope Mountain/Hope Mountain-2015-1/11.22.14-2.1.15/11240036.JPG']\n",
      "\tcaption/abstract ['M2E6L0-0R350B362', '1']\n",
      "\n",
      "2\n",
      "\tsub-location ['Hope Mountain', 'Hope Mountain-2015-1']\n",
      "\tby-line ['Ken Vanden Heuvel ', 'Ken Vanden Heuvel']\n",
      "\tkeywords [['snowshoe hare'], ['unidentified']]\n",
      "\tobject name ['Lynx ', '<no value>']\n",
      "\tfile_path ['data/second_sample/Hope Mountain/Hope Mountain-2015-1/01.01.15-02.01.15/11280085.JPG', 'data/second_sample/Hope Mountain/Hope Mountain-2015-1/11.22.14-2.1.15/11280085.JPG']\n",
      "\tcaption/abstract ['M2E6L0-0R350B362', '1']\n",
      "\n",
      "3\n",
      "\tsub-location ['Hope Mountain', 'Hope Mountain-2015-1']\n",
      "\tby-line ['Ken Vanden Heuvel ', 'Ken Vanden Heuvel']\n",
      "\tkeywords [['snowshoe hare'], ['unidentified']]\n",
      "\tobject name ['Lynx ', '<no value>']\n",
      "\tfile_path ['data/second_sample/Hope Mountain/Hope Mountain-2015-1/01.01.15-02.01.15/11300155.JPG', 'data/second_sample/Hope Mountain/Hope Mountain-2015-1/11.22.14-2.1.15/11300155.JPG']\n",
      "\tcaption/abstract ['M2E6L0-0R350B362', '1']\n",
      "\n",
      "4\n",
      "\tsub-location ['Hope Mountain', 'Hope Mountain-2015-1']\n",
      "\tby-line ['Ken Vanden Heuvel ', 'Ken Vanden Heuvel']\n",
      "\tkeywords [['snowshoe hare'], ['unidentified']]\n",
      "\tobject name ['Lynx ', '<no value>']\n",
      "\tfile_path ['data/second_sample/Hope Mountain/Hope Mountain-2015-1/01.01.15-02.01.15/11300135.JPG', 'data/second_sample/Hope Mountain/Hope Mountain-2015-1/11.22.14-2.1.15/11300135.JPG']\n",
      "\tcaption/abstract ['M2E6L0-0R350B362', '1']\n",
      "\n",
      "5\n",
      "\tsub-location ['Hope Mountain', 'Hope Mountain-2015-1']\n",
      "\tby-line ['Ken Vanden Heuvel ', 'Ken Vanden Heuvel']\n",
      "\tkeywords [['snowshoe hare'], ['unidentified']]\n",
      "\tobject name ['Lynx ', '<no value>']\n",
      "\tfile_path ['data/second_sample/Hope Mountain/Hope Mountain-2015-1/01.01.15-02.01.15/11300136.JPG', 'data/second_sample/Hope Mountain/Hope Mountain-2015-1/11.22.14-2.1.15/11300136.JPG']\n",
      "\tcaption/abstract ['M2E6L0-0R350B362', '1']\n",
      "\n",
      "6\n",
      "\tsub-location ['Hope Mountain', 'Hope Mountain-2015-1']\n",
      "\tby-line ['Ken Vanden Heuvel ', 'Ken Vanden Heuvel']\n",
      "\tkeywords [['snowshoe hare'], ['unidentified']]\n",
      "\tobject name ['Lynx ', '<no value>']\n",
      "\tfile_path ['data/second_sample/Hope Mountain/Hope Mountain-2015-1/01.01.15-02.01.15/11300134.JPG', 'data/second_sample/Hope Mountain/Hope Mountain-2015-1/11.22.14-2.1.15/11300134.JPG']\n",
      "\tcaption/abstract ['M2E6L0-0R350B362', '1']\n",
      "\n",
      "7\n",
      "\tsub-location ['Hope Mountain', 'Hope Mountain-2015-1']\n",
      "\tby-line ['Ken Vanden Heuvel ', 'Ken Vanden Heuvel']\n",
      "\tkeywords [['snowshoe hare'], ['unidentified']]\n",
      "\tobject name ['Lynx ', '<no value>']\n",
      "\tfile_path ['data/second_sample/Hope Mountain/Hope Mountain-2015-1/01.01.15-02.01.15/11300152.JPG', 'data/second_sample/Hope Mountain/Hope Mountain-2015-1/11.22.14-2.1.15/11300152.JPG']\n",
      "\tcaption/abstract ['M2E6L0-0R350B362', '1']\n",
      "\n",
      "8\n",
      "\tsub-location ['Hope Mountain', 'Hope Mountain-2015-1']\n",
      "\tby-line ['Ken Vanden Heuvel ', 'Ken Vanden Heuvel']\n",
      "\tkeywords [['snowshoe hare'], ['unidentified']]\n",
      "\tobject name ['Lynx ', '<no value>']\n",
      "\tfile_path ['data/second_sample/Hope Mountain/Hope Mountain-2015-1/01.01.15-02.01.15/11300149.JPG', 'data/second_sample/Hope Mountain/Hope Mountain-2015-1/11.22.14-2.1.15/11300149.JPG']\n",
      "\tcaption/abstract ['M2E6L0-0R350B362', '1']\n",
      "\n",
      "9\n",
      "\tsub-location ['Hope Mountain', 'Hope Mountain-2015-1']\n",
      "\tby-line ['Ken Vanden Heuvel ', 'Ken Vanden Heuvel']\n",
      "\tkeywords [['snowshoe hare'], ['unidentified']]\n",
      "\tobject name ['Lynx ', '<no value>']\n",
      "\tfile_path ['data/second_sample/Hope Mountain/Hope Mountain-2015-1/01.01.15-02.01.15/11300138.JPG', 'data/second_sample/Hope Mountain/Hope Mountain-2015-1/11.22.14-2.1.15/11300138.JPG']\n",
      "\tcaption/abstract ['M2E6L0-0R350B362', '1']\n",
      "\n",
      "10\n",
      "\tsub-location ['Hope Mountain', 'Hope Mountain-2015-1']\n",
      "\tby-line ['Ken Vanden Heuvel ', 'Ken Vanden Heuvel']\n",
      "\tkeywords [['snowshoe hare'], ['unidentified']]\n",
      "\tobject name ['Lynx ', '<no value>']\n",
      "\tfile_path ['data/second_sample/Hope Mountain/Hope Mountain-2015-1/01.01.15-02.01.15/11280084.JPG', 'data/second_sample/Hope Mountain/Hope Mountain-2015-1/11.22.14-2.1.15/11280084.JPG']\n",
      "\tcaption/abstract ['M2E6L0-0R350B362', '1']\n",
      "\n",
      "11\n",
      "\tsub-location ['Hope Mountain', 'Hope Mountain-2015-1']\n",
      "\tby-line ['Ken Vanden Heuvel ', 'Ken Vanden Heuvel']\n",
      "\tkeywords [['snowshoe hare'], ['unidentified']]\n",
      "\tobject name ['Lynx ', '<no value>']\n",
      "\tfile_path ['data/second_sample/Hope Mountain/Hope Mountain-2015-1/01.01.15-02.01.15/11280083.JPG', 'data/second_sample/Hope Mountain/Hope Mountain-2015-1/11.22.14-2.1.15/11280083.JPG']\n",
      "\tcaption/abstract ['M2E6L0-0R350B362', '1']\n",
      "\n",
      "12\n",
      "\tsub-location ['Hope Mountain', 'Hope Mountain-2015-1']\n",
      "\tby-line ['Ken Vanden Heuvel ', 'Ken Vanden Heuvel']\n",
      "\tkeywords [['snowshoe hare'], ['unidentified']]\n",
      "\tobject name ['Lynx ', '<no value>']\n",
      "\tfile_path ['data/second_sample/Hope Mountain/Hope Mountain-2015-1/01.01.15-02.01.15/11300154.JPG', 'data/second_sample/Hope Mountain/Hope Mountain-2015-1/11.22.14-2.1.15/11300154.JPG']\n",
      "\tcaption/abstract ['M2E6L0-0R350B362', '1']\n",
      "\n",
      "13\n",
      "\tsub-location ['Hope Mountain', 'Hope Mountain-2015-1']\n",
      "\tby-line ['Ken Vanden Heuvel ', 'Ken Vanden Heuvel']\n",
      "\tkeywords [['snowshoe hare'], ['unidentified']]\n",
      "\tobject name ['Lynx ', '<no value>']\n",
      "\tfile_path ['data/second_sample/Hope Mountain/Hope Mountain-2015-1/01.01.15-02.01.15/11300160.JPG', 'data/second_sample/Hope Mountain/Hope Mountain-2015-1/11.22.14-2.1.15/11300160.JPG']\n",
      "\tcaption/abstract ['M2E6L0-0R350B362', '1']\n",
      "\n",
      "14\n",
      "\tsub-location ['Hope Mountain', 'Hope Mountain-2015-1']\n",
      "\tby-line ['Ken Vanden Heuvel ', 'Ken Vanden Heuvel']\n",
      "\tkeywords [['snowshoe hare'], ['unidentified']]\n",
      "\tobject name ['Lynx ', '<no value>']\n",
      "\tfile_path ['data/second_sample/Hope Mountain/Hope Mountain-2015-1/01.01.15-02.01.15/11300156.JPG', 'data/second_sample/Hope Mountain/Hope Mountain-2015-1/11.22.14-2.1.15/11300156.JPG']\n",
      "\tcaption/abstract ['M2E6L0-0R350B362', '1']\n",
      "\n",
      "15\n",
      "\tsub-location ['Hope Mountain', 'Hope Mountain-2015-1']\n",
      "\tby-line ['Ken Vanden Heuvel ', 'Ken Vanden Heuvel']\n",
      "\tkeywords [['snowshoe hare'], ['unidentified']]\n",
      "\tobject name ['Lynx ', '<no value>']\n",
      "\tfile_path ['data/second_sample/Hope Mountain/Hope Mountain-2015-1/01.01.15-02.01.15/11300140.JPG', 'data/second_sample/Hope Mountain/Hope Mountain-2015-1/11.22.14-2.1.15/11300140.JPG']\n",
      "\tcaption/abstract ['M2E6L0-0R350B362', '1']\n",
      "\n",
      "16\n",
      "\tsub-location ['Hope Mountain', 'Hope Mountain-2015-1']\n",
      "\tby-line ['Ken Vanden Heuvel ', 'Ken Vanden Heuvel']\n",
      "\tkeywords [['snowshoe hare'], ['unidentified']]\n",
      "\tobject name ['Lynx ', '<no value>']\n",
      "\tfile_path ['data/second_sample/Hope Mountain/Hope Mountain-2015-1/01.01.15-02.01.15/11280088.JPG', 'data/second_sample/Hope Mountain/Hope Mountain-2015-1/11.22.14-2.1.15/11280088.JPG']\n",
      "\tcaption/abstract ['M2E6L0-0R350B362', '1']\n",
      "\n",
      "17\n",
      "\tsub-location ['Hope Mountain', 'Hope Mountain-2015-1']\n",
      "\tby-line ['Ken Vanden Heuvel ', 'Ken Vanden Heuvel']\n",
      "\tkeywords [['snowshoe hare'], ['unidentified']]\n",
      "\tobject name ['Lynx ', '<no value>']\n",
      "\tfile_path ['data/second_sample/Hope Mountain/Hope Mountain-2015-1/01.01.15-02.01.15/11280080.JPG', 'data/second_sample/Hope Mountain/Hope Mountain-2015-1/11.22.14-2.1.15/11280080.JPG']\n",
      "\tcaption/abstract ['M2E6L0-0R350B362', '1']\n",
      "\n",
      "18\n",
      "\tsub-location ['Hope Mountain', 'Hope Mountain-2015-1']\n",
      "\tby-line ['Ken Vanden Heuvel ', 'Ken Vanden Heuvel']\n",
      "\tobject name ['Lynx ', '<no value>']\n",
      "\tfile_path ['data/second_sample/Hope Mountain/Hope Mountain-2015-1/01.01.15-02.01.15/11240041.JPG', 'data/second_sample/Hope Mountain/Hope Mountain-2015-1/11.22.14-2.1.15/11240041.JPG']\n",
      "\tcaption/abstract ['M2E6L0-0R350B362', '1']\n",
      "\n",
      "19\n",
      "\tsub-location ['Hope Mountain', 'Hope Mountain-2015-1']\n",
      "\tby-line ['Ken Vanden Heuvel ', 'Ken Vanden Heuvel']\n",
      "\tkeywords [['snowshoe hare'], ['unidentified']]\n",
      "\tobject name ['Lynx ', '<no value>']\n",
      "\tfile_path ['data/second_sample/Hope Mountain/Hope Mountain-2015-1/01.01.15-02.01.15/11300141.JPG', 'data/second_sample/Hope Mountain/Hope Mountain-2015-1/11.22.14-2.1.15/11300141.JPG']\n",
      "\tcaption/abstract ['M2E6L0-0R350B362', '1']\n",
      "\n",
      "20\n",
      "\tsub-location ['Hope Mountain', 'Hope Mountain-2015-1']\n",
      "\tby-line ['Ken Vanden Heuvel ', 'Ken Vanden Heuvel']\n",
      "\tkeywords [['snowshoe hare'], ['unidentified']]\n",
      "\tobject name ['Lynx ', '<no value>']\n",
      "\tfile_path ['data/second_sample/Hope Mountain/Hope Mountain-2015-1/01.01.15-02.01.15/11300158.JPG', 'data/second_sample/Hope Mountain/Hope Mountain-2015-1/11.22.14-2.1.15/11300158.JPG']\n",
      "\tcaption/abstract ['M2E6L0-0R350B362', '1']\n",
      "\n",
      "21\n",
      "\tsub-location ['Hope Mountain', 'Hope Mountain-2015-1']\n",
      "\tby-line ['Ken Vanden Heuvel ', 'Ken Vanden Heuvel']\n",
      "\tkeywords [['snowshoe hare'], ['unidentified']]\n",
      "\tobject name ['Lynx ', '<no value>']\n",
      "\tfile_path ['data/second_sample/Hope Mountain/Hope Mountain-2015-1/01.01.15-02.01.15/11300137.JPG', 'data/second_sample/Hope Mountain/Hope Mountain-2015-1/11.22.14-2.1.15/11300137.JPG']\n",
      "\tcaption/abstract ['M2E6L0-0R350B362', '1']\n",
      "\n",
      "22\n",
      "\tsub-location ['Hope Mountain', 'Hope Mountain-2015-1']\n",
      "\tby-line ['Ken Vanden Heuvel ', 'Ken Vanden Heuvel']\n",
      "\tkeywords [['snowshoe hare'], ['unidentified']]\n",
      "\tobject name ['Lynx ', '<no value>']\n",
      "\tfile_path ['data/second_sample/Hope Mountain/Hope Mountain-2015-1/01.01.15-02.01.15/11280087.JPG', 'data/second_sample/Hope Mountain/Hope Mountain-2015-1/11.22.14-2.1.15/11280087.JPG']\n",
      "\tcaption/abstract ['M2E6L0-0R350B362', '1']\n",
      "\n",
      "23\n",
      "\tsub-location ['Hope Mountain', 'Hope Mountain-2015-1']\n",
      "\tby-line ['Ken Vanden Heuvel ', 'Ken Vanden Heuvel']\n",
      "\tobject name ['Lynx ', '<no value>']\n",
      "\tfile_path ['data/second_sample/Hope Mountain/Hope Mountain-2015-1/01.01.15-02.01.15/11240038.JPG', 'data/second_sample/Hope Mountain/Hope Mountain-2015-1/11.22.14-2.1.15/11240038.JPG']\n",
      "\tcaption/abstract ['M2E6L0-0R350B362', '1']\n",
      "\n",
      "24\n",
      "\tsub-location ['Hope Mountain-2015-1', 'Hope Mountain']\n",
      "\tby-line ['Ken Vanden Heuvel', 'Ken Vanden Heuvel ']\n",
      "\tobject name ['<no value>', 'Lynx ']\n",
      "\tfile_path ['data/second_sample/Hope Mountain/Hope Mountain-2015-1/11.22.14-2.1.15/01010226.JPG', 'data/second_sample/Hope Mountain/Hope Mountain-2015-2/01010226.JPG']\n",
      "\n",
      "25\n",
      "\tsub-location ['Hope Mountain', 'Hope Mountain-2015-1']\n",
      "\tby-line ['Ken Vanden Heuvel ', 'Ken Vanden Heuvel']\n",
      "\tkeywords [['snowshoe hare'], ['unidentified']]\n",
      "\tobject name ['Lynx ', '<no value>']\n",
      "\tfile_path ['data/second_sample/Hope Mountain/Hope Mountain-2015-1/01.01.15-02.01.15/11280081.JPG', 'data/second_sample/Hope Mountain/Hope Mountain-2015-1/11.22.14-2.1.15/11280081.JPG']\n",
      "\tcaption/abstract ['M2E6L0-0R350B362', '1']\n",
      "\n",
      "26\n",
      "\tsub-location ['Hope Mountain', 'Hope Mountain-2015-1']\n",
      "\tby-line ['Ken Vanden Heuvel ', 'Ken Vanden Heuvel']\n",
      "\tkeywords [['snowshoe hare'], ['unidentified']]\n",
      "\tobject name ['Lynx ', '<no value>']\n",
      "\tfile_path ['data/second_sample/Hope Mountain/Hope Mountain-2015-1/01.01.15-02.01.15/12010163.JPG', 'data/second_sample/Hope Mountain/Hope Mountain-2015-1/11.22.14-2.1.15/12010163.JPG']\n",
      "\tcaption/abstract ['M2E6L0-0R350B362', '1']\n",
      "\n",
      "27\n",
      "\tsub-location ['Hope Mountain', 'Hope Mountain-2015-1']\n",
      "\tby-line ['Ken Vanden Heuvel ', 'Ken Vanden Heuvel']\n",
      "\tkeywords [['snowshoe hare'], ['unidentified']]\n",
      "\tobject name ['Lynx ', '<no value>']\n",
      "\tfile_path ['data/second_sample/Hope Mountain/Hope Mountain-2015-1/01.01.15-02.01.15/11300142.JPG', 'data/second_sample/Hope Mountain/Hope Mountain-2015-1/11.22.14-2.1.15/11300142.JPG']\n",
      "\tcaption/abstract ['M2E6L0-0R350B362', '1']\n",
      "\n",
      "28\n",
      "\tsub-location ['Hope Mountain', 'Hope Mountain-2015-1']\n",
      "\tby-line ['Ken Vanden Heuvel ', 'Ken Vanden Heuvel']\n",
      "\tkeywords [['snowshoe hare'], ['unidentified']]\n",
      "\tobject name ['Lynx ', '<no value>']\n",
      "\tfile_path ['data/second_sample/Hope Mountain/Hope Mountain-2015-1/01.01.15-02.01.15/11300139.JPG', 'data/second_sample/Hope Mountain/Hope Mountain-2015-1/11.22.14-2.1.15/11300139.JPG']\n",
      "\tcaption/abstract ['M2E6L0-0R350B362', '1']\n",
      "\n",
      "29\n",
      "\tsub-location ['Hope Mountain', 'Hope Mountain-2015-1']\n",
      "\tby-line ['Ken Vanden Heuvel ', 'Ken Vanden Heuvel']\n",
      "\tkeywords [['snowshoe hare'], ['unidentified']]\n",
      "\tobject name ['Lynx ', '<no value>']\n",
      "\tfile_path ['data/second_sample/Hope Mountain/Hope Mountain-2015-1/01.01.15-02.01.15/11300157.JPG', 'data/second_sample/Hope Mountain/Hope Mountain-2015-1/11.22.14-2.1.15/11300157.JPG']\n",
      "\tcaption/abstract ['M2E6L0-0R350B362', '1']\n",
      "\n",
      "30\n",
      "\tsub-location ['Hope Mountain', 'Hope Mountain-2015-1']\n",
      "\tby-line ['Ken Vanden Heuvel ', 'Ken Vanden Heuvel']\n",
      "\tobject name ['Lynx ', '<no value>']\n",
      "\tfile_path ['data/second_sample/Hope Mountain/Hope Mountain-2015-1/01.01.15-02.01.15/11240032.JPG', 'data/second_sample/Hope Mountain/Hope Mountain-2015-1/11.22.14-2.1.15/11240032.JPG']\n",
      "\tcaption/abstract ['M2E6L0-0R350B362', '1']\n",
      "\n",
      "31\n",
      "\tsub-location ['Hope Mountain', 'Hope Mountain-2015-1']\n",
      "\tby-line ['Ken Vanden Heuvel ', 'Ken Vanden Heuvel']\n",
      "\tkeywords [['snowshoe hare'], ['unidentified']]\n",
      "\tobject name ['Lynx ', '<no value>']\n",
      "\tfile_path ['data/second_sample/Hope Mountain/Hope Mountain-2015-1/01.01.15-02.01.15/11300144.JPG', 'data/second_sample/Hope Mountain/Hope Mountain-2015-1/11.22.14-2.1.15/11300144.JPG']\n",
      "\tcaption/abstract ['M2E6L0-0R350B362', '1']\n",
      "\n",
      "32\n",
      "\tsub-location ['Hope Mountain', 'Hope Mountain-2015-1']\n",
      "\tby-line ['Ken Vanden Heuvel ', 'Ken Vanden Heuvel']\n",
      "\tkeywords [['snowshoe hare'], ['unidentified']]\n",
      "\tobject name ['Lynx ', '<no value>']\n",
      "\tfile_path ['data/second_sample/Hope Mountain/Hope Mountain-2015-1/01.01.15-02.01.15/11300150.JPG', 'data/second_sample/Hope Mountain/Hope Mountain-2015-1/11.22.14-2.1.15/11300150.JPG']\n",
      "\tcaption/abstract ['M2E6L0-0R350B362', '1']\n",
      "\n",
      "33\n",
      "\tsub-location ['Hope Mountain-2015-1', 'Hope Mountain']\n",
      "\tby-line ['Ken Vanden Heuvel', 'Ken Vanden Heuvel ']\n",
      "\tobject name ['<no value>', 'Lynx ']\n",
      "\tfile_path ['data/second_sample/Hope Mountain/Hope Mountain-2015-1/11.22.14-2.1.15/01010227.JPG', 'data/second_sample/Hope Mountain/Hope Mountain-2015-2/01010227.JPG']\n",
      "\n",
      "34\n",
      "\tsub-location ['Hope Mountain', 'Hope Mountain-2015-1']\n",
      "\tby-line ['Ken Vanden Heuvel ', 'Ken Vanden Heuvel']\n",
      "\tobject name ['Lynx ', '<no value>']\n",
      "\tfile_path ['data/second_sample/Hope Mountain/Hope Mountain-2015-1/01.01.15-02.01.15/11240034.JPG', 'data/second_sample/Hope Mountain/Hope Mountain-2015-1/11.22.14-2.1.15/11240034.JPG']\n",
      "\tcaption/abstract ['M2E6L0-0R350B362', '1']\n",
      "\n",
      "35\n",
      "\tsub-location ['Hope Mountain', 'Hope Mountain-2015-1']\n",
      "\tby-line ['Ken Vanden Heuvel ', 'Ken Vanden Heuvel']\n",
      "\tobject name ['Lynx ', '<no value>']\n",
      "\tfile_path ['data/second_sample/Hope Mountain/Hope Mountain-2015-1/01.01.15-02.01.15/11240037.JPG', 'data/second_sample/Hope Mountain/Hope Mountain-2015-1/11.22.14-2.1.15/11240037.JPG']\n",
      "\tcaption/abstract ['M2E6L0-0R350B362', '1']\n",
      "\n",
      "36\n",
      "\tsub-location ['Hope Mountain', 'Hope Mountain-2015-1']\n",
      "\tby-line ['Ken Vanden Heuvel ', 'Ken Vanden Heuvel']\n",
      "\tobject name ['Lynx ', '<no value>']\n",
      "\tfile_path ['data/second_sample/Hope Mountain/Hope Mountain-2015-1/01.01.15-02.01.15/11240035.JPG', 'data/second_sample/Hope Mountain/Hope Mountain-2015-1/11.22.14-2.1.15/11240035.JPG']\n",
      "\tcaption/abstract ['M2E6L0-0R350B362', '1']\n",
      "\n",
      "37\n",
      "\tsub-location ['Hope Mountain', 'Hope Mountain-2015-1']\n",
      "\tby-line ['Ken Vanden Heuvel ', 'Ken Vanden Heuvel']\n",
      "\tobject name ['Lynx ', '<no value>']\n",
      "\tfile_path ['data/second_sample/Hope Mountain/Hope Mountain-2015-1/01.01.15-02.01.15/11240039.JPG', 'data/second_sample/Hope Mountain/Hope Mountain-2015-1/11.22.14-2.1.15/11240039.JPG']\n",
      "\tcaption/abstract ['M2E6L0-0R350B362', '1']\n",
      "\n",
      "38\n",
      "\tsub-location ['Hope Mountain', 'Hope Mountain-2015-1']\n",
      "\tby-line ['Ken Vanden Heuvel ', 'Ken Vanden Heuvel']\n",
      "\tobject name ['Lynx ', '<no value>']\n",
      "\tfile_path ['data/second_sample/Hope Mountain/Hope Mountain-2015-1/01.01.15-02.01.15/11240042.JPG', 'data/second_sample/Hope Mountain/Hope Mountain-2015-1/11.22.14-2.1.15/11240042.JPG']\n",
      "\tcaption/abstract ['M2E6L0-0R350B362', '1']\n",
      "\n",
      "39\n",
      "\tsub-location ['Hope Mountain', 'Hope Mountain-2015-1']\n",
      "\tby-line ['Ken Vanden Heuvel ', 'Ken Vanden Heuvel']\n",
      "\tobject name ['Lynx ', '<no value>']\n",
      "\tfile_path ['data/second_sample/Hope Mountain/Hope Mountain-2015-1/01.01.15-02.01.15/11240033.JPG', 'data/second_sample/Hope Mountain/Hope Mountain-2015-1/11.22.14-2.1.15/11240033.JPG']\n",
      "\tcaption/abstract ['M2E6L0-0R350B362', '1']\n",
      "\n",
      "40\n",
      "\tsub-location ['Hope Mountain', 'Hope Mountain-2015-1']\n",
      "\tby-line ['Ken Vanden Heuvel ', 'Ken Vanden Heuvel']\n",
      "\tkeywords [['snowshoe hare'], ['unidentified']]\n",
      "\tobject name ['Lynx ', '<no value>']\n",
      "\tfile_path ['data/second_sample/Hope Mountain/Hope Mountain-2015-1/01.01.15-02.01.15/11300159.JPG', 'data/second_sample/Hope Mountain/Hope Mountain-2015-1/11.22.14-2.1.15/11300159.JPG']\n",
      "\tcaption/abstract ['M2E6L0-0R350B362', '1']\n",
      "\n",
      "41\n",
      "\tsub-location ['Hope Mountain', 'Hope Mountain-2015-1']\n",
      "\tby-line ['Ken Vanden Heuvel ', 'Ken Vanden Heuvel']\n",
      "\tkeywords [['snowshoe hare'], ['unidentified']]\n",
      "\tobject name ['Lynx ', '<no value>']\n",
      "\tfile_path ['data/second_sample/Hope Mountain/Hope Mountain-2015-1/01.01.15-02.01.15/11300143.JPG', 'data/second_sample/Hope Mountain/Hope Mountain-2015-1/11.22.14-2.1.15/11300143.JPG']\n",
      "\tcaption/abstract ['M2E6L0-0R350B362', '1']\n",
      "\n",
      "42\n",
      "\tsub-location ['Hope Mountain', 'Hope Mountain-2015-1']\n",
      "\tby-line ['Ken Vanden Heuvel ', 'Ken Vanden Heuvel']\n",
      "\tkeywords [['snowshoe hare'], ['unidentified']]\n",
      "\tobject name ['Lynx ', '<no value>']\n",
      "\tfile_path ['data/second_sample/Hope Mountain/Hope Mountain-2015-1/01.01.15-02.01.15/11300153.JPG', 'data/second_sample/Hope Mountain/Hope Mountain-2015-1/11.22.14-2.1.15/11300153.JPG']\n",
      "\tcaption/abstract ['M2E6L0-0R350B362', '1']\n",
      "\n",
      "43\n",
      "\tsub-location ['Hope Mountain', 'Hope Mountain-2015-1']\n",
      "\tby-line ['Ken Vanden Heuvel ', 'Ken Vanden Heuvel']\n",
      "\tkeywords [['snowshoe hare'], ['unidentified']]\n",
      "\tobject name ['Lynx ', '<no value>']\n",
      "\tfile_path ['data/second_sample/Hope Mountain/Hope Mountain-2015-1/01.01.15-02.01.15/11280082.JPG', 'data/second_sample/Hope Mountain/Hope Mountain-2015-1/11.22.14-2.1.15/11280082.JPG']\n",
      "\tcaption/abstract ['M2E6L0-0R350B362', '1']\n",
      "\n",
      "44\n",
      "\tsub-location ['Hope Mountain', 'Hope Mountain-2015-1']\n",
      "\tby-line ['Ken Vanden Heuvel ', 'Ken Vanden Heuvel']\n",
      "\tkeywords [['snowshoe hare'], ['unidentified']]\n",
      "\tobject name ['Lynx ', '<no value>']\n",
      "\tfile_path ['data/second_sample/Hope Mountain/Hope Mountain-2015-1/01.01.15-02.01.15/11300161.JPG', 'data/second_sample/Hope Mountain/Hope Mountain-2015-1/11.22.14-2.1.15/11300161.JPG']\n",
      "\tcaption/abstract ['M2E6L0-0R350B362', '1']\n",
      "\n",
      "45\n",
      "\tsub-location ['Hope Mountain', 'Hope Mountain-2015-1']\n",
      "\tby-line ['Ken Vanden Heuvel ', 'Ken Vanden Heuvel']\n",
      "\tobject name ['Lynx ', '<no value>']\n",
      "\tfile_path ['data/second_sample/Hope Mountain/Hope Mountain-2015-1/01.01.15-02.01.15/11240031.JPG', 'data/second_sample/Hope Mountain/Hope Mountain-2015-1/11.22.14-2.1.15/11240031.JPG']\n",
      "\tcaption/abstract ['M2E6L0-0R350B362', '1']\n",
      "\n",
      "46\n",
      "\tsub-location ['Hope Mountain-2015-1', 'Hope Mountain']\n",
      "\tby-line ['Ken Vanden Heuvel', 'Ken Vanden Heuvel ']\n",
      "\tobject name ['<no value>', 'Lynx ']\n",
      "\tfile_path ['data/second_sample/Hope Mountain/Hope Mountain-2015-1/11.22.14-2.1.15/01010228.JPG', 'data/second_sample/Hope Mountain/Hope Mountain-2015-2/01010228.JPG']\n",
      "\n"
     ]
    }
   ],
   "source": [
    "duplicate_data = [[mh.build_dictionary(i) for i in sublist] for sublist in duplicates]\n",
    "\n",
    "count = 0\n",
    "for sublist in duplicate_data:\n",
    "    if len(sublist) == 2:\n",
    "        print count\n",
    "        count +=1\n",
    "        for k in max(sublist).iterkeys():\n",
    "            results = [d[k] if k in d else '<no value>' for d in sublist]\n",
    "            if results[0] != results[1]:\n",
    "                print '\\t', k, results\n",
    "        print"
   ]
  },
  {
   "cell_type": "code",
   "execution_count": 9,
   "metadata": {
    "collapsed": false
   },
   "outputs": [
    {
     "name": "stdout",
     "output_type": "stream",
     "text": [
      "('WARNING: problems with charset recognition', \"'\\\\x1b'\")\n",
      "('WARNING: problems with charset recognition', \"'\\\\x1b'\")\n",
      "dup5a keywords:  ['snowshoe hare']\n",
      "dup5b keywords:  ['unidentified']\n"
     ]
    }
   ],
   "source": [
    "dup5a = mh.build_dictionary('../data/second_sample/Hope Mountain/Hope Mountain-2015-1/01.01.15-02.01.15/11300135.JPG')\n",
    "dup5b = mh.build_dictionary('../data/second_sample/Hope Mountain/Hope Mountain-2015-1/11.22.14-2.1.15/11300135.JPG')\n",
    "print 'dup5a keywords: ', dup5a['keywords']\n",
    "print 'dup5b keywords: ', dup5b['keywords']"
   ]
  },
  {
   "cell_type": "code",
   "execution_count": 10,
   "metadata": {
    "collapsed": false
   },
   "outputs": [
    {
     "name": "stdout",
     "output_type": "stream",
     "text": [
      "\n",
      "date created :  20141124\n",
      "date created :  20141124\n",
      "copyright notice :  Conservation Northwest\n",
      "copyright notice :  Conservation Northwest\n",
      "sub-location :  Hope Mountain\n",
      "sub-location :  Hope Mountain-2015-1\n",
      "by-line :  Ken Vanden Heuvel \n",
      "by-line :  Ken Vanden Heuvel\n",
      "supplemental category :  []\n",
      "supplemental category :  []\n",
      "contact :  []\n",
      "contact :  []\n",
      "time created :  185349\n",
      "time created :  185349\n",
      "keywords :  ['unidentified']\n",
      "keywords :  ['unidentified']\n",
      "object name :  Lynx \n",
      "object name :  <no value>\n",
      "file_path :  data/second_sample/Hope Mountain/Hope Mountain-2015-1/01.01.15-02.01.15/11240036.JPG\n",
      "file_path :  data/second_sample/Hope Mountain/Hope Mountain-2015-1/11.22.14-2.1.15/11240036.JPG\n",
      "caption/abstract :  M2E6L0-0R350B362\n",
      "caption/abstract :  1\n"
     ]
    }
   ],
   "source": [
    "sublist = duplicate_data[1]\n",
    "print\n",
    "for k in max(sublist).iterkeys():\n",
    "    if sublist[0] != sublist[1]:\n",
    "        print k, \": \", sublist[0].get(k, '<no value>')\n",
    "        print k, \": \", sublist[1].get(k, '<no value>')"
   ]
  },
  {
   "cell_type": "code",
   "execution_count": null,
   "metadata": {
    "collapsed": false
   },
   "outputs": [],
   "source": []
  },
  {
   "cell_type": "markdown",
   "metadata": {},
   "source": [
    "## Full List of Duplicates:"
   ]
  },
  {
   "cell_type": "code",
   "execution_count": 27,
   "metadata": {
    "collapsed": false
   },
   "outputs": [],
   "source": [
    "with open('../data/duplicate_list.json', 'r') as fh:\n",
    "    all_duplicates = json.load(fh)\n"
   ]
  },
  {
   "cell_type": "code",
   "execution_count": null,
   "metadata": {
    "collapsed": false
   },
   "outputs": [],
   "source": []
  },
  {
   "cell_type": "code",
   "execution_count": null,
   "metadata": {
    "collapsed": true
   },
   "outputs": [],
   "source": []
  }
 ],
 "metadata": {
  "kernelspec": {
   "display_name": "Python [Root]",
   "language": "python",
   "name": "Python [Root]"
  },
  "language_info": {
   "codemirror_mode": {
    "name": "ipython",
    "version": 2
   },
   "file_extension": ".py",
   "mimetype": "text/x-python",
   "name": "python",
   "nbconvert_exporter": "python",
   "pygments_lexer": "ipython2",
   "version": "2.7.12"
  }
 },
 "nbformat": 4,
 "nbformat_minor": 0
}
