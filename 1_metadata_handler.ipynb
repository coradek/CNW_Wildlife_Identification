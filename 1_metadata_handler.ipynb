{
 "cells": [
  {
   "cell_type": "markdown",
   "metadata": {},
   "source": [
    "# Create and test metadata_handler"
   ]
  },
  {
   "cell_type": "code",
   "execution_count": 15,
   "metadata": {
    "collapsed": false
   },
   "outputs": [],
   "source": [
    "import src.metadata_handler as mdh\n",
    "\n",
    "%autoreload 2"
   ]
  },
  {
   "cell_type": "code",
   "execution_count": 16,
   "metadata": {
    "collapsed": true
   },
   "outputs": [],
   "source": [
    "from iptcinfo import IPTCInfo\n",
    "from iptcinfo import IPTCData\n",
    "import json\n",
    "\n",
    "from iptcinfo import c_datasets, c_datasets_r\n",
    "\n",
    "import os\n",
    "import pandas as pd\n",
    "import numpy as np\n",
    "\n",
    "import boto3"
   ]
  },
  {
   "cell_type": "code",
   "execution_count": 25,
   "metadata": {
    "collapsed": false
   },
   "outputs": [
    {
     "name": "stdout",
     "output_type": "stream",
     "text": [
      "('WARNING: problems with charset recognition', \"'\\\\x1b'\")\n"
     ]
    }
   ],
   "source": [
    "a_photo = 'first_sample/EK000025-2.JPG'\n",
    "info = IPTCInfo(a_photo)\n",
    "data_dict = dict(info.data)\n",
    "info_field_nums = set(data_dict.keys())\n",
    "test_set = set(['a', 'b', 'c'])"
   ]
  },
  {
   "cell_type": "code",
   "execution_count": 265,
   "metadata": {
    "collapsed": false
   },
   "outputs": [],
   "source": [
    "# rework get_fields to \n",
    "def get_fields(directory):\n",
    "    ## strip '/' only if it is at the end\n",
    "    #  otherwise it may mess with nested dirs\n",
    "    #  (e.g. sample/photo/set)\n",
    "    # directory = directory.strip('/')\n",
    "    field_set = set()\n",
    "    for p, dirs, files in os.walk(directory):\n",
    "        for ff in files:\n",
    "            if ff[-4:] == '.JPG':\n",
    "                info = IPTCInfo(directory+'/'+ ff)\n",
    "                data_dict = dict(info.data)\n",
    "                fields = set(data_dict.keys())\n",
    "                field_set = field_set.union(fields)                \n",
    "    return field_set\n"
   ]
  },
  {
   "cell_type": "code",
   "execution_count": 276,
   "metadata": {
    "collapsed": false
   },
   "outputs": [],
   "source": [
    "# fields = set([])\n",
    "# fields = get_fields('first_sample/')\n",
    "# fields"
   ]
  },
  {
   "cell_type": "markdown",
   "metadata": {},
   "source": [
    "# SQL direct from photo?\n",
    "\n",
    "Signature: info.exportSQL(tablename, mappings, extra)\n",
    "Docstring:\n",
    "statement = info.exportSQL('mytable', mappings, extra-data)\n",
    "\n",
    "mappings = {\n",
    "    'IPTC dataset name here': 'your table column name here',\n",
    "    'caption/abstract': 'caption',\n",
    "    'city': 'city',\n",
    "    'province/state': 'state} # etc etc etc.\n",
    "\n",
    "Returns a SQL statement to insert into your given table name a set\n",
    "of values from the image. Caller passes in a reference to a hash\n",
    "which maps IPTC dataset names into column names for the database\n",
    "table. Optionally pass in a ref to a hash of extra data which will\n",
    "also be included in the insert statement. Keys in that hash must\n",
    "be valid column names."
   ]
  },
  {
   "cell_type": "markdown",
   "metadata": {},
   "source": [
    "### Create SQL table\n",
    "\n",
    "```\n",
    "<table name>\n",
    "    |\n",
    "    |- <col name = field name>\n",
    "    |- ...\n",
    "    |- ...\n",
    "    |\n",
    "    |- <some way to reference/retrieve photo\n",
    "```\n",
    "\n",
    "### Use IPTCInfo to import metadata\n",
    "\n",
    "```python\n",
    "for photo in photos:\n",
    "    info = IPTCInfo(photo)\n",
    "    info.exportSQL('<table name>', map{})\n",
    "```    "
   ]
  },
  {
   "cell_type": "code",
   "execution_count": null,
   "metadata": {
    "collapsed": true
   },
   "outputs": [],
   "source": []
  },
  {
   "cell_type": "markdown",
   "metadata": {},
   "source": [
    "# JSON from metadata"
   ]
  },
  {
   "cell_type": "code",
   "execution_count": 154,
   "metadata": {
    "collapsed": false
   },
   "outputs": [],
   "source": [
    "def set_to_dict(field_set):\n",
    "    field_dict = {}\n",
    "    for field in field_set:\n",
    "        field_dict[field] = c_datasets[field]\n",
    "    return field_dict"
   ]
  },
  {
   "cell_type": "code",
   "execution_count": 277,
   "metadata": {
    "collapsed": false
   },
   "outputs": [],
   "source": [
    "# field_dict = set_to_dict(fields)\n",
    "# field_dict"
   ]
  },
  {
   "cell_type": "code",
   "execution_count": 216,
   "metadata": {
    "collapsed": false
   },
   "outputs": [],
   "source": [
    "field_dict[999] = 'fake field'\n",
    "\n",
    "def Mdata_dictionary(photo):\n",
    "    ''' get a photos metadata as dict '''\n",
    "\n",
    "    # return relevant data for a photo\n",
    "    dd = {}\n",
    "    info = IPTCInfo(photo)\n",
    "    data_dict = dict(info.data)         \n",
    "    for field in field_dict.keys():\n",
    "        if data_dict.has_key(field):\n",
    "            # print field_dict[field],' : ', data_dict[field]\n",
    "            dd[field_dict[field]] = data_dict[field]\n",
    "        else:\n",
    "            print field\n",
    "            # dd[field_dict[k]] = None\n",
    "    print dd\n",
    "    return dd\n",
    "\n",
    "def Mdata_to_json(photo, outfile):\n",
    "    with open(outfile, 'a') as outf:\n",
    "        json.dump(Mdata_dictionary(photo), outf, indent = 4)\n"
   ]
  },
  {
   "cell_type": "code",
   "execution_count": 268,
   "metadata": {
    "collapsed": false
   },
   "outputs": [],
   "source": [
    "# Mdata_to_json('first_sample/EK000004.JPG', 'test.json')"
   ]
  },
  {
   "cell_type": "code",
   "execution_count": 269,
   "metadata": {
    "collapsed": false
   },
   "outputs": [],
   "source": [
    "# field_dict"
   ]
  },
  {
   "cell_type": "markdown",
   "metadata": {
    "collapsed": true
   },
   "source": [
    "# Data Base!"
   ]
  },
  {
   "cell_type": "code",
   "execution_count": 273,
   "metadata": {
    "collapsed": false
   },
   "outputs": [],
   "source": [
    "db = pd.read_json('data/test_DB.json')"
   ]
  },
  {
   "cell_type": "code",
   "execution_count": 275,
   "metadata": {
    "collapsed": false
   },
   "outputs": [
    {
     "data": {
      "text/html": [
       "<div>\n",
       "<table border=\"1\" class=\"dataframe\">\n",
       "  <thead>\n",
       "    <tr style=\"text-align: right;\">\n",
       "      <th></th>\n",
       "      <th>0</th>\n",
       "      <th>1</th>\n",
       "      <th>2</th>\n",
       "      <th>3</th>\n",
       "      <th>4</th>\n",
       "    </tr>\n",
       "  </thead>\n",
       "  <tbody>\n",
       "    <tr>\n",
       "      <th>by-line</th>\n",
       "      <td>Cathy Clark</td>\n",
       "      <td>Picasa</td>\n",
       "      <td>Cathy Clark</td>\n",
       "      <td>Picasa</td>\n",
       "      <td>Cathy Clark</td>\n",
       "    </tr>\n",
       "    <tr>\n",
       "      <th>caption/abstract</th>\n",
       "      <td>M2E32L107-108R390B311</td>\n",
       "      <td>NaN</td>\n",
       "      <td>1</td>\n",
       "      <td>NaN</td>\n",
       "      <td>1</td>\n",
       "    </tr>\n",
       "    <tr>\n",
       "      <th>contact</th>\n",
       "      <td>[]</td>\n",
       "      <td>[]</td>\n",
       "      <td>[]</td>\n",
       "      <td>[]</td>\n",
       "      <td>[]</td>\n",
       "    </tr>\n",
       "    <tr>\n",
       "      <th>copyright notice</th>\n",
       "      <td>Conservation Northwest</td>\n",
       "      <td>NaN</td>\n",
       "      <td>Conservation Northwest</td>\n",
       "      <td>NaN</td>\n",
       "      <td>Conservation Northwest</td>\n",
       "    </tr>\n",
       "    <tr>\n",
       "      <th>date created</th>\n",
       "      <td>2.01505e+07</td>\n",
       "      <td>NaN</td>\n",
       "      <td>2.01506e+07</td>\n",
       "      <td>NaN</td>\n",
       "      <td>2.01201e+07</td>\n",
       "    </tr>\n",
       "    <tr>\n",
       "      <th>file_path</th>\n",
       "      <td>first_sample/EK000004-2.JPG</td>\n",
       "      <td>first_sample/EK000004.JPG</td>\n",
       "      <td>first_sample/EK000010-2.JPG</td>\n",
       "      <td>first_sample/EK000010.JPG</td>\n",
       "      <td>first_sample/EK000011-2.JPG</td>\n",
       "    </tr>\n",
       "    <tr>\n",
       "      <th>keywords</th>\n",
       "      <td>[Camera Check]</td>\n",
       "      <td>[camera check]</td>\n",
       "      <td>[hoary marmot]</td>\n",
       "      <td>[marmot]</td>\n",
       "      <td>[hoary marmot]</td>\n",
       "    </tr>\n",
       "    <tr>\n",
       "      <th>object name</th>\n",
       "      <td>wolverine</td>\n",
       "      <td>NaN</td>\n",
       "      <td>wolverine</td>\n",
       "      <td>NaN</td>\n",
       "      <td>wolverine</td>\n",
       "    </tr>\n",
       "    <tr>\n",
       "      <th>sub-location</th>\n",
       "      <td>Blackjack Ridge-2015-1</td>\n",
       "      <td>NaN</td>\n",
       "      <td>Blackjack Ridge-2015-1</td>\n",
       "      <td>NaN</td>\n",
       "      <td>Blackjack Ridge-2015-1</td>\n",
       "    </tr>\n",
       "    <tr>\n",
       "      <th>supplemental category</th>\n",
       "      <td>[]</td>\n",
       "      <td>[]</td>\n",
       "      <td>[]</td>\n",
       "      <td>[]</td>\n",
       "      <td>[]</td>\n",
       "    </tr>\n",
       "    <tr>\n",
       "      <th>time created</th>\n",
       "      <td>114952</td>\n",
       "      <td>NaN</td>\n",
       "      <td>145440</td>\n",
       "      <td>NaN</td>\n",
       "      <td>25440</td>\n",
       "    </tr>\n",
       "  </tbody>\n",
       "</table>\n",
       "</div>"
      ],
      "text/plain": [
       "                                                 0                          1  \\\n",
       "by-line                                Cathy Clark                     Picasa   \n",
       "caption/abstract             M2E32L107-108R390B311                        NaN   \n",
       "contact                                         []                         []   \n",
       "copyright notice            Conservation Northwest                        NaN   \n",
       "date created                           2.01505e+07                        NaN   \n",
       "file_path              first_sample/EK000004-2.JPG  first_sample/EK000004.JPG   \n",
       "keywords                            [Camera Check]             [camera check]   \n",
       "object name                              wolverine                        NaN   \n",
       "sub-location                Blackjack Ridge-2015-1                        NaN   \n",
       "supplemental category                           []                         []   \n",
       "time created                                114952                        NaN   \n",
       "\n",
       "                                                 2                          3  \\\n",
       "by-line                                Cathy Clark                     Picasa   \n",
       "caption/abstract                                 1                        NaN   \n",
       "contact                                         []                         []   \n",
       "copyright notice            Conservation Northwest                        NaN   \n",
       "date created                           2.01506e+07                        NaN   \n",
       "file_path              first_sample/EK000010-2.JPG  first_sample/EK000010.JPG   \n",
       "keywords                            [hoary marmot]                   [marmot]   \n",
       "object name                              wolverine                        NaN   \n",
       "sub-location                Blackjack Ridge-2015-1                        NaN   \n",
       "supplemental category                           []                         []   \n",
       "time created                                145440                        NaN   \n",
       "\n",
       "                                                 4  \n",
       "by-line                                Cathy Clark  \n",
       "caption/abstract                                 1  \n",
       "contact                                         []  \n",
       "copyright notice            Conservation Northwest  \n",
       "date created                           2.01201e+07  \n",
       "file_path              first_sample/EK000011-2.JPG  \n",
       "keywords                            [hoary marmot]  \n",
       "object name                              wolverine  \n",
       "sub-location                Blackjack Ridge-2015-1  \n",
       "supplemental category                           []  \n",
       "time created                                 25440  "
      ]
     },
     "execution_count": 275,
     "metadata": {},
     "output_type": "execute_result"
    }
   ],
   "source": [
    "db.head().T"
   ]
  },
  {
   "cell_type": "markdown",
   "metadata": {
    "collapsed": true
   },
   "source": [
    "# AWS and boto3 conversion"
   ]
  },
  {
   "cell_type": "code",
   "execution_count": 17,
   "metadata": {
    "collapsed": false
   },
   "outputs": [],
   "source": [
    "# http://docs.aws.amazon.com/AmazonS3/latest/dev/UsingBucket.html#access-bucket-intro\n",
    "\n",
    "s3 = boto3.resource('s3')\n",
    "photo_bucket = s3.Bucket('cnwphotos')\n"
   ]
  },
  {
   "cell_type": "markdown",
   "metadata": {},
   "source": [
    "```python\n",
    "s3_client = boto3.client('s3')\n",
    "open('hello.txt').write('Hello, world!')\n",
    "\n",
    "# Upload the file to S3\n",
    "s3_client.upload_file('hello.txt', 'MyBucket', 'hello-remote.txt')\n",
    "\n",
    "# Download the file from S3\n",
    "s3_client.download_file('MyBucket', 'hello-remote.txt', 'hello2.txt')\n",
    "print(open('hello2.txt').read())\n",
    "\n",
    "```"
   ]
  },
  {
   "cell_type": "code",
   "execution_count": 20,
   "metadata": {
    "collapsed": true
   },
   "outputs": [],
   "source": [
    "for bucket in s3.buckets.all():\n",
    "    print(bucket.name)\n",
    "    \n",
    "# # Upload a new file\n",
    "# data = open('test.jpg', 'rb')\n",
    "# s3.Bucket('my-bucket').put_object(Key='test.jpg', Body=data)\n",
    "\n",
    "# size = sum(1 for _ in photo_bucket.objects.all())\n",
    "# size\n",
    "\n",
    "photo_list = list(photo_bucket.objects.limit(10))\n",
    "    "
   ]
  },
  {
   "cell_type": "code",
   "execution_count": 24,
   "metadata": {
    "collapsed": false
   },
   "outputs": [
    {
     "data": {
      "text/plain": [
       "{u'AcceptRanges': 'bytes',\n",
       " u'Body': <botocore.response.StreamingBody at 0x117654b50>,\n",
       " u'ContentLength': 466275,\n",
       " u'ContentType': 'image/jpeg',\n",
       " u'ETag': '\"64a6a8a6fe9f6c21f85f87df64d1281c\"',\n",
       " u'LastModified': datetime.datetime(2016, 11, 4, 4, 59, 48, tzinfo=tzutc()),\n",
       " u'Metadata': {},\n",
       " 'ResponseMetadata': {'HTTPHeaders': {'accept-ranges': 'bytes',\n",
       "   'content-length': '466275',\n",
       "   'content-type': 'image/jpeg',\n",
       "   'date': 'Thu, 10 Nov 2016 01:01:32 GMT',\n",
       "   'etag': '\"64a6a8a6fe9f6c21f85f87df64d1281c\"',\n",
       "   'last-modified': 'Fri, 04 Nov 2016 04:59:48 GMT',\n",
       "   'server': 'AmazonS3',\n",
       "   'x-amz-id-2': 'z9bTM88d4o8bH/M/WcuKPtODG/oCQ8X7N81mQo/BcnZKpFS3nFSaZpyb3KYLKFruEJ8aBuY+FnY=',\n",
       "   'x-amz-request-id': '31E7DF83BE6BFFCA'},\n",
       "  'HTTPStatusCode': 200,\n",
       "  'HostId': 'z9bTM88d4o8bH/M/WcuKPtODG/oCQ8X7N81mQo/BcnZKpFS3nFSaZpyb3KYLKFruEJ8aBuY+FnY=',\n",
       "  'RequestId': '31E7DF83BE6BFFCA',\n",
       "  'RetryAttempts': 0}}"
      ]
     },
     "execution_count": 24,
     "metadata": {},
     "output_type": "execute_result"
    }
   ],
   "source": [
    "photo_list[0].get()"
   ]
  },
  {
   "cell_type": "code",
   "execution_count": 22,
   "metadata": {
    "collapsed": false
   },
   "outputs": [],
   "source": [
    "# mdh.build_dictionary(photo_list[0].get())"
   ]
  },
  {
   "cell_type": "code",
   "execution_count": 23,
   "metadata": {
    "collapsed": true
   },
   "outputs": [],
   "source": [
    "client = s3.meta.client"
   ]
  },
  {
   "cell_type": "code",
   "execution_count": null,
   "metadata": {
    "collapsed": true
   },
   "outputs": [],
   "source": [
    "client.download_file('cnwphotos', )"
   ]
  }
 ],
 "metadata": {
  "anaconda-cloud": {},
  "kernelspec": {
   "display_name": "Python [Root]",
   "language": "python",
   "name": "Python [Root]"
  },
  "language_info": {
   "codemirror_mode": {
    "name": "ipython",
    "version": 2
   },
   "file_extension": ".py",
   "mimetype": "text/x-python",
   "name": "python",
   "nbconvert_exporter": "python",
   "pygments_lexer": "ipython2",
   "version": "2.7.12"
  }
 },
 "nbformat": 4,
 "nbformat_minor": 0
}
