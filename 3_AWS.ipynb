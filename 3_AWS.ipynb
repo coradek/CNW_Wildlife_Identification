{
 "cells": [
  {
   "cell_type": "markdown",
   "metadata": {},
   "source": [
    "# AWS, S3, EC2/EWR setup and interface"
   ]
  },
  {
   "cell_type": "code",
   "execution_count": 36,
   "metadata": {
    "collapsed": true
   },
   "outputs": [],
   "source": [
    "import boto3\n",
    "\n",
    "import src.metadata_handler as mdh\n",
    "import src.clean_db as cdb\n",
    "%autoreload 2"
   ]
  },
  {
   "cell_type": "markdown",
   "metadata": {},
   "source": [
    "EXAMPLE FROM WEB\n",
    "```python\n",
    "s3_client = boto3.client('s3')\n",
    "open('hello.txt').write('Hello, world!')\n",
    "\n",
    "# Upload the file to S3\n",
    "s3_client.upload_file('hello.txt', 'MyBucket', 'hello-remote.txt')\n",
    "\n",
    "# Download the file from S3\n",
    "s3_client.download_file('MyBucket', 'hello-remote.txt', 'hello2.txt')\n",
    "print(open('hello2.txt').read())\n",
    "\n",
    "```"
   ]
  },
  {
   "cell_type": "markdown",
   "metadata": {},
   "source": [
    "## access bucket through boto3 - get metadata from a photo"
   ]
  },
  {
   "cell_type": "code",
   "execution_count": 2,
   "metadata": {
    "collapsed": true
   },
   "outputs": [],
   "source": [
    "# http://docs.aws.amazon.com/AmazonS3/latest/dev/UsingBucket.html#access-bucket-intro\n",
    "\n",
    "s3 = boto3.resource('s3')\n",
    "photo_bucket = s3.Bucket('cnwphotos')"
   ]
  },
  {
   "cell_type": "code",
   "execution_count": 17,
   "metadata": {
    "collapsed": false
   },
   "outputs": [
    {
     "name": "stdout",
     "output_type": "stream",
     "text": [
      "aws-logs-618291926003-us-west-2\n",
      "cnwphotos\n",
      "individualassignment\n"
     ]
    }
   ],
   "source": [
    "# for bucket in s3.buckets.all():\n",
    "#     print(bucket.name)\n",
    "\n",
    "photo_list = list(photo_bucket.objects.limit(100))\n",
    "\n",
    "print 'photo_list item:\\n',photo_list[63]\n",
    "\n",
    "photo = photo_list[63].key\n",
    "\n",
    "print '\\nPHOTO:\\n',photo\n",
    "\n",
    "client = s3.meta.client\n",
    "\n",
    "client.download_file('cnwphotos', photo, 'temp_photo.jpg')\n",
    "\n",
    "test_dict = mdh.build_dictionary('temp_photo.jpg', source = 's3')\n",
    "test_dict"
   ]
  },
  {
   "cell_type": "markdown",
   "metadata": {},
   "source": [
    "# Test mdh.aws class functionality"
   ]
  },
  {
   "cell_type": "code",
   "execution_count": 31,
   "metadata": {
    "collapsed": false
   },
   "outputs": [],
   "source": [
    "aws_trial = mdh.aws('cnwphotos')"
   ]
  },
  {
   "cell_type": "code",
   "execution_count": 35,
   "metadata": {
    "collapsed": false
   },
   "outputs": [
    {
     "name": "stdout",
     "output_type": "stream",
     "text": [
      "('WARNING: problems with charset recognition', \"'\\\\x1b'\")\n",
      "('WARNING: problems with charset recognition', \"'\\\\x1b'\")\n",
      "('WARNING: problems with charset recognition', \"'\\\\x1b'\")\n",
      "('WARNING: problems with charset recognition', \"'\\\\x1b'\")\n",
      "('WARNING: problems with charset recognition', \"'\\\\x1b'\")\n",
      "('WARNING: problems with charset recognition', \"'\\\\x1b'\")\n",
      "('WARNING: problems with charset recognition', \"'\\\\x1b'\")\n",
      "('WARNING: problems with charset recognition', \"'\\\\x1b'\")\n",
      "('WARNING: problems with charset recognition', \"'\\\\x1b'\")\n",
      "('WARNING: problems with charset recognition', \"'\\\\x1b'\")\n",
      "('WARNING: problems with charset recognition', \"'\\\\x1b'\")\n",
      "('WARNING: problems with charset recognition', \"'\\\\x1b'\")\n",
      "('WARNING: problems with charset recognition', \"'\\\\x1b'\")\n",
      "('WARNING: problems with charset recognition', \"'\\\\x1b'\")\n",
      "('WARNING: problems with charset recognition', \"'\\\\x1b'\")\n",
      "('WARNING: problems with charset recognition', \"'\\\\x1b'\")\n",
      "('WARNING: problems with charset recognition', \"'\\\\x1b'\")\n",
      "('WARNING: problems with charset recognition', \"'\\\\x1b'\")\n",
      "('WARNING: problems with charset recognition', \"'\\\\x1b'\")\n",
      "('WARNING: problems with charset recognition', \"'\\\\x1b'\")\n",
      "('WARNING: problems with charset recognition', \"'\\\\x1b'\")\n",
      "('WARNING: problems with charset recognition', \"'\\\\x1b'\")\n",
      "('WARNING: problems with charset recognition', \"'\\\\x1b'\")\n",
      "('WARNING: problems with charset recognition', \"'\\\\x1b'\")\n",
      "('WARNING: problems with charset recognition', \"'\\\\x1b'\")\n",
      "('WARNING: problems with charset recognition', \"'\\\\x1b'\")\n",
      "('WARNING: problems with charset recognition', \"'\\\\x1b'\")\n",
      "('WARNING: problems with charset recognition', \"'\\\\x1b'\")\n",
      "('WARNING: problems with charset recognition', \"'\\\\x1b'\")\n",
      "('WARNING: problems with charset recognition', \"'\\\\x1b'\")\n",
      "('WARNING: problems with charset recognition', \"'\\\\x1b'\")\n",
      "('WARNING: problems with charset recognition', \"'\\\\x1b'\")\n",
      "('WARNING: problems with charset recognition', \"'\\\\x1b'\")\n",
      "('WARNING: problems with charset recognition', \"'\\\\x1b'\")\n",
      "('WARNING: problems with charset recognition', \"'\\\\x1b'\")\n",
      "('WARNING: problems with charset recognition', \"'\\\\x1b'\")\n",
      "('WARNING: problems with charset recognition', \"'\\\\x1b'\")\n",
      "('WARNING: problems with charset recognition', \"'\\\\x1b'\")\n",
      "('WARNING: problems with charset recognition', \"'\\\\x1b'\")\n",
      "('WARNING: problems with charset recognition', \"'\\\\x1b'\")\n",
      "('WARNING: problems with charset recognition', \"'\\\\x1b'\")\n",
      "('WARNING: problems with charset recognition', \"'\\\\x1b'\")\n",
      "('WARNING: problems with charset recognition', \"'\\\\x1b'\")\n",
      "('WARNING: problems with charset recognition', \"'\\\\x1b'\")\n",
      "('WARNING: problems with charset recognition', \"'\\\\x1b'\")\n",
      "('WARNING: problems with charset recognition', \"'\\\\x1b'\")\n",
      "('WARNING: problems with charset recognition', \"'\\\\x1b'\")\n",
      "('WARNING: problems with charset recognition', \"'\\\\x1b'\")\n",
      "('WARNING: problems with charset recognition', \"'\\\\x1b'\")\n",
      "('WARNING: problems with charset recognition', \"'\\\\x1b'\")\n",
      "('WARNING: problems with charset recognition', \"'\\\\x1b'\")\n",
      "('WARNING: problems with charset recognition', \"'\\\\x1b'\")\n",
      "('WARNING: problems with charset recognition', \"'\\\\x1b'\")\n",
      "('WARNING: problems with charset recognition', \"'\\\\x1b'\")\n",
      "('WARNING: problems with charset recognition', \"'\\\\x1b'\")\n",
      "('WARNING: problems with charset recognition', \"'\\\\x1b'\")\n",
      "('WARNING: problems with charset recognition', \"'\\\\x1b'\")\n",
      "('WARNING: problems with charset recognition', \"'\\\\x1b'\")\n",
      "('WARNING: problems with charset recognition', \"'\\\\x1b'\")\n",
      "('WARNING: problems with charset recognition', \"'\\\\x1b'\")\n",
      "('WARNING: problems with charset recognition', \"'\\\\x1b'\")\n",
      "('WARNING: problems with charset recognition', \"'\\\\x1b'\")\n",
      "('WARNING: problems with charset recognition', \"'\\\\x1b'\")\n",
      "('WARNING: problems with charset recognition', \"'\\\\x1b'\")\n",
      "('WARNING: problems with charset recognition', \"'\\\\x1b'\")\n",
      "('WARNING: problems with charset recognition', \"'\\\\x1b'\")\n",
      "('WARNING: problems with charset recognition', \"'\\\\x1b'\")\n",
      "('WARNING: problems with charset recognition', \"'\\\\x1b'\")\n",
      "('WARNING: problems with charset recognition', \"'\\\\x1b'\")\n",
      "('WARNING: problems with charset recognition', \"'\\\\x1b'\")\n",
      "('WARNING: problems with charset recognition', \"'\\\\x1b'\")\n",
      "('WARNING: problems with charset recognition', \"'\\\\x1b'\")\n",
      "('WARNING: problems with charset recognition', \"'\\\\x1b'\")\n",
      "('WARNING: problems with charset recognition', \"'\\\\x1b'\")\n",
      "('WARNING: problems with charset recognition', \"'\\\\x1b'\")\n",
      "('WARNING: problems with charset recognition', \"'\\\\x1b'\")\n",
      "('WARNING: problems with charset recognition', \"'\\\\x1b'\")\n",
      "('WARNING: problems with charset recognition', \"'\\\\x1b'\")\n",
      "('WARNING: problems with charset recognition', \"'\\\\x1b'\")\n",
      "('WARNING: problems with charset recognition', \"'\\\\x1b'\")\n",
      "('WARNING: problems with charset recognition', \"'\\\\x1b'\")\n",
      "('WARNING: problems with charset recognition', \"'\\\\x1b'\")\n",
      "('WARNING: problems with charset recognition', \"'\\\\x1b'\")\n",
      "('WARNING: problems with charset recognition', \"'\\\\x1b'\")\n",
      "('WARNING: problems with charset recognition', \"'\\\\x1b'\")\n",
      "('WARNING: problems with charset recognition', \"'\\\\x1b'\")\n",
      "('WARNING: problems with charset recognition', \"'\\\\x1b'\")\n",
      "('WARNING: problems with charset recognition', \"'\\\\x1b'\")\n",
      "('WARNING: problems with charset recognition', \"'\\\\x1b'\")\n",
      "('WARNING: problems with charset recognition', \"'\\\\x1b'\")\n",
      "('WARNING: problems with charset recognition', \"'\\\\x1b'\")\n",
      "('WARNING: problems with charset recognition', \"'\\\\x1b'\")\n",
      "('WARNING: problems with charset recognition', \"'\\\\x1b'\")\n",
      "('WARNING: problems with charset recognition', \"'\\\\x1b'\")\n",
      "('WARNING: problems with charset recognition', \"'\\\\x1b'\")\n",
      "('WARNING: problems with charset recognition', \"'\\\\x1b'\")\n",
      "('WARNING: problems with charset recognition', \"'\\\\x1b'\")\n",
      "('WARNING: problems with charset recognition', \"'\\\\x1b'\")\n",
      "('WARNING: problems with charset recognition', \"'\\\\x1b'\")\n",
      "('WARNING: problems with charset recognition', \"'\\\\x1b'\")\n",
      "('WARNING: problems with charset recognition', \"'\\\\x1b'\")\n",
      "('WARNING: problems with charset recognition', \"'\\\\x1b'\")\n",
      "('WARNING: problems with charset recognition', \"'\\\\x1b'\")\n",
      "('WARNING: problems with charset recognition', \"'\\\\x1b'\")\n",
      "('WARNING: problems with charset recognition', \"'\\\\x1b'\")\n",
      "('WARNING: problems with charset recognition', \"'\\\\x1b'\")\n",
      "('WARNING: problems with charset recognition', \"'\\\\x1b'\")\n",
      "('WARNING: problems with charset recognition', \"'\\\\x1b'\")\n",
      "('WARNING: problems with charset recognition', \"'\\\\x1b'\")\n",
      "('WARNING: problems with charset recognition', \"'\\\\x1b'\")\n",
      "('WARNING: problems with charset recognition', \"'\\\\x1b'\")\n",
      "('WARNING: problems with charset recognition', \"'\\\\x1b'\")\n",
      "('WARNING: problems with charset recognition', \"'\\\\x1b'\")\n",
      "('WARNING: problems with charset recognition', \"'\\\\x1b'\")\n",
      "('WARNING: problems with charset recognition', \"'\\\\x1b'\")\n",
      "('WARNING: problems with charset recognition', \"'\\\\x1b'\")\n",
      "('WARNING: problems with charset recognition', \"'\\\\x1b'\")\n",
      "('WARNING: problems with charset recognition', \"'\\\\x1b'\")\n",
      "('WARNING: problems with charset recognition', \"'\\\\x1b'\")\n",
      "('WARNING: problems with charset recognition', \"'\\\\x1b'\")\n",
      "('WARNING: problems with charset recognition', \"'\\\\x1b'\")\n",
      "('WARNING: problems with charset recognition', \"'\\\\x1b'\")\n",
      "('WARNING: problems with charset recognition', \"'\\\\x1b'\")\n",
      "('WARNING: problems with charset recognition', \"'\\\\x1b'\")\n",
      "('WARNING: problems with charset recognition', \"'\\\\x1b'\")\n",
      "('WARNING: problems with charset recognition', \"'\\\\x1b'\")\n",
      "('WARNING: problems with charset recognition', \"'\\\\x1b'\")\n",
      "('WARNING: problems with charset recognition', \"'\\\\x1b'\")\n",
      "('WARNING: problems with charset recognition', \"'\\\\x1b'\")\n",
      "('WARNING: problems with charset recognition', \"'\\\\x1b'\")\n",
      "('WARNING: problems with charset recognition', \"'\\\\x1b'\")\n",
      "('WARNING: problems with charset recognition', \"'\\\\x1b'\")\n",
      "('WARNING: problems with charset recognition', \"'\\\\x1b'\")\n",
      "('WARNING: problems with charset recognition', \"'\\\\x1b'\")\n",
      "('WARNING: problems with charset recognition', \"'\\\\x1b'\")\n",
      "('WARNING: problems with charset recognition', \"'\\\\x1b'\")\n",
      "('WARNING: problems with charset recognition', \"'\\\\x1b'\")\n",
      "('WARNING: problems with charset recognition', \"'\\\\x1b'\")\n",
      "('WARNING: problems with charset recognition', \"'\\\\x1b'\")\n",
      "('WARNING: problems with charset recognition', \"'\\\\x1b'\")\n",
      "('WARNING: problems with charset recognition', \"'\\\\x1b'\")\n",
      "('WARNING: problems with charset recognition', \"'\\\\x1b'\")\n",
      "('WARNING: problems with charset recognition', \"'\\\\x1b'\")\n",
      "('WARNING: problems with charset recognition', \"'\\\\x1b'\")\n",
      "('WARNING: problems with charset recognition', \"'\\\\x1b'\")\n",
      "('WARNING: problems with charset recognition', \"'\\\\x1b'\")\n",
      "('WARNING: problems with charset recognition', \"'\\\\x1b'\")\n",
      "('WARNING: problems with charset recognition', \"'\\\\x1b'\")\n",
      "('WARNING: problems with charset recognition', \"'\\\\x1b'\")\n",
      "('WARNING: problems with charset recognition', \"'\\\\x1b'\")\n",
      "('WARNING: problems with charset recognition', \"'\\\\x1b'\")\n",
      "('WARNING: problems with charset recognition', \"'\\\\x1b'\")\n",
      "('WARNING: problems with charset recognition', \"'\\\\x1b'\")\n",
      "('WARNING: problems with charset recognition', \"'\\\\x1b'\")\n",
      "('WARNING: problems with charset recognition', \"'\\\\x1b'\")\n",
      "('WARNING: problems with charset recognition', \"'\\\\x1b'\")\n",
      "('WARNING: problems with charset recognition', \"'\\\\x1b'\")\n",
      "('WARNING: problems with charset recognition', \"'\\\\x1b'\")\n",
      "('WARNING: problems with charset recognition', \"'\\\\x1b'\")\n",
      "('WARNING: problems with charset recognition', \"'\\\\x1b'\")\n",
      "('WARNING: problems with charset recognition', \"'\\\\x1b'\")\n",
      "('WARNING: problems with charset recognition', \"'\\\\x1b'\")\n",
      "('WARNING: problems with charset recognition', \"'\\\\x1b'\")\n",
      "('WARNING: problems with charset recognition', \"'\\\\x1b'\")\n",
      "('WARNING: problems with charset recognition', \"'\\\\x1b'\")\n",
      "('WARNING: problems with charset recognition', \"'\\\\x1b'\")\n",
      "('WARNING: problems with charset recognition', \"'\\\\x1b'\")\n",
      "('WARNING: problems with charset recognition', \"'\\\\x1b'\")\n",
      "('WARNING: problems with charset recognition', \"'\\\\x1b'\")\n",
      "('WARNING: problems with charset recognition', \"'\\\\x1b'\")\n",
      "('WARNING: problems with charset recognition', \"'\\\\x1b'\")\n",
      "('WARNING: problems with charset recognition', \"'\\\\x1b'\")\n",
      "('WARNING: problems with charset recognition', \"'\\\\x1b'\")\n",
      "('WARNING: problems with charset recognition', \"'\\\\x1b'\")\n",
      "('WARNING: problems with charset recognition', \"'\\\\x1b'\")\n",
      "('WARNING: problems with charset recognition', \"'\\\\x1b'\")\n",
      "('WARNING: problems with charset recognition', \"'\\\\x1b'\")\n",
      "('WARNING: problems with charset recognition', \"'\\\\x1b'\")\n",
      "('WARNING: problems with charset recognition', \"'\\\\x1b'\")\n",
      "('WARNING: problems with charset recognition', \"'\\\\x1b'\")\n",
      "('WARNING: problems with charset recognition', \"'\\\\x1b'\")\n",
      "('WARNING: problems with charset recognition', \"'\\\\x1b'\")\n",
      "('WARNING: problems with charset recognition', \"'\\\\x1b'\")\n",
      "('WARNING: problems with charset recognition', \"'\\\\x1b'\")\n",
      "('WARNING: problems with charset recognition', \"'\\\\x1b'\")\n",
      "('WARNING: problems with charset recognition', \"'\\\\x1b'\")\n",
      "('WARNING: problems with charset recognition', \"'\\\\x1b'\")\n",
      "('WARNING: problems with charset recognition', \"'\\\\x1b'\")\n",
      "('WARNING: problems with charset recognition', \"'\\\\x1b'\")\n",
      "('WARNING: problems with charset recognition', \"'\\\\x1b'\")\n",
      "('WARNING: problems with charset recognition', \"'\\\\x1b'\")\n",
      "('WARNING: problems with charset recognition', \"'\\\\x1b'\")\n",
      "('WARNING: problems with charset recognition', \"'\\\\x1b'\")\n",
      "('WARNING: problems with charset recognition', \"'\\\\x1b'\")\n",
      "('WARNING: problems with charset recognition', \"'\\\\x1b'\")\n",
      "('WARNING: problems with charset recognition', \"'\\\\x1b'\")\n",
      "('WARNING: problems with charset recognition', \"'\\\\x1b'\")\n",
      "('WARNING: problems with charset recognition', \"'\\\\x1b'\")\n",
      "('WARNING: problems with charset recognition', \"'\\\\x1b'\")\n",
      "('WARNING: problems with charset recognition', \"'\\\\x1b'\")\n"
     ]
    }
   ],
   "source": [
    "aws_trial.build_json_database('data/aws_trialDB.json')"
   ]
  },
  {
   "cell_type": "code",
   "execution_count": 37,
   "metadata": {
    "collapsed": true
   },
   "outputs": [],
   "source": [
    "df = cdb.process_data('data/aws_trialDB.json')"
   ]
  },
  {
   "cell_type": "code",
   "execution_count": 39,
   "metadata": {
    "collapsed": false
   },
   "outputs": [
    {
     "data": {
      "text/html": [
       "<div>\n",
       "<table border=\"1\" class=\"dataframe\">\n",
       "  <thead>\n",
       "    <tr style=\"text-align: right;\">\n",
       "      <th></th>\n",
       "      <th>0</th>\n",
       "      <th>1</th>\n",
       "      <th>2</th>\n",
       "      <th>3</th>\n",
       "      <th>4</th>\n",
       "    </tr>\n",
       "  </thead>\n",
       "  <tbody>\n",
       "    <tr>\n",
       "      <th>by_line</th>\n",
       "      <td>NaN</td>\n",
       "      <td>NaN</td>\n",
       "      <td>NaN</td>\n",
       "      <td>NaN</td>\n",
       "      <td>NaN</td>\n",
       "    </tr>\n",
       "    <tr>\n",
       "      <th>caption_abstract</th>\n",
       "      <td>NaN</td>\n",
       "      <td>NaN</td>\n",
       "      <td>NaN</td>\n",
       "      <td>NaN</td>\n",
       "      <td>NaN</td>\n",
       "    </tr>\n",
       "    <tr>\n",
       "      <th>contact</th>\n",
       "      <td>[]</td>\n",
       "      <td>[]</td>\n",
       "      <td>[]</td>\n",
       "      <td>[]</td>\n",
       "      <td>[]</td>\n",
       "    </tr>\n",
       "    <tr>\n",
       "      <th>copyright_notice</th>\n",
       "      <td>NaN</td>\n",
       "      <td>NaN</td>\n",
       "      <td>NaN</td>\n",
       "      <td>NaN</td>\n",
       "      <td>NaN</td>\n",
       "    </tr>\n",
       "    <tr>\n",
       "      <th>date_created</th>\n",
       "      <td>None</td>\n",
       "      <td>None</td>\n",
       "      <td>None</td>\n",
       "      <td>None</td>\n",
       "      <td>None</td>\n",
       "    </tr>\n",
       "    <tr>\n",
       "      <th>keywords</th>\n",
       "      <td>[camera check]</td>\n",
       "      <td>[camera check]</td>\n",
       "      <td>[camera check]</td>\n",
       "      <td>[camera check]</td>\n",
       "      <td>[camera check]</td>\n",
       "    </tr>\n",
       "    <tr>\n",
       "      <th>object_name</th>\n",
       "      <td>NaN</td>\n",
       "      <td>NaN</td>\n",
       "      <td>NaN</td>\n",
       "      <td>NaN</td>\n",
       "      <td>NaN</td>\n",
       "    </tr>\n",
       "    <tr>\n",
       "      <th>photo_address</th>\n",
       "      <td>CNW Photos/Grizzly Bear Target Species/Green L...</td>\n",
       "      <td>CNW Photos/Grizzly Bear Target Species/Green L...</td>\n",
       "      <td>CNW Photos/Grizzly Bear Target Species/Green L...</td>\n",
       "      <td>CNW Photos/Grizzly Bear Target Species/Green L...</td>\n",
       "      <td>CNW Photos/Grizzly Bear Target Species/Green L...</td>\n",
       "    </tr>\n",
       "    <tr>\n",
       "      <th>sub_location</th>\n",
       "      <td>NaN</td>\n",
       "      <td>NaN</td>\n",
       "      <td>NaN</td>\n",
       "      <td>NaN</td>\n",
       "      <td>NaN</td>\n",
       "    </tr>\n",
       "    <tr>\n",
       "      <th>supplemental_category</th>\n",
       "      <td>[]</td>\n",
       "      <td>[]</td>\n",
       "      <td>[]</td>\n",
       "      <td>[]</td>\n",
       "      <td>[]</td>\n",
       "    </tr>\n",
       "    <tr>\n",
       "      <th>time_created</th>\n",
       "      <td>None</td>\n",
       "      <td>None</td>\n",
       "      <td>None</td>\n",
       "      <td>None</td>\n",
       "      <td>None</td>\n",
       "    </tr>\n",
       "  </tbody>\n",
       "</table>\n",
       "</div>"
      ],
      "text/plain": [
       "                                                                       0  \\\n",
       "by_line                                                              NaN   \n",
       "caption_abstract                                                     NaN   \n",
       "contact                                                               []   \n",
       "copyright_notice                                                     NaN   \n",
       "date_created                                                        None   \n",
       "keywords                                                  [camera check]   \n",
       "object_name                                                          NaN   \n",
       "photo_address          CNW Photos/Grizzly Bear Target Species/Green L...   \n",
       "sub_location                                                         NaN   \n",
       "supplemental_category                                                 []   \n",
       "time_created                                                        None   \n",
       "\n",
       "                                                                       1  \\\n",
       "by_line                                                              NaN   \n",
       "caption_abstract                                                     NaN   \n",
       "contact                                                               []   \n",
       "copyright_notice                                                     NaN   \n",
       "date_created                                                        None   \n",
       "keywords                                                  [camera check]   \n",
       "object_name                                                          NaN   \n",
       "photo_address          CNW Photos/Grizzly Bear Target Species/Green L...   \n",
       "sub_location                                                         NaN   \n",
       "supplemental_category                                                 []   \n",
       "time_created                                                        None   \n",
       "\n",
       "                                                                       2  \\\n",
       "by_line                                                              NaN   \n",
       "caption_abstract                                                     NaN   \n",
       "contact                                                               []   \n",
       "copyright_notice                                                     NaN   \n",
       "date_created                                                        None   \n",
       "keywords                                                  [camera check]   \n",
       "object_name                                                          NaN   \n",
       "photo_address          CNW Photos/Grizzly Bear Target Species/Green L...   \n",
       "sub_location                                                         NaN   \n",
       "supplemental_category                                                 []   \n",
       "time_created                                                        None   \n",
       "\n",
       "                                                                       3  \\\n",
       "by_line                                                              NaN   \n",
       "caption_abstract                                                     NaN   \n",
       "contact                                                               []   \n",
       "copyright_notice                                                     NaN   \n",
       "date_created                                                        None   \n",
       "keywords                                                  [camera check]   \n",
       "object_name                                                          NaN   \n",
       "photo_address          CNW Photos/Grizzly Bear Target Species/Green L...   \n",
       "sub_location                                                         NaN   \n",
       "supplemental_category                                                 []   \n",
       "time_created                                                        None   \n",
       "\n",
       "                                                                       4  \n",
       "by_line                                                              NaN  \n",
       "caption_abstract                                                     NaN  \n",
       "contact                                                               []  \n",
       "copyright_notice                                                     NaN  \n",
       "date_created                                                        None  \n",
       "keywords                                                  [camera check]  \n",
       "object_name                                                          NaN  \n",
       "photo_address          CNW Photos/Grizzly Bear Target Species/Green L...  \n",
       "sub_location                                                         NaN  \n",
       "supplemental_category                                                 []  \n",
       "time_created                                                        None  "
      ]
     },
     "execution_count": 39,
     "metadata": {},
     "output_type": "execute_result"
    }
   ],
   "source": [
    "df.head().T"
   ]
  },
  {
   "cell_type": "code",
   "execution_count": 40,
   "metadata": {
    "collapsed": false
   },
   "outputs": [
    {
     "data": {
      "text/plain": [
       "200"
      ]
     },
     "execution_count": 40,
     "metadata": {},
     "output_type": "execute_result"
    }
   ],
   "source": [
    "len(df.by_line)"
   ]
  },
  {
   "cell_type": "code",
   "execution_count": 48,
   "metadata": {
    "collapsed": false
   },
   "outputs": [
    {
     "data": {
      "text/plain": [
       "89"
      ]
     },
     "execution_count": 48,
     "metadata": {},
     "output_type": "execute_result"
    }
   ],
   "source": [
    "df.time_created.count(None)"
   ]
  },
  {
   "cell_type": "code",
   "execution_count": null,
   "metadata": {
    "collapsed": true
   },
   "outputs": [],
   "source": []
  }
 ],
 "metadata": {
  "kernelspec": {
   "display_name": "Python [Root]",
   "language": "python",
   "name": "Python [Root]"
  },
  "language_info": {
   "codemirror_mode": {
    "name": "ipython",
    "version": 2
   },
   "file_extension": ".py",
   "mimetype": "text/x-python",
   "name": "python",
   "nbconvert_exporter": "python",
   "pygments_lexer": "ipython2",
   "version": "2.7.12"
  }
 },
 "nbformat": 4,
 "nbformat_minor": 0
}
