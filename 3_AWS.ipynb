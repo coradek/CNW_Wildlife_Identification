{
 "cells": [
  {
   "cell_type": "markdown",
   "metadata": {},
   "source": [
    "# AWS, S3, EC2/EWR setup and interface"
   ]
  },
  {
   "cell_type": "code",
   "execution_count": 1,
   "metadata": {
    "collapsed": true
   },
   "outputs": [],
   "source": [
    "import boto3\n",
    "\n",
    "import src.metadata_handler as mdh\n",
    "%autoreload 2"
   ]
  },
  {
   "cell_type": "markdown",
   "metadata": {},
   "source": [
    "```python\n",
    "s3_client = boto3.client('s3')\n",
    "open('hello.txt').write('Hello, world!')\n",
    "\n",
    "# Upload the file to S3\n",
    "s3_client.upload_file('hello.txt', 'MyBucket', 'hello-remote.txt')\n",
    "\n",
    "# Download the file from S3\n",
    "s3_client.download_file('MyBucket', 'hello-remote.txt', 'hello2.txt')\n",
    "print(open('hello2.txt').read())\n",
    "\n",
    "```"
   ]
  },
  {
   "cell_type": "code",
   "execution_count": 2,
   "metadata": {
    "collapsed": true
   },
   "outputs": [],
   "source": [
    "# http://docs.aws.amazon.com/AmazonS3/latest/dev/UsingBucket.html#access-bucket-intro\n",
    "\n",
    "s3 = boto3.resource('s3')\n",
    "photo_bucket = s3.Bucket('cnwphotos')"
   ]
  },
  {
   "cell_type": "code",
   "execution_count": 17,
   "metadata": {
    "collapsed": false
   },
   "outputs": [
    {
     "name": "stdout",
     "output_type": "stream",
     "text": [
      "aws-logs-618291926003-us-west-2\n",
      "cnwphotos\n",
      "individualassignment\n"
     ]
    }
   ],
   "source": [
    "for bucket in s3.buckets.all():\n",
    "    print(bucket.name)\n",
    "\n",
    "photo_list = list(photo_bucket.objects.limit(100))"
   ]
  },
  {
   "cell_type": "code",
   "execution_count": 29,
   "metadata": {
    "collapsed": false
   },
   "outputs": [
    {
     "name": "stdout",
     "output_type": "stream",
     "text": [
      "photo_list item:\n",
      "s3.ObjectSummary(bucket_name='cnwphotos', key=u'CNW Photos/Grizzly Bear Target Species/Green Lake/Green Lake-2015-1/Green Lake-2015-1_06.13.15-07.18.15/07180257.JPG')\n",
      "\n",
      "PHOTO:\n",
      "CNW Photos/Grizzly Bear Target Species/Green Lake/Green Lake-2015-1/Green Lake-2015-1_06.13.15-07.18.15/07180257.JPG\n",
      "('WARNING: problems with charset recognition', \"'\\\\x1b'\")\n"
     ]
    },
    {
     "data": {
      "text/plain": [
       "{'by-line': 'Jacob Richardson',\n",
       " 'caption/abstract': '',\n",
       " 'contact': [],\n",
       " 'copyright notice': 'Conservation Northwest',\n",
       " 'date created': '20150718',\n",
       " 'file_path': 'THE CLOUD',\n",
       " 'keywords': ['Camera Check'],\n",
       " 'object name': 'Grizzly bear, rub tree',\n",
       " 'sub-location': 'Green Lake-2015-1',\n",
       " 'supplemental category': [],\n",
       " 'time created': '113919'}"
      ]
     },
     "execution_count": 29,
     "metadata": {},
     "output_type": "execute_result"
    }
   ],
   "source": [
    "print 'photo_list item:\\n',photo_list[63]\n",
    "\n",
    "photo = photo_list[63].key\n",
    "\n",
    "print '\\nPHOTO:\\n',photo\n",
    "\n",
    "client = s3.meta.client\n",
    "\n",
    "client.download_file('cnwphotos', photo, 'temp_photo.jpg')\n",
    "\n",
    "test_dict = mdh.build_dictionary('temp_photo.jpg', source = 's3')\n",
    "test_dict"
   ]
  },
  {
   "cell_type": "code",
   "execution_count": null,
   "metadata": {
    "collapsed": false
   },
   "outputs": [],
   "source": []
  },
  {
   "cell_type": "code",
   "execution_count": null,
   "metadata": {
    "collapsed": true
   },
   "outputs": [],
   "source": []
  }
 ],
 "metadata": {
  "kernelspec": {
   "display_name": "Python [Root]",
   "language": "python",
   "name": "Python [Root]"
  },
  "language_info": {
   "codemirror_mode": {
    "name": "ipython",
    "version": 2
   },
   "file_extension": ".py",
   "mimetype": "text/x-python",
   "name": "python",
   "nbconvert_exporter": "python",
   "pygments_lexer": "ipython2",
   "version": "2.7.12"
  }
 },
 "nbformat": 4,
 "nbformat_minor": 0
}
